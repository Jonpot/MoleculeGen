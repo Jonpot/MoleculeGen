{
 "cells": [
  {
   "cell_type": "code",
   "execution_count": 383,
   "metadata": {},
   "outputs": [],
   "source": [
    "# Import necessary libraries\n",
    "import pandas as pd\n",
    "import numpy as np\n",
    "import torch\n",
    "import torch.nn as nn\n",
    "from torch.utils.data import Dataset\n",
    "from rdkit import Chem\n",
    "from rdkit.Chem import AllChem\n",
    "from torch_geometric.data import Data\n",
    "from torch_geometric.loader import DataLoader\n",
    "from torch.utils.data import TensorDataset\n",
    "from torch.nn.utils.rnn import pad_sequence\n",
    "import torch.nn.functional as F\n",
    "from torch_geometric.nn import global_mean_pool\n",
    "from sklearn.decomposition import PCA\n",
    "from sklearn.metrics import accuracy_score\n",
    "import matplotlib.pyplot as plt\n",
    "from sklearn.metrics import roc_curve, auc\n",
    "from models.HEGNN import HEGNN  \n",
    "from rdkit.Chem import rdMolTransforms\n",
    "#If using earlier than python3.9 version\n",
    "from typing import Tuple, List\n"
   ]
  },
  {
   "cell_type": "code",
   "execution_count": 384,
   "metadata": {},
   "outputs": [],
   "source": [
    "# Load the data\n",
    "train_df = pd.read_csv('Processed/Combined_Training.txt', sep = '\\t')\n",
    "val_df = pd.read_csv('Processed/Combined_Validate.txt', sep = '\\t')\n",
    "test_df =pd.read_csv('Processed/Combined_Test.txt', sep = '\\t')\n",
    "\n",
    "# While testing, only use the first 500 samples\n",
    "# train_df = train_df.iloc[:500]\n",
    "# val_df = val_df.iloc[:500]\n",
    "# test_df = test_df.iloc[:500]\n"
   ]
  },
  {
   "cell_type": "code",
   "execution_count": 385,
   "metadata": {},
   "outputs": [],
   "source": [
    "def balance_datasets(dataframe: pd.DataFrame) -> pd.DataFrame:\n",
    "\n",
    "    \"\"\"\n",
    "    This filters the dataset to have a X:1 ratio of 0 value mols to 1 value mols\n",
    "    Args:\n",
    "        dataframe (pd.DataFrame): the dataset dataframe\n",
    "    Return:\n",
    "        pd.DataFrame: the filtered dataframe\n",
    "    \n",
    "    \"\"\"\n",
    "    function_one_df = dataframe[dataframe['Function'] == 1]\n",
    "    function_zero_df = dataframe[dataframe['Function'] == 0]\n",
    "\n",
    "    num_function_one = function_one_df.shape[0]\n",
    "\n",
    "    # Calculate the number of rows to take from 'Function' == 0 (X:1 ratio)\n",
    "    num_function_zero = min(1 * num_function_one, function_zero_df.shape[0]) #2* \n",
    "\n",
    "    balanced_function_zero_df = function_zero_df.sample(n=num_function_zero, random_state=42)\n",
    "    balanced_train_df = pd.concat([function_one_df, balanced_function_zero_df])\n",
    "\n",
    "    return balanced_train_df"
   ]
  },
  {
   "cell_type": "code",
   "execution_count": 386,
   "metadata": {},
   "outputs": [],
   "source": [
    "train_df = balance_datasets(train_df)\n",
    "val_df = balance_datasets(val_df)\n",
    "test_df = balance_datasets(test_df)"
   ]
  },
  {
   "cell_type": "code",
   "execution_count": 387,
   "metadata": {},
   "outputs": [],
   "source": [
    "torch.manual_seed(42)\n",
    "np.random.seed(42)"
   ]
  },
  {
   "cell_type": "code",
   "execution_count": 388,
   "metadata": {},
   "outputs": [],
   "source": [
    "map_element_to_one_hot = {\n",
    "        1: 0, #hydrogen\n",
    "        6: 1, #carbon\n",
    "        7: 2, #nitrogen\n",
    "        9: 3, #fluorine\n",
    "        5: 4, #boron\n",
    "        15: 5, #phosphorous\n",
    "        8: 6, #oxygen\n",
    "        17: 7, #chlorine\n",
    "        16: 8, #sulfur\n",
    "        35: 9, #bromine\n",
    "        13: 10, #aluminium\n",
    "        33: 11, #arsenic\n",
    "        53: 12, #iodine\n",
    "        80: 13, #mercury\n",
    "        14: 14, #silicon\n",
    "        50: 15, #tin\n",
    "        83: 16, #bismuth\n",
    "    }\n",
    "\n",
    "#inverts map_element_to_one_hot\n",
    "map_one_hot_to_element = {value: key for key, value in map_element_to_one_hot.items()}\n",
    "\n"
   ]
  },
  {
   "cell_type": "code",
   "execution_count": 389,
   "metadata": {},
   "outputs": [],
   "source": [
    "def encode_atomic_number(atomic_number: int) -> list:\n",
    "    \"\"\"\n",
    "    Encodes the atomic number into one-hot encoding\n",
    "    Note: Should we be including hydrogen? that can only form one bond\n",
    "    \"\"\"\n",
    "    # element_mapping = {\n",
    "    #     1: 0, #hydrogen\n",
    "    #     6: 1, #carbon\n",
    "    #     7: 2, #nitrogen\n",
    "    #     9: 3, #fluorine\n",
    "    #     5: 4, #boron\n",
    "    #     15: 5, #phosphorous\n",
    "    #     8: 6, #oxygen\n",
    "    #     17: 7, #chlorine\n",
    "    #     16: 8, #sulfur\n",
    "    #     35: 9, #bromine\n",
    "    #     13: 10, #aluminium\n",
    "    #     33: 11, #arsenic\n",
    "    #     53: 12, #iodine\n",
    "    #     80: 13, #mercury\n",
    "    #     14: 14, #silicon\n",
    "    #     50: 15, #tin\n",
    "    #     83: 16, #bismuth\n",
    "        \n",
    "    # }\n",
    "\n",
    "    element_index = map_element_to_one_hot[atomic_number]\n",
    "    vector_length = len(map_element_to_one_hot.keys())\n",
    "    one_hot_encoding = [0 for i in range(vector_length)]\n",
    "    one_hot_encoding[element_index] = 1\n",
    "    return one_hot_encoding #, vector_length"
   ]
  },
  {
   "cell_type": "code",
   "execution_count": 390,
   "metadata": {},
   "outputs": [],
   "source": [
    "from tqdm import tqdm\n",
    "class MoleculeDataset(Dataset):\n",
    "    \"\"\"\n",
    "    Custom Dataset for molecule data.\n",
    "\n",
    "    Args:\n",
    "        dataframe (pd.DataFrame): DataFrame containing molecule data.\n",
    "    \"\"\"\n",
    "    def __init__(self, dataframe: pd.DataFrame):\n",
    "        self.data_list = []\n",
    "        #self.smiles = None\n",
    "        for idx, row in tqdm(dataframe.iterrows(), total=len(dataframe)):\n",
    "            smiles = row['SMILE']\n",
    "            label = row['Function']\n",
    "            try:\n",
    "                mol = Chem.MolFromSmiles(smiles)\n",
    "            except:\n",
    "                mol = None\n",
    "                print(f'Failed to process SMILES: {smiles}')\n",
    "            if mol is None:\n",
    "                continue\n",
    "            data = mol_to_graph_data(mol, smiles)\n",
    "            if data is None:\n",
    "                print(\"Data was None\")\n",
    "                continue\n",
    "            data.y = torch.tensor([label], dtype=torch.float)\n",
    "            self.data_list.append(data)\n",
    "\n",
    "    def __len__(self) -> int:\n",
    "        return len(self.data_list)\n",
    "\n",
    "    def __getitem__(self, idx: int):\n",
    "        return self.data_list[idx]\n",
    "\n",
    "def atom_features(atom):\n",
    "    \"\"\"\n",
    "    Returns a list of atom features.\n",
    "\n",
    "    Args:\n",
    "        atom (Chem.Atom): RDKit atom object.\n",
    "\n",
    "    Returns:\n",
    "        List[float]: List of features.\n",
    "    \"\"\"\n",
    "    features = []\n",
    "    atomic_number = atom.GetAtomicNum()\n",
    "    atomic_number_encoded = encode_atomic_number(atomic_number)\n",
    "    for val in atomic_number_encoded:\n",
    "        features.append(val)\n",
    "    #features.append(atom.GetAtomicNum())\n",
    "    features.append(atom.GetDegree())\n",
    "    features.append(atom.GetFormalCharge())\n",
    "    features.append(atom.GetNumRadicalElectrons())\n",
    "    features.append(int(atom.GetHybridization()))\n",
    "    features.append(int(atom.GetIsAromatic()))\n",
    "    features.append(atom.IsInRing())\n",
    "    features.append(int(atom.GetIsAromatic()))\n",
    "    features.append(atom.GetMass())\n",
    "    # New features\n",
    "    features.append(get_atomic_radius(atom))    # Atomic radius\n",
    "    features.append(get_vdw_radius(atom))       # van der Waals radius\n",
    "    features.append(get_chirality(atom))        # Chirality (0, 1, 2)\n",
    "    return features \n",
    "\n",
    "\n",
    "# Function to check molecule validity\n",
    "def is_valid_molecule(mol):\n",
    "    \"\"\"Sanity check for molecule validity after adding hydrogens.\"\"\"\n",
    "    try:\n",
    "        Chem.SanitizeMol(mol)\n",
    "        return True\n",
    "    except Exception as e:\n",
    "        print(f\"Sanitization failed: {e}\")\n",
    "        return False\n",
    "\n",
    "\n",
    "# Function to convert bond types to numeric values \n",
    "def bond_type_to_numeric(bond_type): \n",
    "     bond_mapping = {'SINGLE': 0, 'DOUBLE': 1, 'TRIPLE': 2, 'AROMATIC': 3} \n",
    "     return bond_mapping.get(bond_type, -1) \n",
    "\n",
    "\n",
    "# Function to calculate bond angles \n",
    "def calc_bond_angle(mol, atom1_idx, atom2_idx): \n",
    "     neighbors1 = [nbr.GetIdx() for nbr in mol.GetAtomWithIdx(atom1_idx).GetNeighbors() if nbr.GetIdx() != atom2_idx] \n",
    "     neighbors2 = [nbr.GetIdx() for nbr in mol.GetAtomWithIdx(atom2_idx).GetNeighbors() if nbr.GetIdx() != atom1_idx] \n",
    "     if neighbors1 and neighbors2: \n",
    "         return rdMolTransforms.GetAngleDeg(mol.GetConformer(), neighbors1[0], atom1_idx, atom2_idx)\n",
    "     return None \n",
    "\n",
    "\n",
    "# Function to check if a bond is rotatable \n",
    "def is_rotatable_bond(bond): \n",
    "     if bond.GetBondType() != Chem.rdchem.BondType.SINGLE:\n",
    "         return False \n",
    "     return (not bond.GetBeginAtom().IsInRing() and bond.GetBeginAtom().GetDegree() > 1 and \n",
    "             not bond.GetEndAtom().IsInRing() and bond.GetEndAtom().GetDegree() > 1)\n",
    "\n",
    "\n",
    "# Conformer generation with fallback \n",
    "def generate_conformer(mol, max_attempts=1000): \n",
    "     params = AllChem.ETKDG()\n",
    "     params.maxAttempts = max_attempts\n",
    "     try: \n",
    "         success = AllChem.EmbedMolecule(mol, params)\n",
    "         if success == -1: \n",
    "             return None  # Failed to generate conformer \n",
    "         try: \n",
    "             AllChem.UFFOptimizeMolecule(mol) \n",
    "         except ValueError: \n",
    "             if not AllChem.MMFFOptimizeMolecule(mol): \n",
    "                 return None \n",
    "     except Exception as e: \n",
    "         print(f'Conformer generation error: {e}') \n",
    "         return None \n",
    "     return mol \n",
    "\n",
    "\n",
    "\n",
    "\n",
    "def mol_to_graph_data(mol: Chem.Mol, smiles_name) -> Data:\n",
    "    \"\"\"\n",
    "    Converts an RDKit Mol object to a PyTorch Geometric Data object.\n",
    "\n",
    "    Args:\n",
    "        mol (Chem.Mol): RDKit molecule object.\n",
    "\n",
    "    Returns:\n",
    "        data (Data): PyTorch Geometric Data object.\n",
    "    \"\"\"\n",
    "    # Add hydrogens and generate 3D coordinates\n",
    "    mol = Chem.AddHs(mol)\n",
    "    if not is_valid_molecule(mol):  # Validate molecule after adding Hs\n",
    "        print(f\"Invalid molecule after adding hydrogens: {smiles_name}\")\n",
    "        return None\n",
    "    \n",
    "    mol = generate_conformer(mol)\n",
    "    if mol is None:\n",
    "        return None\n",
    "    \n",
    "    # Nodes\n",
    "    node_feats = []\n",
    "    node_positions = []\n",
    "    for atom in mol.GetAtoms():\n",
    "        node_feats.append(atom_features(atom))\n",
    "        pos = mol.GetConformer().GetAtomPosition(atom.GetIdx())\n",
    "        node_positions.append([pos.x, pos.y, pos.z])\n",
    "    node_feats = torch.tensor(node_feats, dtype=torch.float)\n",
    "    node_positions = torch.tensor(node_positions, dtype=torch.float)\n",
    "    \n",
    "    # Edges\n",
    "    edge_index = []\n",
    "    edge_attrs = []\n",
    "    for bond in mol.GetBonds():\n",
    "        i = bond.GetBeginAtomIdx()\n",
    "        j = bond.GetEndAtomIdx()\n",
    "        edge_index.extend([[i, j], [j, i]])  # Undirected\n",
    "        \n",
    "        bond_type_numeric = bond_type_to_numeric(str(bond.GetBondType()))\n",
    "        bond_angle = calc_bond_angle(mol, i, j)\n",
    "        rotatable = is_rotatable_bond(bond)\n",
    "\n",
    "        atom1_type = mol.GetAtomWithIdx(i).GetAtomicNum()\n",
    "        atom2_type = mol.GetAtomWithIdx(j).GetAtomicNum()\n",
    "\n",
    "        edge_attrs.extend([\n",
    "            [bond_type_numeric, bond_angle or 0.0, int(rotatable), atom1_type, atom2_type],\n",
    "            [bond_type_numeric, bond_angle or 0.0, int(rotatable), atom2_type, atom1_type]  # Reverse direction\n",
    "    ])\n",
    "        \n",
    "    edge_index = torch.tensor(edge_index, dtype=torch.long).t().contiguous()\n",
    "    edge_attrs = torch.tensor(edge_attrs, dtype=torch.float)\n",
    "    \n",
    "    # Node velocities as small random values\n",
    "    node_velocities = torch.randn_like(node_positions) * 0.01\n",
    "    \n",
    "    data = Data(\n",
    "        x=node_feats,\n",
    "        pos=node_positions,\n",
    "        vel=node_velocities,\n",
    "        edge_index=edge_index,\n",
    "        edge_attr=edge_attrs,\n",
    "        smiles=smiles_name\n",
    "        #atom_encoding_length=encoding_length\n",
    "    )\n",
    "    return data\n"
   ]
  },
  {
   "cell_type": "code",
   "execution_count": 391,
   "metadata": {},
   "outputs": [
    {
     "name": "stderr",
     "output_type": "stream",
     "text": [
      " 27%|██▋       | 113/422 [00:14<00:27, 11.04it/s][15:45:33] UFFTYPER: Warning: hybridization set to SP3 for atom 20\n",
      "[15:45:33] UFFTYPER: Warning: hybridization set to SP3 for atom 20\n",
      "100%|██████████| 422/422 [00:31<00:00, 13.26it/s]\n",
      "100%|██████████| 90/90 [00:06<00:00, 14.96it/s]\n",
      "100%|██████████| 92/92 [00:06<00:00, 13.87it/s]"
     ]
    },
    {
     "name": "stdout",
     "output_type": "stream",
     "text": [
      "Number of training samples: 422\n",
      "Number of validation samples: 90\n",
      "Number of test samples: 92\n"
     ]
    },
    {
     "name": "stderr",
     "output_type": "stream",
     "text": [
      "\n"
     ]
    }
   ],
   "source": [
    "# Create datasets\n",
    "train_dataset = MoleculeDataset(train_df)\n",
    "val_dataset = MoleculeDataset(val_df)\n",
    "test_dataset = MoleculeDataset(test_df)\n",
    "\n",
    "# Create DataLoaders\n",
    "batch_size = 8 #was 32\n",
    "print(f\"Number of training samples: {len(train_dataset)}\")\n",
    "train_loader = DataLoader(train_dataset, batch_size=batch_size, shuffle=True)\n",
    "print(f\"Number of validation samples: {len(val_dataset)}\")\n",
    "val_loader = DataLoader(val_dataset, batch_size=batch_size)\n",
    "print(f\"Number of test samples: {len(test_dataset)}\")\n",
    "test_loader = DataLoader(test_dataset, batch_size=batch_size)\n"
   ]
  },
  {
   "cell_type": "code",
   "execution_count": 392,
   "metadata": {},
   "outputs": [],
   "source": [
    "# Initialize the HEGNN model and classifier\n",
    "device = torch.device('cuda' if torch.cuda.is_available() else 'cpu')\n",
    "\n",
    "# Define model parameters\n",
    "num_layers = 3\n",
    "mol = Chem.MolFromSmiles('CCO')\n",
    "node_input_dim = len(atom_features(mol.GetAtomWithIdx(0)))\n",
    "edge_attr_dim = 5   # Bond type, angle, rotatable, atom1, atom2\n",
    "hidden_dim = 64\n",
    "max_ell = 2  # Example value\n",
    "\n",
    "# Initialize the HEGNN\n",
    "heg_nn = HEGNN(\n",
    "    num_layer=num_layers,\n",
    "    node_input_dim=node_input_dim,\n",
    "    edge_attr_dim=edge_attr_dim,\n",
    "    hidden_dim=hidden_dim,\n",
    "    max_ell=max_ell,\n",
    "    activation=nn.SiLU(),\n",
    "    device=device\n",
    ").to(device)\n",
    "\n",
    "class HEGNNClassifier(nn.Module):\n",
    "    \"\"\"\n",
    "    Model that combines HEGNN and a linear classifier.\n",
    "\n",
    "    Args:\n",
    "        heg_nn (HEGNN): The HEGNN model.\n",
    "        hidden_dim (int): Dimension of the HEGNN output.\n",
    "    \"\"\"\n",
    "    def __init__(self, heg_nn: HEGNN, hidden_dim: int):\n",
    "        super(HEGNNClassifier, self).__init__()\n",
    "        self.heg_nn = heg_nn\n",
    "        self.classifier = nn.Sequential(\n",
    "            nn.Linear(3, 64),\n",
    "            nn.ReLU(),\n",
    "            nn.Linear(64, 1)\n",
    "        )\n",
    "\n",
    "    def forward(self, data):\n",
    "        node_feat = data.x\n",
    "        node_pos = data.pos\n",
    "        node_vel = data.vel\n",
    "        edge_index = data.edge_index\n",
    "        edge_attr = data.edge_attr\n",
    "        batch = data.batch\n",
    "\n",
    "        node_embeddings = self.heg_nn(node_feat, node_pos, node_vel, edge_index, edge_attr)\n",
    "        graph_embeddings = global_mean_pool(node_embeddings, batch)\n",
    "        out = self.classifier(graph_embeddings)\n",
    "        return out, graph_embeddings\n",
    "\n",
    "# Initialize the classifier model\n",
    "model = HEGNNClassifier(heg_nn, hidden_dim).to(device)\n"
   ]
  },
  {
   "cell_type": "code",
   "execution_count": 393,
   "metadata": {},
   "outputs": [],
   "source": [
    "# Define loss function and optimizer\n",
    "criterion = nn.BCEWithLogitsLoss()\n",
    "optimizer = torch.optim.Adam(model.parameters(), lr=0.001)\n"
   ]
  },
  {
   "cell_type": "code",
   "execution_count": 394,
   "metadata": {},
   "outputs": [],
   "source": [
    "def train(model: nn.Module, loader: DataLoader) -> float:\n",
    "    \"\"\"\n",
    "    Training loop for one epoch.\n",
    "\n",
    "    Args:\n",
    "        model (nn.Module): The model to train.\n",
    "        loader (DataLoader): DataLoader for training data.\n",
    "\n",
    "    Returns:\n",
    "        float: Average loss over the epoch.\n",
    "    \"\"\"\n",
    "    model.train()\n",
    "    total_loss = 0\n",
    "    for data in loader:\n",
    "        data = data.to(device)\n",
    "        optimizer.zero_grad()\n",
    "        out, _ = model(data)\n",
    "        label = data.y.view(-1, 1)\n",
    "        loss = criterion(out, label)\n",
    "        loss.backward()\n",
    "        optimizer.step()\n",
    "        total_loss += loss.item() * data.num_graphs\n",
    "    return total_loss / len(loader.dataset)\n"
   ]
  },
  {
   "cell_type": "code",
   "execution_count": 395,
   "metadata": {},
   "outputs": [],
   "source": [
    "def evaluate(model: nn.Module, loader: DataLoader) -> Tuple[float, np.ndarray, np.ndarray]:\n",
    "    \"\"\"\n",
    "    Evaluation loop.\n",
    "\n",
    "    Args:\n",
    "        model (nn.Module): The model to evaluate.\n",
    "        loader (DataLoader): DataLoader for validation or test data.\n",
    "\n",
    "    Returns:\n",
    "        Tuple[float, np.ndarray, np.ndarray]: Average loss, predictions, and labels.\n",
    "    \"\"\"\n",
    "    model.eval()\n",
    "    total_loss = 0\n",
    "    all_preds = []\n",
    "    all_labels = []\n",
    "    with torch.no_grad():\n",
    "        for data in loader:\n",
    "            data = data.to(device)\n",
    "            out, _ = model(data)\n",
    "            label = data.y.view(-1, 1)\n",
    "            loss = criterion(out, label)\n",
    "            total_loss += loss.item() * data.num_graphs\n",
    "            preds = torch.sigmoid(out).cpu().numpy()\n",
    "            all_preds.extend(preds)\n",
    "            all_labels.extend(label.cpu().numpy())\n",
    "    return total_loss / len(loader.dataset), np.array(all_preds), np.array(all_labels)\n"
   ]
  },
  {
   "cell_type": "code",
   "execution_count": 396,
   "metadata": {},
   "outputs": [],
   "source": [
    "def get_accuracy(predictions: np.ndarray, labels: np.ndarray) -> float:\n",
    "    \"\"\"\n",
    "    Converts sigmoid prediction to binary values and computes accuracy\n",
    "\n",
    "    Args: \n",
    "        predictions (np.ndarray): Sigmoid prediction values\n",
    "        labels (np.ndarray): True binary labels\n",
    "\n",
    "    Returns:\n",
    "        float: The accuracy score\n",
    "    \"\"\"\n",
    "\n",
    "    binary_preds = []\n",
    "    for prediction in predictions:\n",
    "        if prediction >= .5:\n",
    "            binary_preds.append(1)\n",
    "        else:\n",
    "            binary_preds.append(0)\n",
    "    binary_preds = np.array(binary_preds)\n",
    "    accuracy = accuracy_score(binary_preds, labels)\n",
    "\n",
    "    return accuracy"
   ]
  },
  {
   "cell_type": "code",
   "execution_count": 397,
   "metadata": {},
   "outputs": [
    {
     "name": "stdout",
     "output_type": "stream",
     "text": [
      "Epoch 1, Train Loss: 0.6958, Validation Loss: 0.6952, Validation Accuracy: 0.5000\n",
      "Epoch 2, Train Loss: 0.6934, Validation Loss: 0.6941, Validation Accuracy: 0.4667\n",
      "Epoch 3, Train Loss: 0.6914, Validation Loss: 0.6942, Validation Accuracy: 0.4333\n",
      "Epoch 4, Train Loss: 0.6906, Validation Loss: 0.6941, Validation Accuracy: 0.5111\n",
      "Epoch 5, Train Loss: 0.6968, Validation Loss: 0.6944, Validation Accuracy: 0.4556\n",
      "Epoch 6, Train Loss: 0.6926, Validation Loss: 0.6943, Validation Accuracy: 0.4444\n",
      "Epoch 7, Train Loss: 0.6909, Validation Loss: 0.6672, Validation Accuracy: 0.6111\n",
      "Epoch 8, Train Loss: 0.7133, Validation Loss: 0.6834, Validation Accuracy: 0.5889\n",
      "Epoch 9, Train Loss: 0.6836, Validation Loss: 0.6707, Validation Accuracy: 0.5444\n",
      "Epoch 10, Train Loss: 0.6865, Validation Loss: 0.6754, Validation Accuracy: 0.5889\n",
      "Epoch 11, Train Loss: 0.6721, Validation Loss: 0.6722, Validation Accuracy: 0.6444\n",
      "Epoch 12, Train Loss: 0.6701, Validation Loss: 0.6678, Validation Accuracy: 0.5556\n",
      "Epoch 13, Train Loss: 0.6599, Validation Loss: 0.6536, Validation Accuracy: 0.6444\n",
      "Epoch 14, Train Loss: 0.6595, Validation Loss: 0.6586, Validation Accuracy: 0.6333\n",
      "Epoch 15, Train Loss: 0.6674, Validation Loss: 0.6440, Validation Accuracy: 0.6333\n",
      "Epoch 16, Train Loss: 0.6481, Validation Loss: 0.6475, Validation Accuracy: 0.6222\n",
      "Epoch 17, Train Loss: 0.6474, Validation Loss: 0.6330, Validation Accuracy: 0.7111\n",
      "Epoch 18, Train Loss: 0.6474, Validation Loss: 0.6532, Validation Accuracy: 0.6889\n",
      "Epoch 19, Train Loss: 0.6490, Validation Loss: 0.6417, Validation Accuracy: 0.6778\n",
      "Epoch 20, Train Loss: 0.6326, Validation Loss: 0.6516, Validation Accuracy: 0.6778\n"
     ]
    }
   ],
   "source": [
    "# Training loop execution\n",
    "num_epochs = 20\n",
    "for epoch in range(1, num_epochs + 1):\n",
    "    train_loss = train(model, train_loader)\n",
    "    val_loss, val_preds, val_labels = evaluate(model, val_loader)\n",
    "\n",
    "    val_accuracy = get_accuracy(val_preds, val_labels)\n",
    "    \n",
    "    print(f'Epoch {epoch}, Train Loss: {train_loss:.4f}, Validation Loss: {val_loss:.4f}, Validation Accuracy: {val_accuracy:.4f}')\n"
   ]
  },
  {
   "cell_type": "code",
   "execution_count": 398,
   "metadata": {},
   "outputs": [
    {
     "name": "stdout",
     "output_type": "stream",
     "text": [
      "[0.5691081]\n",
      "[0.56582]\n",
      "[0.61784124]\n",
      "[0.5567431]\n",
      "[0.59218603]\n",
      "[0.61717254]\n",
      "[0.6246605]\n",
      "[0.6361861]\n",
      "[0.56316775]\n",
      "[0.5621952]\n",
      "[0.56878483]\n",
      "[0.54124194]\n",
      "[0.55534345]\n",
      "[0.6178418]\n",
      "[0.5667325]\n",
      "[0.55160314]\n",
      "[0.58694154]\n",
      "[0.6188091]\n",
      "[0.5475552]\n",
      "[0.6206747]\n",
      "[0.6100401]\n",
      "[0.62213814]\n",
      "[0.61306787]\n",
      "[0.54145175]\n",
      "[0.541908]\n",
      "[0.6289912]\n",
      "[0.5593012]\n",
      "[0.5585589]\n",
      "[0.5442848]\n",
      "[0.54815006]\n",
      "[0.5456537]\n",
      "[0.60440636]\n",
      "[0.545221]\n",
      "[0.61928326]\n"
     ]
    }
   ],
   "source": [
    "for val in val_preds:\n",
    "    if val > .54:\n",
    "        print(val)\n",
    "#print(val_preds[0:10])"
   ]
  },
  {
   "cell_type": "code",
   "execution_count": 399,
   "metadata": {},
   "outputs": [],
   "source": [
    "def get_embeddings_and_labels(model: nn.Module, loader: DataLoader) -> Tuple[np.ndarray, np.ndarray]:\n",
    "    \"\"\"\n",
    "    Extracts graph embeddings and labels from the model.\n",
    "\n",
    "    Args:\n",
    "        model (nn.Module): The trained model.\n",
    "        loader (DataLoader): DataLoader for the dataset.\n",
    "\n",
    "    Returns:\n",
    "        Tuple[np.ndarray, np.ndarray]: Embeddings and labels.\n",
    "    \"\"\"\n",
    "    model.eval()\n",
    "    embeddings = []\n",
    "    labels = []\n",
    "    with torch.no_grad():\n",
    "        for data in loader:\n",
    "            data = data.to(device)\n",
    "            out, graph_embeddings = model(data)\n",
    "            embeddings.append(graph_embeddings.cpu())\n",
    "            labels.append(data.y.cpu())\n",
    "    embeddings = torch.cat(embeddings, dim=0)\n",
    "    labels = torch.cat(labels, dim=0)\n",
    "    return embeddings.numpy(), labels.numpy()\n"
   ]
  },
  {
   "cell_type": "code",
   "execution_count": 400,
   "metadata": {},
   "outputs": [],
   "source": [
    "# Get embeddings and labels\n",
    "train_embeddings, train_labels = get_embeddings_and_labels(model, train_loader) \n",
    "val_embeddings, val_labels = get_embeddings_and_labels(model, val_loader)\n",
    "test_embeddings, test_labels = get_embeddings_and_labels(model, test_loader)\n"
   ]
  },
  {
   "cell_type": "code",
   "execution_count": 401,
   "metadata": {},
   "outputs": [
    {
     "data": {
      "image/png": "[encoded data removed]",
      "text/plain": [
       "<Figure size 864x432 with 3 Axes>"
      ]
     },
     "metadata": {
      "needs_background": "light"
     },
     "output_type": "display_data"
    }
   ],
   "source": [
    "\n",
    "pca = PCA(n_components=2)\n",
    "train_pca = pca.fit_transform(train_embeddings)\n",
    "val_pca = pca.transform(val_embeddings)\n",
    "test_pca = pca.transform(test_embeddings)\n",
    "\n",
    "# Remove major outliers for better visualization from PCA and labels\n",
    "x_mean = np.mean(train_pca[:, 0])\n",
    "x_std = np.std(train_pca[:, 0])\n",
    "y_mean = np.mean(train_pca[:, 1])\n",
    "y_std = np.std(train_pca[:, 1])\n",
    "\n",
    "# Prune outliers down to 1 standard deviation from the mean\n",
    "pruned_train_pca = train_pca[(train_pca[:, 0] < x_mean + x_std) & (train_pca[:, 0] > x_mean - x_std) &\n",
    "                             (train_pca[:, 1] < y_mean + y_std) & (train_pca[:, 1] > y_mean - y_std)]\n",
    "pruned_train_labels = train_labels[(train_pca[:, 0] < x_mean + x_std) & (train_pca[:, 0] > x_mean - x_std) &\n",
    "                                   (train_pca[:, 1] < y_mean + y_std) & (train_pca[:, 1] > y_mean - y_std)]\n",
    "\n",
    "pruned_val_pca = val_pca[(val_pca[:, 0] < x_mean + x_std) & (val_pca[:, 0] > x_mean - x_std) &\n",
    "                            (val_pca[:, 1] < y_mean + y_std) & (val_pca[:, 1] > y_mean - y_std)]\n",
    "pruned_val_labels = val_labels[(val_pca[:, 0] < x_mean + x_std) & (val_pca[:, 0] > x_mean - x_std) &\n",
    "                                (val_pca[:, 1] < y_mean + y_std) & (val_pca[:, 1] > y_mean - y_std)]\n",
    "\n",
    "pruned_test_pca = test_pca[(test_pca[:, 0] < x_mean + x_std) & (test_pca[:, 0] > x_mean - x_std) &\n",
    "                            (test_pca[:, 1] < y_mean + y_std) & (test_pca[:, 1] > y_mean - y_std)]\n",
    "pruned_test_labels = test_labels[(test_pca[:, 0] < x_mean + x_std) & (test_pca[:, 0] > x_mean - x_std) &\n",
    "                                (test_pca[:, 1] < y_mean + y_std) & (test_pca[:, 1] > y_mean - y_std)]\n",
    "\n",
    "\n",
    "# Plot PCA embeddings\n",
    "plt.figure(figsize=(12, 6))\n",
    "plt.subplot(1, 3, 1)\n",
    "plt.scatter(pruned_train_pca[:, 0], pruned_train_pca[:, 1], c=pruned_train_labels, cmap='coolwarm', s=10)\n",
    "plt.title('Train Data')\n",
    "plt.subplot(1, 3, 2)\n",
    "plt.scatter(pruned_val_pca[:, 0], pruned_val_pca[:, 1], c=pruned_val_labels, cmap='coolwarm', s=10)\n",
    "plt.title('Validation Data')\n",
    "plt.subplot(1, 3, 3)\n",
    "plt.scatter(pruned_test_pca[:, 0], pruned_test_pca[:, 1], c=pruned_test_labels, cmap='coolwarm', s=10)\n",
    "plt.title('Test Data')\n",
    "plt.tight_layout()\n",
    "plt.show()\n",
    "\n"
   ]
  },
  {
   "cell_type": "code",
   "execution_count": 402,
   "metadata": {},
   "outputs": [
    {
     "data": {
      "image/png": "[encoded data removed]",
      "text/plain": [
       "<Figure size 576x432 with 2 Axes>"
      ]
     },
     "metadata": {
      "needs_background": "light"
     },
     "output_type": "display_data"
    },
    {
     "data": {
      "image/png": "[encoded data removed]",
      "text/plain": [
       "<Figure size 576x432 with 2 Axes>"
      ]
     },
     "metadata": {
      "needs_background": "light"
     },
     "output_type": "display_data"
    }
   ],
   "source": [
    "# Perform PCA and plot embeddings\n",
    "from sklearn.decomposition import PCA\n",
    "\n",
    "# Combine embeddings and labels\n",
    "all_embeddings = np.concatenate([train_embeddings, val_embeddings, test_embeddings], axis=0)\n",
    "all_labels = np.concatenate([train_labels, val_labels, test_labels], axis=0)\n",
    "\n",
    "# Perform PCA\n",
    "pca = PCA(n_components=3)\n",
    "pca_result = pca.fit_transform(all_embeddings)\n",
    "\n",
    "# Prune outliers down to 1 standard deviation from the mean\n",
    "x_mean = np.mean(pca_result[:, 0])\n",
    "x_std = np.std(pca_result[:, 0])\n",
    "y_mean = np.mean(pca_result[:, 1])\n",
    "y_std = np.std(pca_result[:, 1])\n",
    "z_mean = np.mean(pca_result[:, 2])\n",
    "z_std = np.std(pca_result[:, 2])\n",
    "\n",
    "# Prune outliers down to 1 standard deviation from the mean\n",
    "pruned_pca_result = pca_result[(pca_result[:, 0] < x_mean + x_std) & (pca_result[:, 0] > x_mean - x_std) &\n",
    "                               (pca_result[:, 1] < y_mean + y_std) & (pca_result[:, 1] > y_mean - y_std) &\n",
    "                                 (pca_result[:, 2] < z_mean + z_std) & (pca_result[:, 2] > z_mean - z_std)]\n",
    "pruned_labels = all_labels[(pca_result[:, 0] < x_mean + x_std) & (pca_result[:, 0] > x_mean - x_std) &\n",
    "                            (pca_result[:, 1] < y_mean + y_std) & (pca_result[:, 1] > y_mean - y_std) &\n",
    "                            (pca_result[:, 2] < z_mean + z_std) & (pca_result[:, 2] > z_mean - z_std)]\n",
    "\n",
    "# Plot PCA\n",
    "plt.figure(figsize=(8, 6))\n",
    "scatter = plt.scatter(pruned_pca_result[:, 0], pruned_pca_result[:, 1], c=pruned_labels.squeeze(), cmap='coolwarm', alpha=0.7)\n",
    "plt.xlabel('PC1')\n",
    "plt.ylabel('PC2')\n",
    "plt.title('PCA of Graph Embeddings Colored by Function')\n",
    "plt.colorbar(scatter, label='Function')\n",
    "plt.show()\n",
    "\n",
    "# Also plot PCA2 and PCA3\n",
    "pca = PCA(n_components=3)\n",
    "pca_result = pca.fit_transform(all_embeddings)\n",
    "\n",
    "# Plot PCA\n",
    "plt.figure(figsize=(8, 6))\n",
    "scatter = plt.scatter(pruned_pca_result[:, 1], pruned_pca_result[:, 2], c=pruned_labels.squeeze(), cmap='coolwarm', alpha=0.7)\n",
    "plt.xlabel('PC2')\n",
    "plt.ylabel('PC3')\n",
    "plt.title('PCA of Graph Embeddings Colored by Function')\n",
    "plt.colorbar(scatter, label='Function')\n",
    "plt.show()\n"
   ]
  },
  {
   "cell_type": "code",
   "execution_count": 403,
   "metadata": {},
   "outputs": [
    {
     "data": {
      "image/png": "[encoded data removed]",
      "text/plain": [
       "<Figure size 432x288 with 1 Axes>"
      ]
     },
     "metadata": {
      "needs_background": "light"
     },
     "output_type": "display_data"
    }
   ],
   "source": [
    "# Train a linear classifier on the embeddings\n",
    "from sklearn.linear_model import LogisticRegression\n",
    "from sklearn.metrics import roc_auc_score, roc_curve\n",
    "\n",
    "# Prepare training and test data\n",
    "X_train = train_embeddings\n",
    "y_train = train_labels.squeeze()\n",
    "X_test = test_embeddings\n",
    "y_test = test_labels.squeeze()\n",
    "\n",
    "# Train logistic regression\n",
    "clf = LogisticRegression(max_iter=1000)\n",
    "clf.fit(X_train, y_train)\n",
    "\n",
    "# Predict probabilities\n",
    "y_scores = clf.predict_proba(X_test)[:, 1]\n",
    "\n",
    "# Compute ROC curve and AUC\n",
    "fpr, tpr, thresholds = roc_curve(y_test, y_scores)\n",
    "roc_auc = auc(fpr, tpr)\n",
    "\n",
    "# Plot ROC curve\n",
    "plt.figure()\n",
    "plt.plot(fpr, tpr, label=f'ROC curve (AUC = {roc_auc:.2f})')\n",
    "plt.plot([0, 1], [0, 1], 'k--')\n",
    "plt.xlim([0.0, 1.0])\n",
    "plt.ylim([0.0, 1.05])\n",
    "plt.xlabel('False Positive Rate')\n",
    "plt.ylabel('True Positive Rate')\n",
    "plt.title('ROC - Test Set')\n",
    "plt.legend(loc='lower right')\n",
    "plt.show()\n"
   ]
  },
  {
   "cell_type": "code",
   "execution_count": 404,
   "metadata": {},
   "outputs": [
    {
     "name": "stdout",
     "output_type": "stream",
     "text": [
      "Testing accuracy: 0.6087\n"
     ]
    },
    {
     "data": {
      "image/png": "[encoded data removed]",
      "text/plain": [
       "<Figure size 432x288 with 1 Axes>"
      ]
     },
     "metadata": {
      "needs_background": "light"
     },
     "output_type": "display_data"
    }
   ],
   "source": [
    "# Evaluate the full model on the test set and plot ROC curve\n",
    "model.eval()\n",
    "all_preds = []\n",
    "all_labels = []\n",
    "with torch.no_grad():\n",
    "    for data in test_loader:\n",
    "        data = data.to(device)\n",
    "        out, _ = model(data)\n",
    "        preds = torch.sigmoid(out).cpu().numpy()\n",
    "        labels = data.y.cpu().numpy()\n",
    "        all_preds.extend(preds)\n",
    "        all_labels.extend(labels)\n",
    "\n",
    "accuracy = get_accuracy(all_preds, all_labels)\n",
    "print(f\"Testing accuracy: {accuracy:.4f}\")\n",
    "\n",
    "# Compute ROC curve and AUC\n",
    "fpr, tpr, thresholds = roc_curve(all_labels, all_preds)\n",
    "\n",
    "roc_auc = auc(fpr, tpr)\n",
    "\n",
    "# Plot ROC curve\n",
    "plt.figure()\n",
    "plt.plot(fpr, tpr, label=f'Full Model ROC curve (AUC = {roc_auc:.2f})')\n",
    "plt.plot([0, 1], [0, 1], 'k--')\n",
    "plt.xlim([0.0, 1.0])\n",
    "plt.ylim([0.0, 1.05])\n",
    "plt.xlabel('False Positive Rate')\n",
    "plt.ylabel('True Positive Rate')\n",
    "plt.title('ROC - Full Model')\n",
    "plt.legend(loc='lower right')\n",
    "plt.show()\n"
   ]
  },
  {
   "cell_type": "code",
   "execution_count": 411,
   "metadata": {},
   "outputs": [
    {
     "name": "stdout",
     "output_type": "stream",
     "text": [
      "46\n",
      "92\n"
     ]
    }
   ],
   "source": [
    "count = 0\n",
    "for val in all_preds:\n",
    "    if val > .5:\n",
    "        #print(val)\n",
    "        count += 1\n",
    "#print(preds[0:10])\n",
    "print(count)\n",
    "print(len(all_preds))\n"
   ]
  },
  {
   "cell_type": "markdown",
   "metadata": {},
   "source": [
    "# Time to Decode! Using a GraphRNN approach."
   ]
  },
  {
   "cell_type": "code",
   "execution_count": 412,
   "metadata": {},
   "outputs": [],
   "source": [
    "import torch\n",
    "import torch.nn as nn\n",
    "from torch.utils.data import Dataset, DataLoader\n",
    "import torch.nn.functional as F\n",
    "\n",
    "# For graph operations\n",
    "from torch_geometric.utils import to_networkx, from_networkx\n",
    "\n",
    "# For processing\n",
    "import networkx as nx\n",
    "import numpy as np"
   ]
  },
  {
   "cell_type": "code",
   "execution_count": 413,
   "metadata": {},
   "outputs": [],
   "source": [
    "class GraphSequenceDataset(Dataset):\n",
    "    \"\"\"\n",
    "    Dataset class that converts graphs into sequences suitable for GraphRNN,\n",
    "    and includes corresponding graph embeddings.\n",
    "    \"\"\"\n",
    "    def __init__(self, data_list, embeddings):\n",
    "        self.graph_sequences = []\n",
    "        self.embeddings = embeddings\n",
    "        for idx, data in enumerate(data_list):\n",
    "            G = to_networkx(data, to_undirected=True)\n",
    "            seq_nodes, seq_adj = self.graph_to_sequence(G, data)\n",
    "            graph_embedding = embeddings[idx]\n",
    "            self.graph_sequences.append((seq_nodes, seq_adj, graph_embedding))\n",
    "\n",
    "    def graph_to_sequence(self, G, data):\n",
    "        \"\"\"\n",
    "        Converts a NetworkX graph into a sequence of node features and adjacency vectors.\n",
    "        \"\"\"\n",
    "        num_nodes = G.number_of_nodes()\n",
    "        seq_nodes = []\n",
    "        seq_adj = []\n",
    "\n",
    "        # We need a consistent node ordering\n",
    "        nodes = list(G.nodes())\n",
    "        node_order = dict(zip(nodes, range(num_nodes)))\n",
    "\n",
    "        # Node features\n",
    "        node_features = data.x.numpy()\n",
    "\n",
    "        for i in range(num_nodes):\n",
    "            node_idx = nodes[i]\n",
    "            # Node feature\n",
    "            node_feat = node_features[node_idx]\n",
    "            seq_nodes.append(node_feat)\n",
    "\n",
    "            # Adjacency vector\n",
    "            adj_vector = np.zeros(i)\n",
    "            for j in range(i):\n",
    "                if G.has_edge(node_idx, nodes[j]):\n",
    "                    adj_vector[j] = 1\n",
    "            seq_adj.append(adj_vector)\n",
    "\n",
    "        return seq_nodes, seq_adj\n",
    "\n",
    "    def __len__(self):\n",
    "        return len(self.graph_sequences)\n",
    "\n",
    "    def __getitem__(self, idx):\n",
    "        seq_nodes, seq_adj, graph_embedding = self.graph_sequences[idx]\n",
    "        return seq_nodes, seq_adj, graph_embedding\n"
   ]
  },
  {
   "cell_type": "code",
   "execution_count": 414,
   "metadata": {},
   "outputs": [],
   "source": [
    "# Ensure embeddings are converted to tensors\n",
    "train_embeddings_tensor = torch.tensor(train_embeddings, dtype=torch.float)\n",
    "\n",
    "# Prepare the dataset\n",
    "graph_sequence_dataset = GraphSequenceDataset(train_dataset.data_list, train_embeddings_tensor)\n",
    "\n",
    "# Define a collate function\n",
    "def collate_fn(batch):\n",
    "    seq_nodes, seq_adj, graph_embeddings = zip(*batch)\n",
    "    return seq_nodes, seq_adj, torch.stack(graph_embeddings)\n",
    "\n",
    "# DataLoader\n",
    "graph_sequence_loader = DataLoader(\n",
    "    graph_sequence_dataset,\n",
    "    batch_size=batch_size,\n",
    "    shuffle=True,\n",
    "    collate_fn=collate_fn\n",
    ")\n"
   ]
  },
  {
   "cell_type": "code",
   "execution_count": 415,
   "metadata": {},
   "outputs": [],
   "source": [
    "class NodeRNN(nn.Module):\n",
    "    \"\"\"\n",
    "    RNN model for processing node features. \n",
    "    \"\"\"\n",
    "    def __init__(self, node_feat_size, hidden_size):\n",
    "        super(NodeRNN, self).__init__()\n",
    "        self.hidden_size = hidden_size\n",
    "        self.gru = nn.GRU(node_feat_size, hidden_size, batch_first=True)\n",
    "\n",
    "    def forward(self, node_feats, hidden):\n",
    "        # node_feats: (batch_size, 1, node_feat_size)\n",
    "        output, hidden = self.gru(node_feats, hidden)\n",
    "        return output, hidden\n",
    "\n",
    "class EdgeRNN(nn.Module):\n",
    "    \"\"\"\n",
    "    RNN model for processing adjacency vectors.\n",
    "    \"\"\"\n",
    "    def __init__(self, hidden_size):\n",
    "        super(EdgeRNN, self).__init__()\n",
    "        self.hidden_size = hidden_size\n",
    "        self.gru = nn.GRU(1, hidden_size, batch_first=True)\n",
    "\n",
    "    def forward(self, adjacency_vector, hidden):\n",
    "        output, hidden = self.gru(adjacency_vector, hidden)\n",
    "        return output, hidden\n",
    "\n"
   ]
  },
  {
   "cell_type": "code",
   "execution_count": 416,
   "metadata": {},
   "outputs": [],
   "source": [
    "class GraphRNN(nn.Module):\n",
    "    def __init__(self, node_feat_size, hidden_size, embedding_size):\n",
    "        super(GraphRNN, self).__init__()\n",
    "        self.hidden_size = hidden_size\n",
    "        self.embedding_size = embedding_size\n",
    "\n",
    "        # Embedding layer to map graph embeddings to initial hidden state\n",
    "        self.embedding_layer = nn.Linear(embedding_size, hidden_size)\n",
    "\n",
    "        # NodeRNN and EdgeRNN\n",
    "        self.node_rnn = NodeRNN(node_feat_size, hidden_size)\n",
    "        self.edge_rnn = EdgeRNN(hidden_size)\n",
    "\n",
    "        # Output layer for edge predictions\n",
    "        self.edge_output_layer = nn.Linear(hidden_size, 1)\n",
    "\n",
    "    def pad_adjacency(self, adj_seq, max_len):\n",
    "        \"\"\" \n",
    "        This function pads adjacency vectors to a fixed length.\n",
    "        This is necessary for batch processing because each graph may have a different number of nodes.\n",
    "        \"\"\"\n",
    "        padded_adj = torch.zeros((max_len, max_len))\n",
    "        seq_len = len(adj_seq)\n",
    "        for i in range(seq_len):\n",
    "            adj_vector = adj_seq[i]\n",
    "            padded_adj[i, :len(adj_vector)] = torch.tensor(adj_vector, dtype=torch.float)\n",
    "        return padded_adj\n",
    "\n",
    "    def forward(self, seq_nodes, seq_adj, graph_embeddings):\n",
    "        batch_size = len(seq_nodes)\n",
    "        seq_len = max(len(s) for s in seq_nodes)\n",
    "\n",
    "        # Initialize hidden state from graph embeddings\n",
    "        h0 = self.embedding_layer(graph_embeddings).unsqueeze(0)  # (1, batch_size, hidden_size)\n",
    "\n",
    "        # Pad node feature sequences\n",
    "        node_feats_padded = nn.utils.rnn.pad_sequence(\n",
    "            [torch.tensor(s, dtype=torch.float) for s in seq_nodes],\n",
    "            batch_first=True\n",
    "        ).to(device)  # (batch_size, seq_len, node_feat_size)\n",
    "\n",
    "        # Pad adjacency sequences\n",
    "        adj_padded = [self.pad_adjacency(s, seq_len) for s in seq_adj]\n",
    "        adj_padded = torch.stack(adj_padded, dim=0).to(device)  # (batch_size, seq_len, seq_len)\n",
    "\n",
    "        # NodeRNN - This will output node hidden states at each sequence step\n",
    "        node_outputs, _ = self.node_rnn(node_feats_padded, h0)  # (batch_size, seq_len, hidden_size)\n",
    "\n",
    "        # EdgeRNN - This will output edge logits for each node at each sequence step\n",
    "        edge_logits_list = []\n",
    "        for i in range(seq_len):\n",
    "            # Get the node hidden state at time step i\n",
    "            edge_hidden = node_outputs[:, i, :].unsqueeze(0)  # (1, batch_size, hidden_size)\n",
    "            adj_vectors = adj_padded[:, i, :i+1].unsqueeze(-1)  # (batch_size, i+1, 1)\n",
    "            edge_output, _ = self.edge_rnn(adj_vectors, edge_hidden)\n",
    "            edge_logits = self.edge_output_layer(edge_output).squeeze(-1)  # (batch_size, i+1)\n",
    "            edge_logits_list.append(edge_logits)\n",
    "\n",
    "        return edge_logits_list, adj_padded\n",
    "\n"
   ]
  },
  {
   "cell_type": "code",
   "execution_count": 417,
   "metadata": {},
   "outputs": [],
   "source": [
    "def train_graph_rnn(model, data_loader, optimizer, edge_criterion, epochs=10):\n",
    "    model.train()\n",
    "    for epoch in range(epochs):\n",
    "        total_loss = 0\n",
    "        for seq_nodes, seq_adj, graph_embeddings in tqdm(data_loader):\n",
    "            batch_size = len(seq_nodes)\n",
    "            optimizer.zero_grad()\n",
    "\n",
    "            # Move data to device\n",
    "            graph_embeddings = graph_embeddings.to(device)  # (batch_size, embedding_size)\n",
    "\n",
    "            # Forward pass\n",
    "            edge_logits_list, adj_padded = model(seq_nodes, seq_adj, graph_embeddings)\n",
    "\n",
    "            # Compute loss\n",
    "            loss = 0\n",
    "            seq_len = len(edge_logits_list)\n",
    "            for i in range(seq_len):\n",
    "                # Prepare target adjacency vector\n",
    "                adj_targets = adj_padded[:, i, :i+1]  # (batch_size, i+1)\n",
    "                edge_logits = edge_logits_list[i]  # (batch_size, i+1)\n",
    "\n",
    "                # Mask padded positions where adj_targets is zero and i >= actual sequence length\n",
    "                actual_lengths = [len(s) for s in seq_adj]  # Original sequence lengths\n",
    "                max_len = adj_padded.size(1)\n",
    "                batch_indices = torch.arange(batch_size).unsqueeze(1).expand(batch_size, max_len).to(device) # maybe usefull?\n",
    "                time_indices = torch.arange(max_len).unsqueeze(0).expand(batch_size, max_len).to(device) # \"time\" here is the sequence length\n",
    "\n",
    "                # Create mask where time index is less than actual length\n",
    "                mask = time_indices < torch.tensor(actual_lengths).unsqueeze(1).to(device)\n",
    "\n",
    "                adj_targets = adj_padded[:, i, :i+1]\n",
    "                edge_logits = edge_logits_list[i]\n",
    "\n",
    "                mask = mask[:, :i+1]\n",
    "\n",
    "                if mask.any():\n",
    "                    loss_step = edge_criterion(edge_logits[mask], adj_targets[mask])\n",
    "                    loss += loss_step\n",
    "\n",
    "            loss.backward()\n",
    "            optimizer.step()\n",
    "            total_loss += loss.item()\n",
    "\n",
    "        avg_loss = total_loss / len(data_loader)\n",
    "        print(f\"Epoch {epoch+1}/{epochs}, Loss: {avg_loss:.4f}\")\n"
   ]
  },
  {
   "cell_type": "code",
   "execution_count": 418,
   "metadata": {},
   "outputs": [
    {
     "name": "stderr",
     "output_type": "stream",
     "text": [
      "100%|██████████| 53/53 [00:37<00:00,  1.43it/s]\n"
     ]
    },
    {
     "name": "stdout",
     "output_type": "stream",
     "text": [
      "Epoch 1/10, Loss: 2536.0700\n"
     ]
    },
    {
     "name": "stderr",
     "output_type": "stream",
     "text": [
      "100%|██████████| 53/53 [00:38<00:00,  1.39it/s]\n"
     ]
    },
    {
     "name": "stdout",
     "output_type": "stream",
     "text": [
      "Epoch 2/10, Loss: 1742.9301\n"
     ]
    },
    {
     "name": "stderr",
     "output_type": "stream",
     "text": [
      "100%|██████████| 53/53 [00:36<00:00,  1.45it/s]\n"
     ]
    },
    {
     "name": "stdout",
     "output_type": "stream",
     "text": [
      "Epoch 3/10, Loss: 452.6324\n"
     ]
    },
    {
     "name": "stderr",
     "output_type": "stream",
     "text": [
      "100%|██████████| 53/53 [00:36<00:00,  1.44it/s]\n"
     ]
    },
    {
     "name": "stdout",
     "output_type": "stream",
     "text": [
      "Epoch 4/10, Loss: 591.7138\n"
     ]
    },
    {
     "name": "stderr",
     "output_type": "stream",
     "text": [
      "100%|██████████| 53/53 [00:36<00:00,  1.45it/s]\n"
     ]
    },
    {
     "name": "stdout",
     "output_type": "stream",
     "text": [
      "Epoch 5/10, Loss: 325.2504\n"
     ]
    },
    {
     "name": "stderr",
     "output_type": "stream",
     "text": [
      "100%|██████████| 53/53 [00:37<00:00,  1.41it/s]\n"
     ]
    },
    {
     "name": "stdout",
     "output_type": "stream",
     "text": [
      "Epoch 6/10, Loss: 844.1763\n"
     ]
    },
    {
     "name": "stderr",
     "output_type": "stream",
     "text": [
      "100%|██████████| 53/53 [00:38<00:00,  1.37it/s]\n"
     ]
    },
    {
     "name": "stdout",
     "output_type": "stream",
     "text": [
      "Epoch 7/10, Loss: 229.9153\n"
     ]
    },
    {
     "name": "stderr",
     "output_type": "stream",
     "text": [
      "100%|██████████| 53/53 [00:37<00:00,  1.42it/s]\n"
     ]
    },
    {
     "name": "stdout",
     "output_type": "stream",
     "text": [
      "Epoch 8/10, Loss: 1246.5018\n"
     ]
    },
    {
     "name": "stderr",
     "output_type": "stream",
     "text": [
      "100%|██████████| 53/53 [00:36<00:00,  1.44it/s]\n"
     ]
    },
    {
     "name": "stdout",
     "output_type": "stream",
     "text": [
      "Epoch 9/10, Loss: 198.0107\n"
     ]
    },
    {
     "name": "stderr",
     "output_type": "stream",
     "text": [
      "100%|██████████| 53/53 [00:36<00:00,  1.45it/s]"
     ]
    },
    {
     "name": "stdout",
     "output_type": "stream",
     "text": [
      "Epoch 10/10, Loss: 326.4074\n"
     ]
    },
    {
     "name": "stderr",
     "output_type": "stream",
     "text": [
      "\n"
     ]
    }
   ],
   "source": [
    "# Instantiate the model\n",
    "node_feat_size = train_dataset[0].x.shape[1]  # Assuming all nodes have the same feature size\n",
    "hidden_size = 64\n",
    "embedding_size = train_embeddings.shape[1]  # From the HEGNN embeddings\n",
    "\n",
    "graph_rnn = GraphRNN(node_feat_size, hidden_size, embedding_size).to(device)\n",
    "\n",
    "# Loss function and optimizer\n",
    "edge_criterion = nn.BCEWithLogitsLoss()\n",
    "optimizer = torch.optim.Adam(graph_rnn.parameters(), lr=0.001)\n",
    "\n",
    "# Train the model\n",
    "train_graph_rnn(graph_rnn, graph_sequence_loader, optimizer, edge_criterion, epochs=10)\n"
   ]
  },
  {
   "cell_type": "markdown",
   "metadata": {},
   "source": [
    "# Woah, it actually trained something. Well, going to try to actually make a molecule now. For science!"
   ]
  },
  {
   "cell_type": "code",
   "execution_count": 419,
   "metadata": {},
   "outputs": [],
   "source": [
    "# Get positive embeddings\n",
    "positive_embeddings = train_embeddings[train_labels.squeeze() == 1]\n",
    "\n",
    "# Calculate centroid\n",
    "centroid = np.mean(positive_embeddings, axis=0)\n",
    "centroid = torch.tensor(centroid, dtype=torch.float).to(device)\n"
   ]
  },
  {
   "cell_type": "code",
   "execution_count": 420,
   "metadata": {},
   "outputs": [],
   "source": [
    "def generate_graph(model, initial_embedding, max_nodes=20):\n",
    "    model.eval()\n",
    "    generated_nodes = []\n",
    "    generated_adj = []\n",
    "\n",
    "    # Initialize hidden state\n",
    "    h0 = model.embedding_layer(initial_embedding.unsqueeze(0))  # Shape: (1, hidden_size)\n",
    "    h0 = h0.unsqueeze(0)  # Shape: (1, 1, hidden_size)\n",
    "\n",
    "    # Start NodeRNN generation\n",
    "    node_hidden = h0\n",
    "    for i in range(max_nodes):\n",
    "        # For simplicity, I'm sampling node features from a standard normal distribution\n",
    "        # might want to change this to sample from a learned distribution or use a specific node type\n",
    "        node_feat = torch.randn(1, 1, node_feat_size).to(device)\n",
    "        node_output, node_hidden = model.node_rnn(node_feat, node_hidden) # Right now I'm generating node features from the data, we should probably change this to use real atom features\n",
    "        generated_nodes.append(node_feat.squeeze(0).cpu().numpy())\n",
    "\n",
    "        # EdgeRNN generation\n",
    "        adj_vector = []\n",
    "        edge_input = torch.zeros(1, 1, 1).to(device)  # Start with zero\n",
    "        edge_hidden = node_hidden\n",
    "        for j in range(i+1):\n",
    "            edge_output, edge_hidden = model.edge_rnn(edge_input, edge_hidden)\n",
    "            edge_logit = model.edge_output_layer(edge_output)\n",
    "            edge_prob = torch.sigmoid(edge_logit)\n",
    "            #print(edge_prob)\n",
    "            #edge_pred = (edge_prob > 0.25).float() # This is arbitrary, could be improved\n",
    "            # Instead, use the edge prob as a binomial distribution\n",
    "            edge_pred = torch.bernoulli(edge_prob)\n",
    "            adj_vector.append(edge_pred.item())\n",
    "            edge_input = edge_pred.view(1, 1, 1)\n",
    "\n",
    "        generated_adj.append(adj_vector)\n",
    "\n",
    "        # Decide whether to stop (right now I'm not doing EOS, we should probably add this)\n",
    "        if i > 5 and all(a == 0 for a in adj_vector):\n",
    "            break  # No new connections, can stop early\n",
    "\n",
    "    return generated_nodes, generated_adj\n"
   ]
  },
  {
   "cell_type": "code",
   "execution_count": 464,
   "metadata": {},
   "outputs": [],
   "source": [
    "def display_generated_graph(generated_graph):\n",
    "    # Display the generated graph\n",
    "    plt.figure(figsize=(8, 6))\n",
    "    pos = nx.spring_layout(generated_graph)\n",
    "    nx.draw(generated_graph, pos, with_labels=True, node_size=500, font_size=10, font_color='white')\n",
    "    plt.title('Generated Graph')\n",
    "    plt.show()\n",
    "\n",
    "    print(generated_graph)\n"
   ]
  },
  {
   "cell_type": "code",
   "execution_count": 465,
   "metadata": {},
   "outputs": [],
   "source": [
    "def get_molecule_from_generated_graph(generated_graph: nx.Graph) -> Chem.RWMol:\n",
    "    \"\"\"\n",
    "    Traverses nodes of generated graph to create molecule\n",
    "    \"\"\"\n",
    "    molecule = Chem.RWMol()\n",
    "    node_to_idx = dict()\n",
    "\n",
    "    graph_data = generated_graph.nodes.data()\n",
    "    for node in graph_data: #traverses in order\n",
    "        node_features_dict = node[1]\n",
    "        node_features = node_features_dict[\"features\"]\n",
    "        encoded_atoms = list(node_features[0][0:17])\n",
    "        max_index = encoded_atoms.index(max(encoded_atoms))\n",
    "\n",
    "        atomic_number = map_one_hot_to_element[max_index]\n",
    "        #print(atomic_number)\n",
    "        atom = Chem.Atom(atomic_number)\n",
    "        idx = molecule.AddAtom(atom)\n",
    "        node_to_idx[node[0]] = idx\n",
    "\n",
    "    for edge in generated_graph.edges():\n",
    "        node1, node2 = edge\n",
    "        bond_type = Chem.BondType.SINGLE\n",
    "        molecule.AddBond(node_to_idx[node1], node_to_idx[node2], bond_type)\n",
    "\n",
    "    return molecule"
   ]
  },
  {
   "cell_type": "code",
   "execution_count": 523,
   "metadata": {},
   "outputs": [],
   "source": [
    "def reconstruct_graph(gen_nodes, gen_adj):\n",
    "        G = nx.Graph()\n",
    "        num_nodes = len(gen_nodes)\n",
    "        for i in range(num_nodes):\n",
    "            G.add_node(i, features=gen_nodes[i])\n",
    "        for i in range(len(gen_adj)):\n",
    "            adj_vector = gen_adj[i]\n",
    "            for j in range(len(adj_vector)):\n",
    "                if adj_vector[j] == 1:\n",
    "                    if i != j and not G.has_edge(i, j):\n",
    "                        G.add_edge(i, j)\n",
    "        # Prune any isolated nodes - old\n",
    "        #G.remove_nodes_from(list(nx.isolates(G)))\n",
    "\n",
    "        #Keep the largest connected component\n",
    "        largest_cc = max(nx.connected_components(G), key=len)\n",
    "        G = G.subgraph(largest_cc).copy()\n",
    "        return G"
   ]
  },
  {
   "cell_type": "code",
   "execution_count": 528,
   "metadata": {},
   "outputs": [],
   "source": [
    "from rdkit.Chem import Draw\n",
    "from rdkit.Chem import SanitizeMol, SanitizeFlags\n",
    "\n",
    "def create_valid_molecule():\n",
    "    # Sample around the centroid\n",
    "    sampled_embedding = centroid + torch.randn_like(centroid) * 0.1  # Small perturbation\n",
    "    molecule = None\n",
    "    count = 0\n",
    "    while molecule == None:\n",
    "        # Generate graph\n",
    "        gen_nodes, gen_adj = generate_graph(graph_rnn, sampled_embedding)\n",
    "\n",
    "        # Reconstruct the graph\n",
    "        generated_graph = reconstruct_graph(gen_nodes, gen_adj)\n",
    "\n",
    "        #Display generated graph (optional)\n",
    "        #display_generated_graph(generated_graph)\n",
    "\n",
    "        generated_mol = get_molecule_from_generated_graph(generated_graph)\n",
    "        #Not the correct check we want\n",
    "        #try:\n",
    "        #    Chem.SanitizeMol(generated_mol, sanitizeOps=SanitizeFlags.SANITIZE_ALL)\n",
    "        #except ValueError as e:\n",
    "        #    print(f\"Invalid molecule: {e}\")\n",
    "            #continue\n",
    "\n",
    "        smiles = Chem.MolToSmiles(generated_mol)\n",
    "\n",
    "        #Need to see if smiles is chemically reasonable\n",
    "        mol = Chem.MolFromSmiles(smiles)\n",
    "        if mol is None:\n",
    "            print(f'Chemically invalid SMILES: {smiles}')\n",
    "        else:\n",
    "            print(f\"Valid molecule SMILES: {smiles}\")\n",
    "            molecule = mol\n",
    "        count += 1\n",
    "\n",
    "    img = Draw.MolToImage(molecule)\n",
    "    #img.show()\n",
    "    print(f\"Took {count} tries\")\n",
    "\n",
    "    return mol, smiles"
   ]
  },
  {
   "cell_type": "code",
   "execution_count": 529,
   "metadata": {},
   "outputs": [
    {
     "name": "stderr",
     "output_type": "stream",
     "text": [
      "[16:36:35] Explicit valence for atom # 1 F, 2, is greater than permitted\n",
      "[16:36:35] Explicit valence for atom # 1 Si, 8, is greater than permitted\n",
      "[16:36:35] Explicit valence for atom # 4 Cl, 2, is greater than permitted\n",
      "[16:36:35] Explicit valence for atom # 1 H, 4, is greater than permitted\n",
      "[16:36:35] Explicit valence for atom # 1 C, 5, is greater than permitted\n"
     ]
    },
    {
     "name": "stdout",
     "output_type": "stream",
     "text": [
      "Chemically invalid SMILES: [SiH3]FP(I)[BiH2]\n",
      "Chemically invalid SMILES: [AlH]1[Si]234567B8[As]29%10[SH]32%11Cl3[H]294%12%13Cl5[Hg]183%11%10%126[Bi]%137\n",
      "Valid molecule SMILES: [SnH2]\n",
      "Took 3 tries\n",
      "Chemically invalid SMILES: O1[Hg]23[SiH2][BiH]12Cl3\n",
      "Valid molecule SMILES: N1C2SN12\n",
      "Took 2 tries\n",
      "Valid molecule SMILES: C\n",
      "Took 1 tries\n",
      "Valid molecule SMILES: O\n",
      "Took 1 tries\n",
      "Chemically invalid SMILES: I[H]12[SiH]3O4[SnH]1[Si]432\n",
      "Valid molecule SMILES: [SnH2]\n",
      "Took 2 tries\n",
      "Valid molecule SMILES: [H]S(C)([AlH2])Cl\n",
      "Took 1 tries\n",
      "Valid molecule SMILES: S[Hg]1[Hg][Hg]1\n",
      "Took 1 tries\n",
      "Valid molecule SMILES: CBr\n",
      "Took 1 tries\n",
      "Chemically invalid SMILES: CC123SS14I2[Hg]43\n",
      "Valid molecule SMILES: [AlH2][As]([SiH3])(P)([AsH2])[SnH]\n",
      "Took 2 tries\n",
      "Valid molecule SMILES: SCCl\n",
      "Took 1 tries\n"
     ]
    }
   ],
   "source": [
    "set_of_new_mols = set()\n",
    "set_of_new_smiles = set()\n",
    "\n",
    "while len(set_of_new_mols) != 10:\n",
    "    mol, smiles = create_valid_molecule()\n",
    "    set_of_new_mols.add(mol)\n",
    "    set_of_new_smiles.add(smiles)"
   ]
  },
  {
   "cell_type": "code",
   "execution_count": 530,
   "metadata": {},
   "outputs": [
    {
     "data": {
      "text/plain": [
       "{'C',\n",
       " 'CBr',\n",
       " 'N1C2SN12',\n",
       " 'O',\n",
       " 'SCCl',\n",
       " 'S[Hg]1[Hg][Hg]1',\n",
       " '[AlH2][As]([SiH3])(P)([AsH2])[SnH]',\n",
       " '[H]S(C)([AlH2])Cl',\n",
       " '[SnH2]'}"
      ]
     },
     "execution_count": 530,
     "metadata": {},
     "output_type": "execute_result"
    }
   ],
   "source": [
    "set_of_new_smiles"
   ]
  },
  {
   "cell_type": "markdown",
   "metadata": {},
   "source": [
    "# Next Steps: Add new molecules (X amount) to training data, retrain model, test and report scores. Then, improve our code!"
   ]
  }
 ],
 "metadata": {
  "kernelspec": {
   "display_name": "Python 3 (ipykernel)",
   "language": "python",
   "name": "python3"
  },
  "language_info": {
   "codemirror_mode": {
    "name": "ipython",
    "version": 3
   },
   "file_extension": ".py",
   "mimetype": "text/x-python",
   "name": "python",
   "nbconvert_exporter": "python",
   "pygments_lexer": "ipython3",
   "version": "3.11.5"
  }
 },
 "nbformat": 4,
 "nbformat_minor": 2
}
