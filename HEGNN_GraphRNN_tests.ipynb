{
 "cells": [
  {
   "cell_type": "code",
   "execution_count": 608,
   "metadata": {},
   "outputs": [],
   "source": [
    "# Import necessary libraries\n",
    "import pandas as pd\n",
    "import numpy as np\n",
    "import torch\n",
    "import torch.nn as nn\n",
    "from torch.utils.data import Dataset\n",
    "from rdkit import Chem\n",
    "from rdkit.Chem import AllChem\n",
    "from torch_geometric.data import Data\n",
    "from torch_geometric.loader import DataLoader\n",
    "from torch.utils.data import TensorDataset\n",
    "from torch.nn.utils.rnn import pad_sequence\n",
    "import torch.nn.functional as F\n",
    "from torch_geometric.nn import global_mean_pool\n",
    "from sklearn.decomposition import PCA\n",
    "from sklearn.metrics import accuracy_score\n",
    "import matplotlib.pyplot as plt\n",
    "from sklearn.metrics import roc_curve, auc\n",
    "from models.HEGNN import HEGNN  \n",
    "from rdkit.Chem import rdMolTransforms\n",
    "#If using earlier than python3.9 version\n",
    "from typing import Tuple, List\n"
   ]
  },
  {
   "cell_type": "code",
   "execution_count": 609,
   "metadata": {},
   "outputs": [],
   "source": [
    "# Load the data\n",
    "train_df = pd.read_csv('Processed/Combined_Training.txt', sep = '\\t')\n",
    "val_df = pd.read_csv('Processed/Combined_Validate.txt', sep = '\\t')\n",
    "test_df =pd.read_csv('Processed/Combined_Test.txt', sep = '\\t')\n",
    "\n",
    "# While testing, only use the first 500 samples\n",
    "# train_df = train_df.iloc[:500]\n",
    "# val_df = val_df.iloc[:500]\n",
    "# test_df = test_df.iloc[:500]\n"
   ]
  },
  {
   "cell_type": "code",
   "execution_count": 610,
   "metadata": {},
   "outputs": [],
   "source": [
    "def balance_datasets(dataframe: pd.DataFrame) -> pd.DataFrame:\n",
    "\n",
    "    \"\"\"\n",
    "    This filters the dataset to have a X:1 ratio of 0 value mols to 1 value mols\n",
    "    Args:\n",
    "        dataframe (pd.DataFrame): the dataset dataframe\n",
    "    Return:\n",
    "        pd.DataFrame: the filtered dataframe\n",
    "    \n",
    "    \"\"\"\n",
    "    function_one_df = dataframe[dataframe['Function'] == 1]\n",
    "    function_zero_df = dataframe[dataframe['Function'] == 0]\n",
    "\n",
    "    num_function_one = function_one_df.shape[0]\n",
    "\n",
    "    # Calculate the number of rows to take from 'Function' == 0 (X:1 ratio)\n",
    "    num_function_zero = min(1 * num_function_one, function_zero_df.shape[0]) #2* \n",
    "\n",
    "    balanced_function_zero_df = function_zero_df.sample(n=num_function_zero, random_state=42)\n",
    "    balanced_train_df = pd.concat([function_one_df, balanced_function_zero_df])\n",
    "\n",
    "    return balanced_train_df"
   ]
  },
  {
   "cell_type": "code",
   "execution_count": 611,
   "metadata": {},
   "outputs": [],
   "source": [
    "train_df = balance_datasets(train_df)\n",
    "val_df = balance_datasets(val_df)\n",
    "test_df = balance_datasets(test_df)"
   ]
  },
  {
   "cell_type": "code",
   "execution_count": 612,
   "metadata": {},
   "outputs": [],
   "source": [
    "torch.manual_seed(42)\n",
    "np.random.seed(42)"
   ]
  },
  {
   "cell_type": "code",
   "execution_count": 613,
   "metadata": {},
   "outputs": [],
   "source": [
    "map_element_to_one_hot = {\n",
    "    # Note: Should we be including hydrogen? that can only form one bond\n",
    "        1: 0, #hydrogen\n",
    "        6: 1, #carbon\n",
    "        7: 2, #nitrogen\n",
    "        9: 3, #fluorine\n",
    "        5: 4, #boron\n",
    "        15: 5, #phosphorous\n",
    "        8: 6, #oxygen\n",
    "        17: 7, #chlorine\n",
    "        16: 8, #sulfur\n",
    "        35: 9, #bromine\n",
    "        13: 10, #aluminium\n",
    "        33: 11, #arsenic\n",
    "        53: 12, #iodine\n",
    "        80: 13, #mercury\n",
    "        14: 14, #silicon\n",
    "        50: 15, #tin\n",
    "        83: 16, #bismuth\n",
    "    }\n",
    "\n",
    "#inverts map_element_to_one_hot\n",
    "map_one_hot_to_element = {value: key for key, value in map_element_to_one_hot.items()}\n",
    "\n"
   ]
  },
  {
   "cell_type": "code",
   "execution_count": 614,
   "metadata": {},
   "outputs": [],
   "source": [
    "def encode_atomic_number(atomic_number: int) -> list:\n",
    "    \"\"\"\n",
    "    Encodes the atomic number into one-hot encoding\n",
    "    \"\"\"\n",
    "\n",
    "    element_index = map_element_to_one_hot[atomic_number]\n",
    "    vector_length = len(map_element_to_one_hot.keys())\n",
    "    one_hot_encoding = [0 for i in range(vector_length)]\n",
    "    one_hot_encoding[element_index] = 1\n",
    "    return one_hot_encoding #, vector_length"
   ]
  },
  {
   "cell_type": "code",
   "execution_count": 615,
   "metadata": {},
   "outputs": [],
   "source": [
    "from tqdm import tqdm\n",
    "class MoleculeDataset(Dataset):\n",
    "    \"\"\"\n",
    "    Custom Dataset for molecule data.\n",
    "\n",
    "    Args:\n",
    "        dataframe (pd.DataFrame): DataFrame containing molecule data.\n",
    "    \"\"\"\n",
    "    def __init__(self, dataframe: pd.DataFrame):\n",
    "        self.data_list = []\n",
    "        #self.smiles = None\n",
    "        for idx, row in tqdm(dataframe.iterrows(), total=len(dataframe)):\n",
    "            smiles = row['SMILE']\n",
    "            label = row['Function']\n",
    "            try:\n",
    "                mol = Chem.MolFromSmiles(smiles)\n",
    "            except:\n",
    "                mol = None\n",
    "                print(f'Failed to process SMILES: {smiles}')\n",
    "            if mol is None:\n",
    "                continue\n",
    "            data = mol_to_graph_data(mol, smiles)\n",
    "            if data is None:\n",
    "                print(\"Data was None\")\n",
    "                continue\n",
    "            data.y = torch.tensor([label], dtype=torch.float)\n",
    "            self.data_list.append(data)\n",
    "\n",
    "    def __len__(self) -> int:\n",
    "        return len(self.data_list)\n",
    "\n",
    "    def __getitem__(self, idx: int):\n",
    "        return self.data_list[idx]\n",
    "\n",
    "def atom_features(atom):\n",
    "    \"\"\"\n",
    "    Returns a list of atom features.\n",
    "\n",
    "    Args:\n",
    "        atom (Chem.Atom): RDKit atom object.\n",
    "\n",
    "    Returns:\n",
    "        List[float]: List of features.\n",
    "    \"\"\"\n",
    "    features = []\n",
    "    atomic_number = atom.GetAtomicNum()\n",
    "    atomic_number_encoded = encode_atomic_number(atomic_number)\n",
    "    for val in atomic_number_encoded:\n",
    "        features.append(val)\n",
    "    #features.append(atom.GetAtomicNum())\n",
    "    features.append(atom.GetDegree())\n",
    "    features.append(atom.GetFormalCharge())\n",
    "    features.append(atom.GetNumRadicalElectrons())\n",
    "    features.append(int(atom.GetHybridization()))\n",
    "    features.append(int(atom.GetIsAromatic()))\n",
    "    features.append(atom.IsInRing())\n",
    "    features.append(atom.GetMass())\n",
    "    # New features\n",
    "    features.append(get_atomic_radius(atom))    # Atomic radius\n",
    "    features.append(get_vdw_radius(atom))       # van der Waals radius\n",
    "    features.append(get_chirality(atom))# Chirality (0, 1, 2)\n",
    "    features.append(get_electronegativity(atom)) # EN\n",
    "    return features \n",
    "\n",
    "\n",
    "def get_atomic_radius(atom):\n",
    "    \"\"\"\n",
    "    Returns the covalent radius (approximation) of an atom.\n",
    "    Args:\n",
    "        atom (Chem.Atom): RDKit atom object.\n",
    "\n",
    "    Returns:\n",
    "        float: Covalent radius in Ångstroms.\n",
    "    \"\"\"\n",
    "    covalent_radii = {\n",
    "        1: 0.31, 6: 0.76, 7: 0.71, 8: 0.66, 9: 0.57, 15: 1.07,\n",
    "        16: 1.05, 17: 0.99, 35: 1.14, 53: 1.33  # Add more elements as needed\n",
    "    }\n",
    "    return covalent_radii.get(atom.GetAtomicNum(), 0.7)  # Default to 0.7 Å\n",
    "\n",
    "def get_vdw_radius(atom):\n",
    "    \"\"\"\n",
    "    Returns the van der Waals radius (approximation) of an atom.\n",
    "    Args:\n",
    "        atom (Chem.Atom): RDKit atom object.\n",
    "\n",
    "    Returns:\n",
    "        float: van der Waals radius in Ångstroms.\n",
    "    \"\"\"\n",
    "    vdw_radii = {\n",
    "        1: 1.2, 6: 1.7, 7: 1.55, 8: 1.52, 9: 1.47, 15: 1.8, \n",
    "        16: 1.8, 17: 1.75, 35: 1.85, 53: 1.98  # Add more elements as needed\n",
    "    }\n",
    "    return vdw_radii.get(atom.GetAtomicNum(), 1.5)  # Default to 1.5 Å\n",
    "\n",
    "\n",
    "def get_valence_electrons(atom):\n",
    "    \"\"\"\n",
    "    Returns the number of valence electrons for an atom.\n",
    "    Args:\n",
    "        atom (Chem.Atom): RDKit atom object.\n",
    "\n",
    "    Returns:\n",
    "        int: Number of valence electrons.\n",
    "    \"\"\"\n",
    "    valence_electrons = {\n",
    "        1: 1, 6: 4, 7: 5, 8: 6, 9: 7,\n",
    "        15: 5, 16: 6, 17: 7, 35: 7, 53: 7\n",
    "    }\n",
    "    return valence_electrons.get(atom.GetAtomicNum(), 0)\n",
    "\n",
    "def get_electronegativity(atom):\n",
    "    \"\"\"\n",
    "    Returns the electronegativity of an atom.\n",
    "    Args:\n",
    "        atom (Chem.Atom): RDKit atom object.\n",
    "\n",
    "    Returns:\n",
    "        float: Electronegativity value.\n",
    "    \"\"\"\n",
    "    electronegativity = {\n",
    "        1: 2.20, 6: 2.55, 7: 3.04, 8: 3.44, 9: 3.98,\n",
    "        15: 2.19, 16: 2.58, 17: 3.16, 35: 2.96, 53: 2.66\n",
    "    }\n",
    "    return electronegativity.get(atom.GetAtomicNum(), 2.0)\n",
    "\n",
    "def get_chirality(atom):\n",
    "    \"\"\"\n",
    "    Returns the chirality of an atom as a numeric feature.\n",
    "    Args:\n",
    "        atom (Chem.Atom): RDKit atom object.\n",
    "\n",
    "    Returns:\n",
    "        int: Chirality encoded as an integer (0: Unspecified, 1: CW, 2: CCW).\n",
    "    \"\"\"\n",
    "    chiral_tag = atom.GetChiralTag()\n",
    "    if chiral_tag == Chem.rdchem.ChiralType.CHI_TETRAHEDRAL_CW:\n",
    "        return 1\n",
    "    elif chiral_tag == Chem.rdchem.ChiralType.CHI_TETRAHEDRAL_CCW:\n",
    "        return 2\n",
    "    else:\n",
    "        return 0  # Unspecified or no chirality\n",
    "\n",
    "\n",
    "\n",
    "# Function to check molecule validity\n",
    "def is_valid_molecule(mol):\n",
    "    \"\"\"Sanity check for molecule validity after adding hydrogens.\"\"\"\n",
    "    try:\n",
    "        Chem.SanitizeMol(mol)\n",
    "        return True\n",
    "    except Exception as e:\n",
    "        print(f\"Sanitization failed: {e}\")\n",
    "        return False\n",
    "\n",
    "\n",
    "# Function to convert bond types to numeric values \n",
    "def bond_type_to_numeric(bond_type): \n",
    "     bond_mapping = {'SINGLE': 0, 'DOUBLE': 1, 'TRIPLE': 2, 'AROMATIC': 3} \n",
    "     return bond_mapping.get(bond_type, -1) \n",
    "\n",
    "\n",
    "# Function to calculate bond angles \n",
    "def calc_bond_angle(mol, atom1_idx, atom2_idx): \n",
    "     neighbors1 = [nbr.GetIdx() for nbr in mol.GetAtomWithIdx(atom1_idx).GetNeighbors() if nbr.GetIdx() != atom2_idx] \n",
    "     neighbors2 = [nbr.GetIdx() for nbr in mol.GetAtomWithIdx(atom2_idx).GetNeighbors() if nbr.GetIdx() != atom1_idx] \n",
    "     if neighbors1 and neighbors2: \n",
    "         return rdMolTransforms.GetAngleDeg(mol.GetConformer(), neighbors1[0], atom1_idx, atom2_idx)\n",
    "     return None \n",
    "\n",
    "\n",
    "# Function to check if a bond is rotatable \n",
    "def is_rotatable_bond(bond): \n",
    "     if bond.GetBondType() != Chem.rdchem.BondType.SINGLE:\n",
    "         return False \n",
    "     return (not bond.GetBeginAtom().IsInRing() and bond.GetBeginAtom().GetDegree() > 1 and \n",
    "             not bond.GetEndAtom().IsInRing() and bond.GetEndAtom().GetDegree() > 1)\n",
    "\n",
    "\n",
    "# Conformer generation with fallback \n",
    "def generate_conformer(mol, max_attempts=1000): \n",
    "     params = AllChem.ETKDG()\n",
    "     params.maxAttempts = max_attempts\n",
    "     try: \n",
    "         success = AllChem.EmbedMolecule(mol, params)\n",
    "         if success == -1: \n",
    "             return None  # Failed to generate conformer \n",
    "         try: \n",
    "             AllChem.UFFOptimizeMolecule(mol) \n",
    "         except ValueError: \n",
    "             if not AllChem.MMFFOptimizeMolecule(mol): \n",
    "                 return None \n",
    "     except Exception as e: \n",
    "         print(f'Conformer generation error: {e}') \n",
    "         return None \n",
    "     return mol \n",
    "\n",
    "def calc_bond_length(mol, atom1_idx, atom2_idx):\n",
    "    \"\"\"\n",
    "    Calculates the bond length (3D distance) between two atoms.\n",
    "    Args:\n",
    "        mol (Chem.Mol): RDKit molecule object.\n",
    "        atom1_idx (int): Index of the first atom.\n",
    "        atom2_idx (int): Index of the second atom.\n",
    "\n",
    "    Returns:\n",
    "        float: Bond length in Ångstroms.\n",
    "    \"\"\"\n",
    "    pos1 = mol.GetConformer().GetAtomPosition(atom1_idx)\n",
    "    pos2 = mol.GetConformer().GetAtomPosition(atom2_idx)\n",
    "    return pos1.Distance(pos2)\n",
    "\n",
    "def calc_bond_polarity(atom1, atom2):\n",
    "    \"\"\"\n",
    "    Calculates the bond polarity based on the electronegativity difference.\n",
    "    Args:\n",
    "        atom1 (Chem.Atom): First atom.\n",
    "        atom2 (Chem.Atom): Second atom.\n",
    "\n",
    "    Returns:\n",
    "        float: Bond polarity (absolute electronegativity difference).\n",
    "    \"\"\"\n",
    "    electronegativity = {\n",
    "        1: 2.20, 6: 2.55, 7: 3.04, 8: 3.44, 9: 3.98,\n",
    "        15: 2.19, 16: 2.58, 17: 3.16, 35: 2.96, 53: 2.66\n",
    "    }\n",
    "    en1 = electronegativity.get(atom1.GetAtomicNum(), 2.0)\n",
    "    en2 = electronegativity.get(atom2.GetAtomicNum(), 2.0)\n",
    "    return abs(en1 - en2)\n",
    "\n",
    "def is_bond_in_ring(bond):\n",
    "    \"\"\"\n",
    "    Checks if a bond is part of a ring.\n",
    "    Args:\n",
    "        bond (Chem.Bond): RDKit bond object.\n",
    "\n",
    "    Returns:\n",
    "        bool: True if the bond is in a ring, False otherwise.\n",
    "    \"\"\"\n",
    "    return bond.IsInRing()\n",
    "\n",
    "def is_bond_conjugated(bond):\n",
    "    \"\"\"\n",
    "    Checks if a bond is conjugated.\n",
    "    Args:\n",
    "        bond (Chem.Bond): RDKit bond object.\n",
    "\n",
    "    Returns:\n",
    "        bool: True if the bond is conjugated, False otherwise.\n",
    "    \"\"\"\n",
    "    return bond.GetIsConjugated()\n",
    "\n",
    "def get_bond_stereochemistry(bond):\n",
    "    \"\"\"\n",
    "    Retrieves the stereochemistry of a bond.\n",
    "    Args:\n",
    "        bond (Chem.Bond): RDKit bond object.\n",
    "\n",
    "    Returns:\n",
    "        int: 0 if no stereochemistry, 1 for cis, 2 for trans.\n",
    "    \"\"\"\n",
    "    stereo = bond.GetStereo()\n",
    "    if stereo == Chem.rdchem.BondStereo.STEREOCIS:\n",
    "        return 1\n",
    "    elif stereo == Chem.rdchem.BondStereo.STEREOTRANS:\n",
    "        return 2\n",
    "    return 0\n",
    "\n",
    "\n",
    "def mol_to_graph_data(mol: Chem.Mol, smiles_name) -> Data:\n",
    "    \"\"\"\n",
    "    Converts an RDKit Mol object to a PyTorch Geometric Data object.\n",
    "\n",
    "    Args:\n",
    "        mol (Chem.Mol): RDKit molecule object.\n",
    "\n",
    "    Returns:\n",
    "        data (Data): PyTorch Geometric Data object.\n",
    "    \"\"\"\n",
    "    # Add hydrogens and generate 3D coordinates\n",
    "    mol = Chem.AddHs(mol)\n",
    "    if not is_valid_molecule(mol):  # Validate molecule after adding Hs\n",
    "        print(f\"Invalid molecule after adding hydrogens: {smiles_name}\")\n",
    "        return None\n",
    "    \n",
    "    mol = generate_conformer(mol)\n",
    "    if mol is None:\n",
    "        return None\n",
    "    \n",
    "    # Nodes\n",
    "    node_feats = []\n",
    "    node_positions = []\n",
    "    for atom in mol.GetAtoms():\n",
    "        node_feats.append(atom_features(atom))\n",
    "        pos = mol.GetConformer().GetAtomPosition(atom.GetIdx())\n",
    "        node_positions.append([pos.x, pos.y, pos.z])\n",
    "    node_feats = torch.tensor(node_feats, dtype=torch.float)\n",
    "    node_positions = torch.tensor(node_positions, dtype=torch.float)\n",
    "    \n",
    "    # Edges\n",
    "    edge_index = []\n",
    "    edge_attrs = []\n",
    "    for bond in mol.GetBonds():\n",
    "        i = bond.GetBeginAtomIdx()\n",
    "        j = bond.GetEndAtomIdx()\n",
    "        edge_index.extend([[i, j], [j, i]])  # Undirected\n",
    "        \n",
    "        # Define atom1 and atom2\n",
    "        atom1 = mol.GetAtomWithIdx(i)\n",
    "        atom2 = mol.GetAtomWithIdx(j)\n",
    "        \n",
    "        bond_type_numeric = bond_type_to_numeric(str(bond.GetBondType()))\n",
    "        bond_angle = calc_bond_angle(mol, i, j) or 0.0\n",
    "        bond_length = calc_bond_length(mol, i, j)\n",
    "        rotatable = is_rotatable_bond(bond)\n",
    "        polarity = calc_bond_polarity(atom1, atom2)\n",
    "        in_ring = is_bond_in_ring(bond)\n",
    "        conjugated = is_bond_conjugated(bond)\n",
    "        stereo = get_bond_stereochemistry(bond)\n",
    "\n",
    "        edge_attrs.extend([\n",
    "            [bond_type_numeric, bond_angle, bond_length, int(rotatable), \n",
    "             polarity, int(in_ring), int(conjugated), stereo],\n",
    "            [bond_type_numeric, bond_angle, bond_length, int(rotatable), \n",
    "             polarity, int(in_ring), int(conjugated), stereo]  # Reverse direction\n",
    "        ])\n",
    "        \n",
    "    edge_index = torch.tensor(edge_index, dtype=torch.long).t().contiguous()\n",
    "    edge_attrs = torch.tensor(edge_attrs, dtype=torch.float)\n",
    "    \n",
    "    # Node velocities as small random values\n",
    "    node_velocities = torch.randn_like(node_positions) * 0.01\n",
    "    \n",
    "    data = Data(\n",
    "        x=node_feats,\n",
    "        pos=node_positions,\n",
    "        vel=node_velocities,\n",
    "        edge_index=edge_index,\n",
    "        edge_attr=edge_attrs,\n",
    "        smiles=smiles_name\n",
    "    )\n",
    "    return data"
   ]
  },
  {
   "cell_type": "code",
   "execution_count": 616,
   "metadata": {},
   "outputs": [
    {
     "name": "stderr",
     "output_type": "stream",
     "text": [
      " 27%|██▋       | 113/422 [00:15<00:29, 10.62it/s][09:01:02] UFFTYPER: Warning: hybridization set to SP3 for atom 20\n",
      "[09:01:03] UFFTYPER: Warning: hybridization set to SP3 for atom 20\n",
      "100%|██████████| 422/422 [00:31<00:00, 13.27it/s]\n",
      "100%|██████████| 90/90 [00:06<00:00, 14.99it/s]\n",
      "100%|██████████| 92/92 [00:07<00:00, 12.71it/s]"
     ]
    },
    {
     "name": "stdout",
     "output_type": "stream",
     "text": [
      "Number of training samples: 422\n",
      "Number of validation samples: 90\n",
      "Number of test samples: 92\n"
     ]
    },
    {
     "name": "stderr",
     "output_type": "stream",
     "text": [
      "\n"
     ]
    }
   ],
   "source": [
    "# Create datasets\n",
    "train_dataset = MoleculeDataset(train_df)\n",
    "val_dataset = MoleculeDataset(val_df)\n",
    "test_dataset = MoleculeDataset(test_df)\n",
    "\n",
    "# Create DataLoaders\n",
    "batch_size = 8 #was 32\n",
    "print(f\"Number of training samples: {len(train_dataset)}\")\n",
    "train_loader = DataLoader(train_dataset, batch_size=batch_size, shuffle=True)\n",
    "print(f\"Number of validation samples: {len(val_dataset)}\")\n",
    "val_loader = DataLoader(val_dataset, batch_size=batch_size)\n",
    "print(f\"Number of test samples: {len(test_dataset)}\")\n",
    "test_loader = DataLoader(test_dataset, batch_size=batch_size)\n"
   ]
  },
  {
   "cell_type": "code",
   "execution_count": 617,
   "metadata": {},
   "outputs": [],
   "source": [
    "# Initialize the HEGNN model and classifier\n",
    "device = torch.device('cuda' if torch.cuda.is_available() else 'cpu')\n",
    "\n",
    "# Define model parameters\n",
    "num_layers = 3\n",
    "mol = Chem.MolFromSmiles('CCO')\n",
    "node_input_dim = len(atom_features(mol.GetAtomWithIdx(0)))\n",
    "edge_attr_dim = 8   # Bond type, angle, rotatable, atom1, atom2 and more\n",
    "hidden_dim = 64\n",
    "max_ell = 2  # Example value\n",
    "\n",
    "# Initialize the HEGNN\n",
    "heg_nn = HEGNN(\n",
    "    num_layer=num_layers,\n",
    "    node_input_dim=node_input_dim,\n",
    "    edge_attr_dim=edge_attr_dim,\n",
    "    hidden_dim=hidden_dim,\n",
    "    max_ell=max_ell,\n",
    "    activation=nn.SiLU(),\n",
    "    device=device\n",
    ").to(device)\n",
    "\n",
    "class HEGNNClassifier(nn.Module):\n",
    "    \"\"\"\n",
    "    Model that combines HEGNN and a linear classifier.\n",
    "\n",
    "    Args:\n",
    "        heg_nn (HEGNN): The HEGNN model.\n",
    "        hidden_dim (int): Dimension of the HEGNN output.\n",
    "    \"\"\"\n",
    "    def __init__(self, heg_nn: HEGNN, hidden_dim: int):\n",
    "        super(HEGNNClassifier, self).__init__()\n",
    "        self.heg_nn = heg_nn\n",
    "        self.classifier = nn.Sequential(\n",
    "            nn.Linear(3, 64),\n",
    "            nn.ReLU(),\n",
    "            nn.Linear(64, 1)\n",
    "        )\n",
    "\n",
    "    def forward(self, data):\n",
    "        node_feat = data.x\n",
    "        node_pos = data.pos\n",
    "        node_vel = data.vel\n",
    "        edge_index = data.edge_index\n",
    "        edge_attr = data.edge_attr\n",
    "        batch = data.batch\n",
    "\n",
    "        node_embeddings = self.heg_nn(node_feat, node_pos, node_vel, edge_index, edge_attr)\n",
    "        graph_embeddings = global_mean_pool(node_embeddings, batch)\n",
    "        out = self.classifier(graph_embeddings)\n",
    "        return out, graph_embeddings\n",
    "\n",
    "# Initialize the classifier model\n",
    "model = HEGNNClassifier(heg_nn, hidden_dim).to(device)\n"
   ]
  },
  {
   "cell_type": "code",
   "execution_count": 618,
   "metadata": {},
   "outputs": [],
   "source": [
    "# Define loss function and optimizer\n",
    "criterion = nn.BCEWithLogitsLoss()\n",
    "optimizer = torch.optim.Adam(model.parameters(), lr=0.001)"
   ]
  },
  {
   "cell_type": "code",
   "execution_count": 619,
   "metadata": {},
   "outputs": [],
   "source": [
    "def train(model: nn.Module, loader: DataLoader) -> float:\n",
    "    \"\"\"\n",
    "    Training loop for one epoch.\n",
    "\n",
    "    Args:\n",
    "        model (nn.Module): The model to train.\n",
    "        loader (DataLoader): DataLoader for training data.\n",
    "\n",
    "    Returns:\n",
    "        float: Average loss over the epoch.\n",
    "    \"\"\"\n",
    "    model.train()\n",
    "    total_loss = 0\n",
    "    for data in loader:\n",
    "        data = data.to(device)\n",
    "        optimizer.zero_grad()\n",
    "        out, _ = model(data)\n",
    "        label = data.y.view(-1, 1)\n",
    "        loss = criterion(out, label)\n",
    "        loss.backward()\n",
    "        optimizer.step()\n",
    "        total_loss += loss.item() * data.num_graphs\n",
    "    return total_loss / len(loader.dataset)\n"
   ]
  },
  {
   "cell_type": "code",
   "execution_count": 620,
   "metadata": {},
   "outputs": [],
   "source": [
    "def evaluate(model: nn.Module, loader: DataLoader) -> Tuple[float, np.ndarray, np.ndarray]:\n",
    "    \"\"\"\n",
    "    Evaluation loop.\n",
    "\n",
    "    Args:\n",
    "        model (nn.Module): The model to evaluate.\n",
    "        loader (DataLoader): DataLoader for validation or test data.\n",
    "\n",
    "    Returns:\n",
    "        Tuple[float, np.ndarray, np.ndarray]: Average loss, predictions, and labels.\n",
    "    \"\"\"\n",
    "    model.eval()\n",
    "    total_loss = 0\n",
    "    all_preds = []\n",
    "    all_labels = []\n",
    "    with torch.no_grad():\n",
    "        for data in loader:\n",
    "            data = data.to(device)\n",
    "            out, _ = model(data)\n",
    "            label = data.y.view(-1, 1)\n",
    "            loss = criterion(out, label)\n",
    "            total_loss += loss.item() * data.num_graphs\n",
    "            preds = torch.sigmoid(out).cpu().numpy()\n",
    "            all_preds.extend(preds)\n",
    "            all_labels.extend(label.cpu().numpy())\n",
    "    return total_loss / len(loader.dataset), np.array(all_preds), np.array(all_labels)\n"
   ]
  },
  {
   "cell_type": "code",
   "execution_count": 621,
   "metadata": {},
   "outputs": [],
   "source": [
    "def get_accuracy(predictions: np.ndarray, labels: np.ndarray) -> float:\n",
    "    \"\"\"\n",
    "    Converts sigmoid prediction to binary values and computes accuracy\n",
    "\n",
    "    Args: \n",
    "        predictions (np.ndarray): Sigmoid prediction values\n",
    "        labels (np.ndarray): True binary labels\n",
    "\n",
    "    Returns:\n",
    "        float: The accuracy score\n",
    "    \"\"\"\n",
    "\n",
    "    binary_preds = []\n",
    "    for prediction in predictions:\n",
    "        if prediction >= .5:\n",
    "            binary_preds.append(1)\n",
    "        else:\n",
    "            binary_preds.append(0)\n",
    "    binary_preds = np.array(binary_preds)\n",
    "    accuracy = accuracy_score(binary_preds, labels)\n",
    "\n",
    "    return accuracy"
   ]
  },
  {
   "cell_type": "code",
   "execution_count": null,
   "metadata": {},
   "outputs": [
    {
     "name": "stdout",
     "output_type": "stream",
     "text": [
      "Epoch 1, Train Loss: 0.6984, Validation Loss: 0.6937, Validation Accuracy: 0.5000\n",
      "Epoch 2, Train Loss: 0.6939, Validation Loss: 0.6926, Validation Accuracy: 0.5111\n",
      "Epoch 3, Train Loss: 0.7096, Validation Loss: 0.6926, Validation Accuracy: 0.5444\n",
      "Epoch 4, Train Loss: 0.6936, Validation Loss: 0.6928, Validation Accuracy: 0.5000\n",
      "Epoch 5, Train Loss: 0.6934, Validation Loss: 0.6926, Validation Accuracy: 0.5111\n",
      "Epoch 6, Train Loss: 0.6939, Validation Loss: 0.6926, Validation Accuracy: 0.5556\n",
      "Epoch 7, Train Loss: 0.6931, Validation Loss: 0.6925, Validation Accuracy: 0.5444\n",
      "Epoch 8, Train Loss: 0.6931, Validation Loss: 0.6938, Validation Accuracy: 0.4889\n",
      "Epoch 9, Train Loss: 6.9624, Validation Loss: 0.6892, Validation Accuracy: 0.5000\n",
      "Epoch 10, Train Loss: 0.6895, Validation Loss: 0.6912, Validation Accuracy: 0.4889\n"
     ]
    }
   ],
   "source": [
    "# Training loop execution\n",
    "num_epochs = 15 #was 20 \n",
    "for epoch in range(1, num_epochs + 1):\n",
    "    train_loss = train(model, train_loader)\n",
    "    val_loss, val_preds, val_labels = evaluate(model, val_loader)\n",
    "\n",
    "    val_accuracy = get_accuracy(val_preds, val_labels)\n",
    "    \n",
    "    print(f'Epoch {epoch}, Train Loss: {train_loss:.4f}, Validation Loss: {val_loss:.4f}, Validation Accuracy: {val_accuracy:.4f}')\n"
   ]
  },
  {
   "cell_type": "code",
   "execution_count": 623,
   "metadata": {},
   "outputs": [
    {
     "name": "stdout",
     "output_type": "stream",
     "text": [
      "[0.5539119]\n"
     ]
    }
   ],
   "source": [
    "for val in val_preds:\n",
    "    if val > .54:\n",
    "        print(val)\n",
    "#print(val_preds[0:10])"
   ]
  },
  {
   "cell_type": "code",
   "execution_count": 624,
   "metadata": {},
   "outputs": [],
   "source": [
    "def get_embeddings_and_labels(model: nn.Module, loader: DataLoader) -> Tuple[np.ndarray, np.ndarray]:\n",
    "    \"\"\"\n",
    "    Extracts graph embeddings and labels from the model.\n",
    "\n",
    "    Args:\n",
    "        model (nn.Module): The trained model.\n",
    "        loader (DataLoader): DataLoader for the dataset.\n",
    "\n",
    "    Returns:\n",
    "        Tuple[np.ndarray, np.ndarray]: Embeddings and labels.\n",
    "    \"\"\"\n",
    "    model.eval()\n",
    "    embeddings = []\n",
    "    labels = []\n",
    "    with torch.no_grad():\n",
    "        for data in loader:\n",
    "            data = data.to(device)\n",
    "            out, graph_embeddings = model(data)\n",
    "            embeddings.append(graph_embeddings.cpu())\n",
    "            labels.append(data.y.cpu())\n",
    "    embeddings = torch.cat(embeddings, dim=0)\n",
    "    labels = torch.cat(labels, dim=0)\n",
    "    return embeddings.numpy(), labels.numpy()\n"
   ]
  },
  {
   "cell_type": "code",
   "execution_count": 625,
   "metadata": {},
   "outputs": [],
   "source": [
    "# Get embeddings and labels\n",
    "train_embeddings, train_labels = get_embeddings_and_labels(model, train_loader) \n",
    "val_embeddings, val_labels = get_embeddings_and_labels(model, val_loader)\n",
    "test_embeddings, test_labels = get_embeddings_and_labels(model, test_loader)\n"
   ]
  },
  {
   "cell_type": "code",
   "execution_count": 626,
   "metadata": {},
   "outputs": [
    {
     "data": {
      "image/png": "[encoded data removed]",
      "text/plain": [
       "<Figure size 864x432 with 3 Axes>"
      ]
     },
     "metadata": {
      "needs_background": "light"
     },
     "output_type": "display_data"
    }
   ],
   "source": [
    "\n",
    "pca = PCA(n_components=2)\n",
    "train_pca = pca.fit_transform(train_embeddings)\n",
    "val_pca = pca.transform(val_embeddings)\n",
    "test_pca = pca.transform(test_embeddings)\n",
    "\n",
    "# Remove major outliers for better visualization from PCA and labels\n",
    "x_mean = np.mean(train_pca[:, 0])\n",
    "x_std = np.std(train_pca[:, 0])\n",
    "y_mean = np.mean(train_pca[:, 1])\n",
    "y_std = np.std(train_pca[:, 1])\n",
    "\n",
    "# Prune outliers down to 1 standard deviation from the mean\n",
    "pruned_train_pca = train_pca[(train_pca[:, 0] < x_mean + x_std) & (train_pca[:, 0] > x_mean - x_std) &\n",
    "                             (train_pca[:, 1] < y_mean + y_std) & (train_pca[:, 1] > y_mean - y_std)]\n",
    "pruned_train_labels = train_labels[(train_pca[:, 0] < x_mean + x_std) & (train_pca[:, 0] > x_mean - x_std) &\n",
    "                                   (train_pca[:, 1] < y_mean + y_std) & (train_pca[:, 1] > y_mean - y_std)]\n",
    "\n",
    "pruned_val_pca = val_pca[(val_pca[:, 0] < x_mean + x_std) & (val_pca[:, 0] > x_mean - x_std) &\n",
    "                            (val_pca[:, 1] < y_mean + y_std) & (val_pca[:, 1] > y_mean - y_std)]\n",
    "pruned_val_labels = val_labels[(val_pca[:, 0] < x_mean + x_std) & (val_pca[:, 0] > x_mean - x_std) &\n",
    "                                (val_pca[:, 1] < y_mean + y_std) & (val_pca[:, 1] > y_mean - y_std)]\n",
    "\n",
    "pruned_test_pca = test_pca[(test_pca[:, 0] < x_mean + x_std) & (test_pca[:, 0] > x_mean - x_std) &\n",
    "                            (test_pca[:, 1] < y_mean + y_std) & (test_pca[:, 1] > y_mean - y_std)]\n",
    "pruned_test_labels = test_labels[(test_pca[:, 0] < x_mean + x_std) & (test_pca[:, 0] > x_mean - x_std) &\n",
    "                                (test_pca[:, 1] < y_mean + y_std) & (test_pca[:, 1] > y_mean - y_std)]\n",
    "\n",
    "\n",
    "# Plot PCA embeddings\n",
    "plt.figure(figsize=(12, 6))\n",
    "plt.subplot(1, 3, 1)\n",
    "plt.scatter(pruned_train_pca[:, 0], pruned_train_pca[:, 1], c=pruned_train_labels, cmap='coolwarm', s=10)\n",
    "plt.title('Train Data')\n",
    "plt.subplot(1, 3, 2)\n",
    "plt.scatter(pruned_val_pca[:, 0], pruned_val_pca[:, 1], c=pruned_val_labels, cmap='coolwarm', s=10)\n",
    "plt.title('Validation Data')\n",
    "plt.subplot(1, 3, 3)\n",
    "plt.scatter(pruned_test_pca[:, 0], pruned_test_pca[:, 1], c=pruned_test_labels, cmap='coolwarm', s=10)\n",
    "plt.title('Test Data')\n",
    "plt.tight_layout()\n",
    "plt.show()\n",
    "\n"
   ]
  },
  {
   "cell_type": "code",
   "execution_count": 627,
   "metadata": {},
   "outputs": [
    {
     "data": {
      "image/png": "[encoded data removed]",
      "text/plain": [
       "<Figure size 576x432 with 2 Axes>"
      ]
     },
     "metadata": {
      "needs_background": "light"
     },
     "output_type": "display_data"
    },
    {
     "data": {
      "image/png": "[encoded data removed]",
      "text/plain": [
       "<Figure size 576x432 with 2 Axes>"
      ]
     },
     "metadata": {
      "needs_background": "light"
     },
     "output_type": "display_data"
    }
   ],
   "source": [
    "# Perform PCA and plot embeddings\n",
    "from sklearn.decomposition import PCA\n",
    "\n",
    "# Combine embeddings and labels\n",
    "all_embeddings = np.concatenate([train_embeddings, val_embeddings, test_embeddings], axis=0)\n",
    "all_labels = np.concatenate([train_labels, val_labels, test_labels], axis=0)\n",
    "\n",
    "# Perform PCA\n",
    "pca = PCA(n_components=3)\n",
    "pca_result = pca.fit_transform(all_embeddings)\n",
    "\n",
    "# Prune outliers down to 1 standard deviation from the mean\n",
    "x_mean = np.mean(pca_result[:, 0])\n",
    "x_std = np.std(pca_result[:, 0])\n",
    "y_mean = np.mean(pca_result[:, 1])\n",
    "y_std = np.std(pca_result[:, 1])\n",
    "z_mean = np.mean(pca_result[:, 2])\n",
    "z_std = np.std(pca_result[:, 2])\n",
    "\n",
    "# Prune outliers down to 1 standard deviation from the mean\n",
    "pruned_pca_result = pca_result[(pca_result[:, 0] < x_mean + x_std) & (pca_result[:, 0] > x_mean - x_std) &\n",
    "                               (pca_result[:, 1] < y_mean + y_std) & (pca_result[:, 1] > y_mean - y_std) &\n",
    "                                 (pca_result[:, 2] < z_mean + z_std) & (pca_result[:, 2] > z_mean - z_std)]\n",
    "pruned_labels = all_labels[(pca_result[:, 0] < x_mean + x_std) & (pca_result[:, 0] > x_mean - x_std) &\n",
    "                            (pca_result[:, 1] < y_mean + y_std) & (pca_result[:, 1] > y_mean - y_std) &\n",
    "                            (pca_result[:, 2] < z_mean + z_std) & (pca_result[:, 2] > z_mean - z_std)]\n",
    "\n",
    "# Plot PCA\n",
    "plt.figure(figsize=(8, 6))\n",
    "scatter = plt.scatter(pruned_pca_result[:, 0], pruned_pca_result[:, 1], c=pruned_labels.squeeze(), cmap='coolwarm', alpha=0.7)\n",
    "plt.xlabel('PC1')\n",
    "plt.ylabel('PC2')\n",
    "plt.title('PCA of Graph Embeddings Colored by Function')\n",
    "plt.colorbar(scatter, label='Function')\n",
    "plt.show()\n",
    "\n",
    "# Also plot PCA2 and PCA3\n",
    "pca = PCA(n_components=3)\n",
    "pca_result = pca.fit_transform(all_embeddings)\n",
    "\n",
    "# Plot PCA\n",
    "plt.figure(figsize=(8, 6))\n",
    "scatter = plt.scatter(pruned_pca_result[:, 1], pruned_pca_result[:, 2], c=pruned_labels.squeeze(), cmap='coolwarm', alpha=0.7)\n",
    "plt.xlabel('PC2')\n",
    "plt.ylabel('PC3')\n",
    "plt.title('PCA of Graph Embeddings Colored by Function')\n",
    "plt.colorbar(scatter, label='Function')\n",
    "plt.show()\n"
   ]
  },
  {
   "cell_type": "code",
   "execution_count": 628,
   "metadata": {},
   "outputs": [
    {
     "data": {
      "image/png": "[encoded data removed]",
      "text/plain": [
       "<Figure size 432x288 with 1 Axes>"
      ]
     },
     "metadata": {
      "needs_background": "light"
     },
     "output_type": "display_data"
    }
   ],
   "source": [
    "# Train a linear classifier on the embeddings\n",
    "from sklearn.linear_model import LogisticRegression\n",
    "from sklearn.metrics import roc_auc_score, roc_curve\n",
    "\n",
    "# Prepare training and test data\n",
    "X_train = train_embeddings\n",
    "y_train = train_labels.squeeze()\n",
    "X_test = test_embeddings\n",
    "y_test = test_labels.squeeze()\n",
    "\n",
    "# Train logistic regression\n",
    "clf = LogisticRegression(max_iter=1000)\n",
    "clf.fit(X_train, y_train)\n",
    "\n",
    "# Predict probabilities\n",
    "y_scores = clf.predict_proba(X_test)[:, 1]\n",
    "\n",
    "# Compute ROC curve and AUC\n",
    "fpr, tpr, thresholds = roc_curve(y_test, y_scores)\n",
    "roc_auc = auc(fpr, tpr)\n",
    "\n",
    "# Plot ROC curve\n",
    "plt.figure()\n",
    "plt.plot(fpr, tpr, label=f'ROC curve (AUC = {roc_auc:.2f})')\n",
    "plt.plot([0, 1], [0, 1], 'k--')\n",
    "plt.xlim([0.0, 1.0])\n",
    "plt.ylim([0.0, 1.05])\n",
    "plt.xlabel('False Positive Rate')\n",
    "plt.ylabel('True Positive Rate')\n",
    "plt.title('ROC - Test Set')\n",
    "plt.legend(loc='lower right')\n",
    "plt.show()\n"
   ]
  },
  {
   "cell_type": "code",
   "execution_count": 629,
   "metadata": {},
   "outputs": [
    {
     "name": "stdout",
     "output_type": "stream",
     "text": [
      "Testing accuracy: 0.4891\n"
     ]
    },
    {
     "data": {
      "image/png": "[encoded data removed]",
      "text/plain": [
       "<Figure size 432x288 with 1 Axes>"
      ]
     },
     "metadata": {
      "needs_background": "light"
     },
     "output_type": "display_data"
    }
   ],
   "source": [
    "# Evaluate the full model on the test set and plot ROC curve\n",
    "model.eval()\n",
    "all_preds = []\n",
    "all_labels = []\n",
    "with torch.no_grad():\n",
    "    for data in test_loader:\n",
    "        data = data.to(device)\n",
    "        out, _ = model(data)\n",
    "        preds = torch.sigmoid(out).cpu().numpy()\n",
    "        labels = data.y.cpu().numpy()\n",
    "        all_preds.extend(preds)\n",
    "        all_labels.extend(labels)\n",
    "\n",
    "accuracy = get_accuracy(all_preds, all_labels)\n",
    "print(f\"Testing accuracy: {accuracy:.4f}\")\n",
    "\n",
    "# Compute ROC curve and AUC\n",
    "fpr, tpr, thresholds = roc_curve(all_labels, all_preds)\n",
    "\n",
    "roc_auc = auc(fpr, tpr)\n",
    "\n",
    "# Plot ROC curve\n",
    "plt.figure()\n",
    "plt.plot(fpr, tpr, label=f'Full Model ROC curve (AUC = {roc_auc:.2f})')\n",
    "plt.plot([0, 1], [0, 1], 'k--')\n",
    "plt.xlim([0.0, 1.0])\n",
    "plt.ylim([0.0, 1.05])\n",
    "plt.xlabel('False Positive Rate')\n",
    "plt.ylabel('True Positive Rate')\n",
    "plt.title('ROC - Full Model')\n",
    "plt.legend(loc='lower right')\n",
    "plt.show()\n"
   ]
  },
  {
   "cell_type": "code",
   "execution_count": 630,
   "metadata": {},
   "outputs": [
    {
     "name": "stdout",
     "output_type": "stream",
     "text": [
      "1\n",
      "92\n"
     ]
    }
   ],
   "source": [
    "count = 0\n",
    "for val in all_preds:\n",
    "    if val > .5:\n",
    "        #print(val)\n",
    "        count += 1\n",
    "#print(preds[0:10])\n",
    "print(count)\n",
    "print(len(all_preds))\n"
   ]
  },
  {
   "cell_type": "markdown",
   "metadata": {},
   "source": [
    "# Time to Decode! Using a GraphRNN approach."
   ]
  },
  {
   "cell_type": "code",
   "execution_count": 631,
   "metadata": {},
   "outputs": [],
   "source": [
    "import torch\n",
    "import torch.nn as nn\n",
    "from torch.utils.data import Dataset, DataLoader\n",
    "import torch.nn.functional as F\n",
    "\n",
    "# For graph operations\n",
    "from torch_geometric.utils import to_networkx, from_networkx\n",
    "\n",
    "# For processing\n",
    "import networkx as nx\n",
    "import numpy as np"
   ]
  },
  {
   "cell_type": "code",
   "execution_count": 632,
   "metadata": {},
   "outputs": [],
   "source": [
    "class GraphSequenceDataset(Dataset):\n",
    "    \"\"\"\n",
    "    Dataset class that converts graphs into sequences suitable for GraphRNN,\n",
    "    and includes corresponding graph embeddings.\n",
    "    \"\"\"\n",
    "    def __init__(self, data_list, embeddings):\n",
    "        self.graph_sequences = []\n",
    "        self.embeddings = embeddings\n",
    "        for idx, data in enumerate(data_list):\n",
    "            G = to_networkx(data, to_undirected=True)\n",
    "            seq_nodes, seq_adj = self.graph_to_sequence(G, data)\n",
    "            graph_embedding = embeddings[idx]\n",
    "            self.graph_sequences.append((seq_nodes, seq_adj, graph_embedding))\n",
    "\n",
    "    def graph_to_sequence(self, G, data):\n",
    "        \"\"\"\n",
    "        Converts a NetworkX graph into a sequence of node features and adjacency vectors.\n",
    "        \"\"\"\n",
    "        num_nodes = G.number_of_nodes()\n",
    "        seq_nodes = []\n",
    "        seq_adj = []\n",
    "\n",
    "        # We need a consistent node ordering\n",
    "        nodes = list(G.nodes())\n",
    "        node_order = dict(zip(nodes, range(num_nodes)))\n",
    "\n",
    "        # Node features\n",
    "        node_features = data.x.numpy()\n",
    "\n",
    "        for i in range(num_nodes):\n",
    "            node_idx = nodes[i]\n",
    "            # Node feature\n",
    "            node_feat = node_features[node_idx]\n",
    "            seq_nodes.append(node_feat)\n",
    "\n",
    "            # Adjacency vector\n",
    "            adj_vector = np.zeros(i)\n",
    "            for j in range(i):\n",
    "                if G.has_edge(node_idx, nodes[j]):\n",
    "                    adj_vector[j] = 1\n",
    "            seq_adj.append(adj_vector)\n",
    "\n",
    "        return seq_nodes, seq_adj\n",
    "\n",
    "    def __len__(self):\n",
    "        return len(self.graph_sequences)\n",
    "\n",
    "    def __getitem__(self, idx):\n",
    "        seq_nodes, seq_adj, graph_embedding = self.graph_sequences[idx]\n",
    "        return seq_nodes, seq_adj, graph_embedding\n"
   ]
  },
  {
   "cell_type": "code",
   "execution_count": 633,
   "metadata": {},
   "outputs": [],
   "source": [
    "# Ensure embeddings are converted to tensors\n",
    "train_embeddings_tensor = torch.tensor(train_embeddings, dtype=torch.float)\n",
    "\n",
    "# Prepare the dataset\n",
    "graph_sequence_dataset = GraphSequenceDataset(train_dataset.data_list, train_embeddings_tensor)\n",
    "\n",
    "# Define a collate function\n",
    "def collate_fn(batch):\n",
    "    seq_nodes, seq_adj, graph_embeddings = zip(*batch)\n",
    "    return seq_nodes, seq_adj, torch.stack(graph_embeddings)\n",
    "\n",
    "# DataLoader\n",
    "graph_sequence_loader = DataLoader(\n",
    "    graph_sequence_dataset,\n",
    "    batch_size=batch_size,\n",
    "    shuffle=True,\n",
    "    collate_fn=collate_fn\n",
    ")\n"
   ]
  },
  {
   "cell_type": "code",
   "execution_count": 634,
   "metadata": {},
   "outputs": [],
   "source": [
    "class NodeRNN(nn.Module):\n",
    "    \"\"\"\n",
    "    RNN model for processing node features. \n",
    "    \"\"\"\n",
    "    def __init__(self, node_feat_size, hidden_size):\n",
    "        super(NodeRNN, self).__init__()\n",
    "        self.hidden_size = hidden_size\n",
    "        self.gru = nn.GRU(node_feat_size, hidden_size, batch_first=True)\n",
    "\n",
    "    def forward(self, node_feats, hidden):\n",
    "        # node_feats: (batch_size, 1, node_feat_size)\n",
    "        output, hidden = self.gru(node_feats, hidden)\n",
    "        return output, hidden\n",
    "\n",
    "class EdgeRNN(nn.Module):\n",
    "    \"\"\"\n",
    "    RNN model for processing adjacency vectors.\n",
    "    \"\"\"\n",
    "    def __init__(self, hidden_size):\n",
    "        super(EdgeRNN, self).__init__()\n",
    "        self.hidden_size = hidden_size\n",
    "        self.gru = nn.GRU(1, hidden_size, batch_first=True)\n",
    "\n",
    "    def forward(self, adjacency_vector, hidden):\n",
    "        output, hidden = self.gru(adjacency_vector, hidden)\n",
    "        return output, hidden\n",
    "\n"
   ]
  },
  {
   "cell_type": "code",
   "execution_count": 635,
   "metadata": {},
   "outputs": [],
   "source": [
    "class GraphRNN(nn.Module):\n",
    "    def __init__(self, node_feat_size, hidden_size, embedding_size):\n",
    "        super(GraphRNN, self).__init__()\n",
    "        self.hidden_size = hidden_size\n",
    "        self.embedding_size = embedding_size\n",
    "\n",
    "        # Embedding layer to map graph embeddings to initial hidden state\n",
    "        self.embedding_layer = nn.Linear(embedding_size, hidden_size)\n",
    "\n",
    "        # NodeRNN and EdgeRNN\n",
    "        self.node_rnn = NodeRNN(node_feat_size, hidden_size)\n",
    "        self.edge_rnn = EdgeRNN(hidden_size)\n",
    "\n",
    "        # Output layer for edge predictions\n",
    "        self.edge_output_layer = nn.Linear(hidden_size, 1)\n",
    "\n",
    "    def pad_adjacency(self, adj_seq, max_len):\n",
    "        \"\"\" \n",
    "        This function pads adjacency vectors to a fixed length.\n",
    "        This is necessary for batch processing because each graph may have a different number of nodes.\n",
    "        \"\"\"\n",
    "        padded_adj = torch.zeros((max_len, max_len))\n",
    "        seq_len = len(adj_seq)\n",
    "        for i in range(seq_len):\n",
    "            adj_vector = adj_seq[i]\n",
    "            padded_adj[i, :len(adj_vector)] = torch.tensor(adj_vector, dtype=torch.float)\n",
    "        return padded_adj\n",
    "\n",
    "    def forward(self, seq_nodes, seq_adj, graph_embeddings):\n",
    "        batch_size = len(seq_nodes)\n",
    "        seq_len = max(len(s) for s in seq_nodes)\n",
    "\n",
    "        # Initialize hidden state from graph embeddings\n",
    "        h0 = self.embedding_layer(graph_embeddings).unsqueeze(0)  # (1, batch_size, hidden_size)\n",
    "\n",
    "        # Pad node feature sequences\n",
    "        node_feats_padded = nn.utils.rnn.pad_sequence(\n",
    "            [torch.tensor(s, dtype=torch.float) for s in seq_nodes],\n",
    "            batch_first=True\n",
    "        ).to(device)  # (batch_size, seq_len, node_feat_size)\n",
    "\n",
    "        # Pad adjacency sequences\n",
    "        adj_padded = [self.pad_adjacency(s, seq_len) for s in seq_adj]\n",
    "        adj_padded = torch.stack(adj_padded, dim=0).to(device)  # (batch_size, seq_len, seq_len)\n",
    "\n",
    "        # NodeRNN - This will output node hidden states at each sequence step\n",
    "        node_outputs, _ = self.node_rnn(node_feats_padded, h0)  # (batch_size, seq_len, hidden_size)\n",
    "\n",
    "        # EdgeRNN - This will output edge logits for each node at each sequence step\n",
    "        edge_logits_list = []\n",
    "        for i in range(seq_len):\n",
    "            # Get the node hidden state at time step i\n",
    "            edge_hidden = node_outputs[:, i, :].unsqueeze(0)  # (1, batch_size, hidden_size)\n",
    "            adj_vectors = adj_padded[:, i, :i+1].unsqueeze(-1)  # (batch_size, i+1, 1)\n",
    "            edge_output, _ = self.edge_rnn(adj_vectors, edge_hidden)\n",
    "            edge_logits = self.edge_output_layer(edge_output).squeeze(-1)  # (batch_size, i+1)\n",
    "            edge_logits_list.append(edge_logits)\n",
    "\n",
    "        return edge_logits_list, adj_padded\n",
    "\n"
   ]
  },
  {
   "cell_type": "code",
   "execution_count": 636,
   "metadata": {},
   "outputs": [],
   "source": [
    "def train_graph_rnn(model, data_loader, optimizer, edge_criterion, epochs=10):\n",
    "    model.train()\n",
    "    for epoch in range(epochs):\n",
    "        total_loss = 0\n",
    "        for seq_nodes, seq_adj, graph_embeddings in tqdm(data_loader):\n",
    "            batch_size = len(seq_nodes)\n",
    "            optimizer.zero_grad()\n",
    "\n",
    "            # Move data to device\n",
    "            graph_embeddings = graph_embeddings.to(device)  # (batch_size, embedding_size)\n",
    "\n",
    "            # Forward pass\n",
    "            edge_logits_list, adj_padded = model(seq_nodes, seq_adj, graph_embeddings)\n",
    "\n",
    "            # Compute loss\n",
    "            loss = 0\n",
    "            seq_len = len(edge_logits_list)\n",
    "            for i in range(seq_len):\n",
    "                # Prepare target adjacency vector\n",
    "                adj_targets = adj_padded[:, i, :i+1]  # (batch_size, i+1)\n",
    "                edge_logits = edge_logits_list[i]  # (batch_size, i+1)\n",
    "\n",
    "                # Mask padded positions where adj_targets is zero and i >= actual sequence length\n",
    "                actual_lengths = [len(s) for s in seq_adj]  # Original sequence lengths\n",
    "                max_len = adj_padded.size(1)\n",
    "                batch_indices = torch.arange(batch_size).unsqueeze(1).expand(batch_size, max_len).to(device) # maybe usefull?\n",
    "                time_indices = torch.arange(max_len).unsqueeze(0).expand(batch_size, max_len).to(device) # \"time\" here is the sequence length\n",
    "\n",
    "                # Create mask where time index is less than actual length\n",
    "                mask = time_indices < torch.tensor(actual_lengths).unsqueeze(1).to(device)\n",
    "\n",
    "                adj_targets = adj_padded[:, i, :i+1]\n",
    "                edge_logits = edge_logits_list[i]\n",
    "\n",
    "                mask = mask[:, :i+1]\n",
    "\n",
    "                if mask.any():\n",
    "                    loss_step = edge_criterion(edge_logits[mask], adj_targets[mask])\n",
    "                    loss += loss_step\n",
    "\n",
    "            loss.backward()\n",
    "            optimizer.step()\n",
    "            total_loss += loss.item()\n",
    "\n",
    "        avg_loss = total_loss / len(data_loader)\n",
    "        print(f\"Epoch {epoch+1}/{epochs}, Loss: {avg_loss:.4f}\")\n"
   ]
  },
  {
   "cell_type": "code",
   "execution_count": 637,
   "metadata": {},
   "outputs": [
    {
     "name": "stderr",
     "output_type": "stream",
     "text": [
      "100%|██████████| 53/53 [00:40<00:00,  1.31it/s]\n"
     ]
    },
    {
     "name": "stdout",
     "output_type": "stream",
     "text": [
      "Epoch 1/10, Loss: 27.8966\n"
     ]
    },
    {
     "name": "stderr",
     "output_type": "stream",
     "text": [
      "100%|██████████| 53/53 [00:43<00:00,  1.22it/s]\n"
     ]
    },
    {
     "name": "stdout",
     "output_type": "stream",
     "text": [
      "Epoch 2/10, Loss: 11.5755\n"
     ]
    },
    {
     "name": "stderr",
     "output_type": "stream",
     "text": [
      "100%|██████████| 53/53 [00:37<00:00,  1.41it/s]\n"
     ]
    },
    {
     "name": "stdout",
     "output_type": "stream",
     "text": [
      "Epoch 3/10, Loss: 10.1886\n"
     ]
    },
    {
     "name": "stderr",
     "output_type": "stream",
     "text": [
      "100%|██████████| 53/53 [00:40<00:00,  1.32it/s]\n"
     ]
    },
    {
     "name": "stdout",
     "output_type": "stream",
     "text": [
      "Epoch 4/10, Loss: 8.4989\n"
     ]
    },
    {
     "name": "stderr",
     "output_type": "stream",
     "text": [
      "100%|██████████| 53/53 [00:37<00:00,  1.42it/s]\n"
     ]
    },
    {
     "name": "stdout",
     "output_type": "stream",
     "text": [
      "Epoch 5/10, Loss: 6.0466\n"
     ]
    },
    {
     "name": "stderr",
     "output_type": "stream",
     "text": [
      "100%|██████████| 53/53 [00:37<00:00,  1.41it/s]\n"
     ]
    },
    {
     "name": "stdout",
     "output_type": "stream",
     "text": [
      "Epoch 6/10, Loss: 3.4397\n"
     ]
    },
    {
     "name": "stderr",
     "output_type": "stream",
     "text": [
      "100%|██████████| 53/53 [00:37<00:00,  1.40it/s]\n"
     ]
    },
    {
     "name": "stdout",
     "output_type": "stream",
     "text": [
      "Epoch 7/10, Loss: 1.7063\n"
     ]
    },
    {
     "name": "stderr",
     "output_type": "stream",
     "text": [
      "100%|██████████| 53/53 [00:44<00:00,  1.20it/s]\n"
     ]
    },
    {
     "name": "stdout",
     "output_type": "stream",
     "text": [
      "Epoch 8/10, Loss: 0.9784\n"
     ]
    },
    {
     "name": "stderr",
     "output_type": "stream",
     "text": [
      "100%|██████████| 53/53 [00:46<00:00,  1.15it/s]\n"
     ]
    },
    {
     "name": "stdout",
     "output_type": "stream",
     "text": [
      "Epoch 9/10, Loss: 0.6365\n"
     ]
    },
    {
     "name": "stderr",
     "output_type": "stream",
     "text": [
      "100%|██████████| 53/53 [00:38<00:00,  1.37it/s]"
     ]
    },
    {
     "name": "stdout",
     "output_type": "stream",
     "text": [
      "Epoch 10/10, Loss: 0.4589\n"
     ]
    },
    {
     "name": "stderr",
     "output_type": "stream",
     "text": [
      "\n"
     ]
    }
   ],
   "source": [
    "# Instantiate the model\n",
    "node_feat_size = train_dataset[0].x.shape[1]  # Assuming all nodes have the same feature size\n",
    "hidden_size = 64\n",
    "embedding_size = train_embeddings.shape[1]  # From the HEGNN embeddings\n",
    "\n",
    "graph_rnn = GraphRNN(node_feat_size, hidden_size, embedding_size).to(device)\n",
    "\n",
    "# Loss function and optimizer\n",
    "edge_criterion = nn.BCEWithLogitsLoss()\n",
    "optimizer = torch.optim.Adam(graph_rnn.parameters(), lr=0.001)\n",
    "\n",
    "# Train the model\n",
    "train_graph_rnn(graph_rnn, graph_sequence_loader, optimizer, edge_criterion, epochs=10)\n"
   ]
  },
  {
   "cell_type": "markdown",
   "metadata": {},
   "source": [
    "# Woah, it actually trained something. Well, going to try to actually make a molecule now. For science!"
   ]
  },
  {
   "cell_type": "code",
   "execution_count": 638,
   "metadata": {},
   "outputs": [],
   "source": [
    "# Get positive embeddings\n",
    "positive_embeddings = train_embeddings[train_labels.squeeze() == 1]\n",
    "\n",
    "# Calculate centroid\n",
    "centroid = np.mean(positive_embeddings, axis=0)\n",
    "centroid = torch.tensor(centroid, dtype=torch.float).to(device)\n"
   ]
  },
  {
   "cell_type": "code",
   "execution_count": 639,
   "metadata": {},
   "outputs": [],
   "source": [
    "def generate_graph(model, initial_embedding, max_nodes=20):\n",
    "    model.eval()\n",
    "    generated_nodes = []\n",
    "    generated_adj = []\n",
    "\n",
    "    # Initialize hidden state\n",
    "    h0 = model.embedding_layer(initial_embedding.unsqueeze(0))  # Shape: (1, hidden_size)\n",
    "    h0 = h0.unsqueeze(0)  # Shape: (1, 1, hidden_size)\n",
    "\n",
    "    # Start NodeRNN generation\n",
    "    node_hidden = h0\n",
    "    for i in range(max_nodes):\n",
    "        # For simplicity, I'm sampling node features from a standard normal distribution\n",
    "        # might want to change this to sample from a learned distribution or use a specific node type\n",
    "        node_feat = torch.randn(1, 1, node_feat_size).to(device)\n",
    "        node_output, node_hidden = model.node_rnn(node_feat, node_hidden) # Right now I'm generating node features from the data, we should probably change this to use real atom features\n",
    "        generated_nodes.append(node_feat.squeeze(0).cpu().numpy())\n",
    "\n",
    "        # EdgeRNN generation\n",
    "        adj_vector = []\n",
    "        edge_input = torch.zeros(1, 1, 1).to(device)  # Start with zero\n",
    "        edge_hidden = node_hidden\n",
    "        for j in range(i+1):\n",
    "            edge_output, edge_hidden = model.edge_rnn(edge_input, edge_hidden)\n",
    "            edge_logit = model.edge_output_layer(edge_output)\n",
    "            edge_prob = torch.sigmoid(edge_logit)\n",
    "            #print(edge_prob)\n",
    "            #edge_pred = (edge_prob > 0.25).float() # This is arbitrary, could be improved\n",
    "            # Instead, use the edge prob as a binomial distribution\n",
    "            edge_pred = torch.bernoulli(edge_prob)\n",
    "            adj_vector.append(edge_pred.item())\n",
    "            edge_input = edge_pred.view(1, 1, 1)\n",
    "\n",
    "        generated_adj.append(adj_vector)\n",
    "\n",
    "        # Decide whether to stop (right now I'm not doing EOS, we should probably add this)\n",
    "        if i > 5 and all(a == 0 for a in adj_vector):\n",
    "            break  # No new connections, can stop early\n",
    "\n",
    "    return generated_nodes, generated_adj\n"
   ]
  },
  {
   "cell_type": "code",
   "execution_count": 640,
   "metadata": {},
   "outputs": [],
   "source": [
    "def display_generated_graph(generated_graph):\n",
    "    # Display the generated graph\n",
    "    plt.figure(figsize=(8, 6))\n",
    "    pos = nx.spring_layout(generated_graph)\n",
    "    nx.draw(generated_graph, pos, with_labels=True, node_size=500, font_size=10, font_color='white')\n",
    "    plt.title('Generated Graph')\n",
    "    plt.show()\n",
    "\n",
    "    print(generated_graph)\n"
   ]
  },
  {
   "cell_type": "code",
   "execution_count": 641,
   "metadata": {},
   "outputs": [],
   "source": [
    "def get_molecule_from_generated_graph(generated_graph: nx.Graph) -> Chem.RWMol:\n",
    "    \"\"\"\n",
    "    Traverses nodes of generated graph to create molecule\n",
    "    \"\"\"\n",
    "    molecule = Chem.RWMol()\n",
    "    node_to_idx = dict()\n",
    "\n",
    "    graph_data = generated_graph.nodes.data()\n",
    "    for node in graph_data: #traverses in order\n",
    "        node_features_dict = node[1]\n",
    "        node_features = node_features_dict[\"features\"]\n",
    "        encoded_atoms = list(node_features[0][0:17])\n",
    "        max_index = encoded_atoms.index(max(encoded_atoms))\n",
    "\n",
    "        atomic_number = map_one_hot_to_element[max_index]\n",
    "        #print(atomic_number)\n",
    "        atom = Chem.Atom(atomic_number)\n",
    "        idx = molecule.AddAtom(atom)\n",
    "        node_to_idx[node[0]] = idx\n",
    "\n",
    "    for edge in generated_graph.edges():\n",
    "        node1, node2 = edge\n",
    "        bond_type = Chem.BondType.SINGLE\n",
    "        molecule.AddBond(node_to_idx[node1], node_to_idx[node2], bond_type)\n",
    "\n",
    "    return molecule"
   ]
  },
  {
   "cell_type": "code",
   "execution_count": 642,
   "metadata": {},
   "outputs": [],
   "source": [
    "def reconstruct_graph(gen_nodes, gen_adj):\n",
    "        G = nx.Graph()\n",
    "        num_nodes = len(gen_nodes)\n",
    "        for i in range(num_nodes):\n",
    "            G.add_node(i, features=gen_nodes[i])\n",
    "        for i in range(len(gen_adj)):\n",
    "            adj_vector = gen_adj[i]\n",
    "            for j in range(len(adj_vector)):\n",
    "                if adj_vector[j] == 1:\n",
    "                    if i != j and not G.has_edge(i, j):\n",
    "                        G.add_edge(i, j)\n",
    "        # Prune any isolated nodes - old\n",
    "        #G.remove_nodes_from(list(nx.isolates(G)))\n",
    "\n",
    "        #Keep the largest connected component\n",
    "        largest_cc = max(nx.connected_components(G), key=len)\n",
    "        G = G.subgraph(largest_cc).copy()\n",
    "        return G"
   ]
  },
  {
   "cell_type": "code",
   "execution_count": 662,
   "metadata": {},
   "outputs": [],
   "source": [
    "def has_carbon(molecule: Chem.RWMol) -> bool:\n",
    "    for atom in molecule.GetAtoms():\n",
    "        if atom.GetSymbol() == \"C\":\n",
    "            return True\n",
    "    return False"
   ]
  },
  {
   "cell_type": "code",
   "execution_count": 672,
   "metadata": {},
   "outputs": [],
   "source": [
    "from rdkit.Chem import Draw\n",
    "from rdkit.Chem import SanitizeMol, SanitizeFlags\n",
    "\n",
    "def create_valid_molecule(organic_prob):\n",
    "    # Sample around the centroid\n",
    "    sampled_embedding = centroid + torch.randn_like(centroid) * 0.1  # Small perturbation\n",
    "    molecule = None\n",
    "    count = 0\n",
    "    while molecule == None:\n",
    "        # Generate graph\n",
    "        gen_nodes, gen_adj = generate_graph(graph_rnn, sampled_embedding)\n",
    "\n",
    "        # Reconstruct the graph\n",
    "        generated_graph = reconstruct_graph(gen_nodes, gen_adj)\n",
    "\n",
    "        #Display generated graph (optional)\n",
    "        #display_generated_graph(generated_graph)\n",
    "\n",
    "        generated_mol = get_molecule_from_generated_graph(generated_graph)\n",
    "        #Not the correct check we want\n",
    "        #try:\n",
    "        #    Chem.SanitizeMol(generated_mol, sanitizeOps=SanitizeFlags.SANITIZE_ALL)\n",
    "        #except ValueError as e:\n",
    "        #    print(f\"Invalid molecule: {e}\")\n",
    "            #continue\n",
    "\n",
    "        smiles = Chem.MolToSmiles(generated_mol)\n",
    "        #if length of SMILES is <= 3, we shouldn't count it and set molecule to None\n",
    "        if len(smiles) <= 3:\n",
    "            continue\n",
    "\n",
    "\n",
    "        #Need to see if smiles is chemically reasonable\n",
    "        mol = Chem.MolFromSmiles(smiles)\n",
    "        if mol is None:\n",
    "            pass\n",
    "            count += 1\n",
    "            #print(f'Chemically invalid SMILES: {smiles}')\n",
    "        else:\n",
    "            #We want to enforce more organic molecules if valid SMILES\n",
    "            enforce_organic_mol = np.random.random() < organic_prob\n",
    "            if enforce_organic_mol and has_carbon(generated_mol) == False:\n",
    "                continue\n",
    "            print(f\"Valid molecule SMILES: {smiles}\")\n",
    "            molecule = mol\n",
    "            count += 1\n",
    "\n",
    "    img = Draw.MolToImage(molecule)\n",
    "    #img.show()\n",
    "    print(f\"Took {count} tries\")\n",
    "\n",
    "    return mol, smiles"
   ]
  },
  {
   "cell_type": "code",
   "execution_count": 677,
   "metadata": {},
   "outputs": [
    {
     "name": "stderr",
     "output_type": "stream",
     "text": [
      "[12:28:00] Explicit valence for atom # 4 Br, 2, is greater than permitted\n",
      "[12:28:00] Explicit valence for atom # 1 H, 2, is greater than permitted\n",
      "[12:28:00] Explicit valence for atom # 1 Br, 7, is greater than permitted\n",
      "[12:28:00] Explicit valence for atom # 0 Br, 3, is greater than permitted\n",
      "[12:28:00] WARNING: not removing hydrogen atom without neighbors\n",
      "[12:28:00] Explicit valence for atom # 4 H, 4, is greater than permitted\n",
      "[12:28:00] Explicit valence for atom # 2 H, 4, is greater than permitted\n",
      "[12:28:00] WARNING: not removing hydrogen atom without neighbors\n",
      "[12:28:00] Explicit valence for atom # 0 Cl, 3, is greater than permitted\n",
      "[12:28:00] WARNING: not removing hydrogen atom without neighbors\n"
     ]
    },
    {
     "name": "stdout",
     "output_type": "stream",
     "text": [
      "Valid molecule SMILES: [AlH2][Si]12(S)(Cl)[SiH2][As]1P2\n",
      "Took 4 tries\n",
      "Valid molecule SMILES: C[AlH](C)([SiH3])(Cl)[Hg]\n",
      "Took 1 tries\n",
      "Valid molecule SMILES: [H]C\n",
      "Took 3 tries\n"
     ]
    },
    {
     "name": "stderr",
     "output_type": "stream",
     "text": [
      "[12:28:00] Explicit valence for atom # 1 B, 5, is greater than permitted\n",
      "[12:28:00] Explicit valence for atom # 0 Cl, 3, is greater than permitted\n",
      "[12:28:00] Explicit valence for atom # 1 Br, 2, is greater than permitted\n",
      "[12:28:00] Explicit valence for atom # 0 F, 2, is greater than permitted\n",
      "[12:28:00] Explicit valence for atom # 0 O, 4, is greater than permitted\n",
      "[12:28:01] Explicit valence for atom # 1 F, 5, is greater than permitted\n",
      "[12:28:01] Explicit valence for atom # 0 B, 6, is greater than permitted\n",
      "[12:28:01] Explicit valence for atom # 3 Cl, 5, is greater than permitted\n",
      "[12:28:01] Explicit valence for atom # 2 H, 3, is greater than permitted\n",
      "[12:28:01] Explicit valence for atom # 1 Br, 6, is greater than permitted\n",
      "[12:28:01] Explicit valence for atom # 1 O, 7, is greater than permitted\n"
     ]
    },
    {
     "name": "stdout",
     "output_type": "stream",
     "text": [
      "Valid molecule SMILES: BrC([Hg])[BiH2]\n",
      "Took 8 tries\n",
      "Valid molecule SMILES: OS([AlH2])([AlH2])P\n",
      "Took 6 tries\n",
      "Valid molecule SMILES: C[Si](Br)([Hg])[Hg]\n",
      "Took 2 tries\n",
      "Valid molecule SMILES: SC([SnH])[BiH2]\n",
      "Took 1 tries\n"
     ]
    },
    {
     "name": "stderr",
     "output_type": "stream",
     "text": [
      "[12:28:01] Explicit valence for atom # 2 Cl, 4, is greater than permitted\n",
      "[12:28:01] Explicit valence for atom # 1 Br, 2, is greater than permitted\n",
      "[12:28:01] Explicit valence for atom # 1 Br, 4, is greater than permitted\n",
      "[12:28:01] Explicit valence for atom # 0 Br, 4, is greater than permitted\n",
      "[12:28:01] Explicit valence for atom # 1 F, 2, is greater than permitted\n",
      "[12:28:01] Explicit valence for atom # 1 O, 4, is greater than permitted\n",
      "[12:28:01] Explicit valence for atom # 4 Cl, 6, is greater than permitted\n",
      "[12:28:01] Explicit valence for atom # 1 B, 5, is greater than permitted\n"
     ]
    },
    {
     "name": "stdout",
     "output_type": "stream",
     "text": [
      "Valid molecule SMILES: N[Hg]12C[As]1[SiH2]2\n",
      "Took 2 tries\n",
      "Valid molecule SMILES: [SiH4]\n",
      "Took 1 tries\n",
      "Valid molecule SMILES: [AlH2][SiH2]CBr\n",
      "Took 1 tries\n",
      "Valid molecule SMILES: NC[AlH2]\n",
      "Took 3 tries\n",
      "Valid molecule SMILES: [AsH2]C[BiH2]\n",
      "Took 2 tries\n",
      "Valid molecule SMILES: P[As](Cl)(Br)(I)[Hg]\n",
      "Took 2 tries\n"
     ]
    },
    {
     "name": "stderr",
     "output_type": "stream",
     "text": [
      "[12:28:01] Explicit valence for atom # 3 H, 4, is greater than permitted\n",
      "[12:28:01] Explicit valence for atom # 1 C, 5, is greater than permitted\n",
      "[12:28:01] Explicit valence for atom # 1 N, 5, is greater than permitted\n",
      "[12:28:01] Explicit valence for atom # 1 F, 19, is greater than permitted\n",
      "[12:28:01] Explicit valence for atom # 1 Cl, 3, is greater than permitted\n",
      "[12:28:01] Explicit valence for atom # 1 Cl, 2, is greater than permitted\n",
      "[12:28:01] Explicit valence for atom # 2 H, 5, is greater than permitted\n"
     ]
    },
    {
     "name": "stdout",
     "output_type": "stream",
     "text": [
      "Valid molecule SMILES: C[Sn][Sn]P\n",
      "Took 6 tries\n",
      "Valid molecule SMILES: C[AlH][AsH2]\n",
      "Took 6 tries\n",
      "Valid molecule SMILES: C[SH]([AlH2])(P)(Br)I\n",
      "Took 1 tries\n",
      "Valid molecule SMILES: C[SH]1B[Sn]1\n",
      "Took 3 tries\n",
      "Valid molecule SMILES: [H][Hg](F)([SnH])[BiH2]\n",
      "Took 7 tries\n"
     ]
    },
    {
     "name": "stderr",
     "output_type": "stream",
     "text": [
      "[12:28:01] Explicit valence for atom # 1 H, 3, is greater than permitted\n",
      "[12:28:01] Explicit valence for atom # 0 Cl, 2, is greater than permitted\n",
      "[12:28:01] Explicit valence for atom # 2 H, 2, is greater than permitted\n",
      "[12:28:01] Explicit valence for atom # 0 F, 2, is greater than permitted\n",
      "[12:28:01] Explicit valence for atom # 1 Br, 7, is greater than permitted\n",
      "[12:28:01] Explicit valence for atom # 3 H, 2, is greater than permitted\n",
      "[12:28:01] Explicit valence for atom # 1 N, 5, is greater than permitted\n",
      "[12:28:01] Explicit valence for atom # 2 O, 3, is greater than permitted\n",
      "[12:28:01] Explicit valence for atom # 0 Br, 3, is greater than permitted\n",
      "[12:28:01] Explicit valence for atom # 1 Cl, 7, is greater than permitted\n",
      "[12:28:01] Explicit valence for atom # 0 H, 2, is greater than permitted\n",
      "[12:28:01] Explicit valence for atom # 1 H, 5, is greater than permitted\n",
      "[12:28:01] Explicit valence for atom # 0 F, 2, is greater than permitted\n",
      "[12:28:01] Explicit valence for atom # 2 F, 4, is greater than permitted\n"
     ]
    },
    {
     "name": "stdout",
     "output_type": "stream",
     "text": [
      "Valid molecule SMILES: O[Sn][SiH2][SiH3]\n",
      "Took 7 tries\n",
      "Valid molecule SMILES: [BiH3]\n",
      "Took 3 tries\n",
      "Valid molecule SMILES: S[As]1CO1\n",
      "Took 2 tries\n",
      "Valid molecule SMILES: CB[SnH]\n",
      "Took 1 tries\n"
     ]
    },
    {
     "name": "stderr",
     "output_type": "stream",
     "text": [
      "[12:28:01] Explicit valence for atom # 1 N, 6, is greater than permitted\n",
      "[12:28:01] Explicit valence for atom # 1 O, 3, is greater than permitted\n",
      "[12:28:02] Explicit valence for atom # 2 N, 6, is greater than permitted\n",
      "[12:28:02] Explicit valence for atom # 4 Sn, 5, is greater than permitted\n",
      "[12:28:02] WARNING: not removing hydrogen atom without neighbors\n"
     ]
    },
    {
     "name": "stdout",
     "output_type": "stream",
     "text": [
      "Valid molecule SMILES: [HH]\n",
      "Took 2 tries\n"
     ]
    },
    {
     "name": "stderr",
     "output_type": "stream",
     "text": [
      "[12:28:02] Explicit valence for atom # 1 O, 5, is greater than permitted\n",
      "[12:28:02] Explicit valence for atom # 1 H, 4, is greater than permitted\n",
      "[12:28:02] Explicit valence for atom # 2 Cl, 3, is greater than permitted\n",
      "[12:28:02] Explicit valence for atom # 4 H, 3, is greater than permitted\n",
      "[12:28:02] Explicit valence for atom # 1 Cl, 6, is greater than permitted\n",
      "[12:28:02] Explicit valence for atom # 1 H, 5, is greater than permitted\n",
      "[12:28:02] Explicit valence for atom # 1 Br, 3, is greater than permitted\n",
      "[12:28:02] Explicit valence for atom # 1 Al, 7, is greater than permitted\n",
      "[12:28:02] Explicit valence for atom # 0 Br, 2, is greater than permitted\n",
      "[12:28:02] Explicit valence for atom # 3 H, 5, is greater than permitted\n",
      "[12:28:02] Explicit valence for atom # 1 B, 6, is greater than permitted\n",
      "[12:28:02] Explicit valence for atom # 0 H, 3, is greater than permitted\n",
      "[12:28:02] Explicit valence for atom # 1 O, 5, is greater than permitted\n",
      "[12:28:02] WARNING: not removing hydrogen atom without neighbors\n",
      "[12:28:02] Explicit valence for atom # 1 Al, 7, is greater than permitted\n",
      "[12:28:02] Explicit valence for atom # 1 Sn, 5, is greater than permitted\n",
      "[12:28:02] Explicit valence for atom # 0 H, 4, is greater than permitted\n",
      "[12:28:02] Explicit valence for atom # 3 Br, 3, is greater than permitted\n",
      "[12:28:02] Explicit valence for atom # 1 Cl, 3, is greater than permitted\n",
      "[12:28:02] Explicit valence for atom # 1 H, 4, is greater than permitted\n",
      "[12:28:02] Explicit valence for atom # 1 Br, 4, is greater than permitted\n",
      "[12:28:02] Explicit valence for atom # 2 Cl, 2, is greater than permitted\n",
      "[12:28:02] Explicit valence for atom # 1 N, 7, is greater than permitted\n",
      "[12:28:02] Explicit valence for atom # 4 H, 2, is greater than permitted\n"
     ]
    },
    {
     "name": "stdout",
     "output_type": "stream",
     "text": [
      "Valid molecule SMILES: [AsH3]\n",
      "Took 15 tries\n",
      "Valid molecule SMILES: IOC(I)[BiH2]\n",
      "Took 7 tries\n",
      "Valid molecule SMILES: [H]I(C)[AlH2]\n",
      "Took 1 tries\n",
      "Valid molecule SMILES: C1PP1\n",
      "Took 3 tries\n",
      "Valid molecule SMILES: [SiH3][SnH]1B[Hg]1S\n",
      "Took 2 tries\n",
      "Valid molecule SMILES: O[Sn]Br\n",
      "Took 2 tries\n",
      "Valid molecule SMILES: [H][PH]12P[IH]1(P)S2\n",
      "Took 1 tries\n",
      "Valid molecule SMILES: [BiH3]\n",
      "Took 5 tries\n"
     ]
    },
    {
     "name": "stderr",
     "output_type": "stream",
     "text": [
      "[12:28:02] Explicit valence for atom # 1 Cl, 3, is greater than permitted\n",
      "[12:28:02] WARNING: not removing hydrogen atom without neighbors\n",
      "[12:28:02] Explicit valence for atom # 1 H, 3, is greater than permitted\n",
      "[12:28:02] Explicit valence for atom # 0 F, 2, is greater than permitted\n",
      "[12:28:02] Explicit valence for atom # 2 Cl, 2, is greater than permitted\n",
      "[12:28:02] Explicit valence for atom # 1 Cl, 3, is greater than permitted\n",
      "[12:28:02] Explicit valence for atom # 1 H, 3, is greater than permitted\n",
      "[12:28:02] Explicit valence for atom # 1 H, 4, is greater than permitted\n"
     ]
    },
    {
     "name": "stdout",
     "output_type": "stream",
     "text": [
      "Valid molecule SMILES: [AsH2]Br\n",
      "Took 3 tries\n",
      "Valid molecule SMILES: [H][Hg]C\n",
      "Took 7 tries\n",
      "Valid molecule SMILES: C[Hg]N\n",
      "Took 2 tries\n",
      "Valid molecule SMILES: [AlH3]\n",
      "Took 1 tries\n",
      "Valid molecule SMILES: C[AlH]S\n",
      "Took 1 tries\n",
      "Valid molecule SMILES: N[Hg]1(Br)OC1P\n",
      "Took 1 tries\n",
      "Valid molecule SMILES: FS12C[BiH]1(Br)O2\n",
      "Took 2 tries"
     ]
    },
    {
     "name": "stderr",
     "output_type": "stream",
     "text": [
      "[12:28:02] Explicit valence for atom # 1 F, 7, is greater than permitted\n",
      "[12:28:02] Explicit valence for atom # 0 O, 3, is greater than permitted\n",
      "[12:28:02] Explicit valence for atom # 1 B, 5, is greater than permitted\n",
      "[12:28:02] Explicit valence for atom # 1 F, 2, is greater than permitted\n",
      "[12:28:02] Explicit valence for atom # 1 H, 5, is greater than permitted\n",
      "[12:28:02] Explicit valence for atom # 1 F, 5, is greater than permitted\n",
      "[12:28:02] Explicit valence for atom # 3 N, 4, is greater than permitted\n",
      "[12:28:03] Explicit valence for atom # 1 Cl, 5, is greater than permitted\n"
     ]
    },
    {
     "name": "stdout",
     "output_type": "stream",
     "text": [
      "\n",
      "Valid molecule SMILES: Br[BiH2]\n",
      "Took 6 tries\n",
      "Valid molecule SMILES: [SiH4]\n",
      "Took 3 tries\n",
      "Valid molecule SMILES: BCBr\n",
      "Took 1 tries\n",
      "Valid molecule SMILES: C[AsH2]\n",
      "Took 2 tries\n"
     ]
    },
    {
     "name": "stderr",
     "output_type": "stream",
     "text": [
      "[12:28:03] Explicit valence for atom # 1 F, 6, is greater than permitted\n",
      "[12:28:03] Explicit valence for atom # 4 Br, 2, is greater than permitted\n",
      "[12:28:03] Explicit valence for atom # 1 H, 6, is greater than permitted\n",
      "[12:28:03] Explicit valence for atom # 0 Br, 4, is greater than permitted\n",
      "[12:28:03] Explicit valence for atom # 1 B, 6, is greater than permitted\n",
      "[12:28:03] Explicit valence for atom # 1 H, 5, is greater than permitted\n",
      "[12:28:03] Explicit valence for atom # 2 B, 7, is greater than permitted\n",
      "[12:28:03] Explicit valence for atom # 1 H, 4, is greater than permitted\n",
      "[12:28:03] Explicit valence for atom # 2 Cl, 3, is greater than permitted\n",
      "[12:28:03] Explicit valence for atom # 1 H, 4, is greater than permitted\n",
      "[12:28:03] Explicit valence for atom # 1 F, 4, is greater than permitted\n",
      "[12:28:03] Explicit valence for atom # 3 F, 4, is greater than permitted\n",
      "[12:28:03] Explicit valence for atom # 3 Br, 3, is greater than permitted\n",
      "[12:28:03] Explicit valence for atom # 2 H, 3, is greater than permitted\n",
      "[12:28:03] Explicit valence for atom # 0 F, 4, is greater than permitted\n",
      "[12:28:03] Explicit valence for atom # 5 Cl, 3, is greater than permitted\n",
      "[12:28:03] Explicit valence for atom # 1 Cl, 2, is greater than permitted\n",
      "[12:28:03] Explicit valence for atom # 1 Cl, 6, is greater than permitted\n",
      "[12:28:03] Explicit valence for atom # 2 Cl, 2, is greater than permitted\n",
      "[12:28:03] Explicit valence for atom # 1 F, 2, is greater than permitted\n",
      "[12:28:03] Explicit valence for atom # 1 N, 4, is greater than permitted\n"
     ]
    },
    {
     "name": "stdout",
     "output_type": "stream",
     "text": [
      "Valid molecule SMILES: [H]CN\n",
      "Took 4 tries\n",
      "Valid molecule SMILES: [AlH2][Bi]([SiH3])S\n",
      "Took 1 tries\n",
      "Valid molecule SMILES: B1S23C[BiH]12P3\n",
      "Took 3 tries\n",
      "Valid molecule SMILES: C1P2[Hg][Hg]12\n",
      "Took 1 tries\n"
     ]
    },
    {
     "name": "stderr",
     "output_type": "stream",
     "text": [
      "[12:28:03] Explicit valence for atom # 1 O, 3, is greater than permitted\n",
      "[12:28:03] Explicit valence for atom # 1 F, 5, is greater than permitted\n",
      "[12:28:03] Explicit valence for atom # 3 N, 5, is greater than permitted\n",
      "[12:28:03] Explicit valence for atom # 5 Br, 4, is greater than permitted\n",
      "[12:28:03] Explicit valence for atom # 1 O, 3, is greater than permitted\n",
      "[12:28:03] Explicit valence for atom # 0 O, 4, is greater than permitted\n",
      "[12:28:03] Explicit valence for atom # 0 H, 2, is greater than permitted\n",
      "[12:28:03] Explicit valence for atom # 1 Br, 5, is greater than permitted\n"
     ]
    },
    {
     "name": "stdout",
     "output_type": "stream",
     "text": [
      "Valid molecule SMILES: C[Hg](N)O\n",
      "Took 11 tries\n",
      "Valid molecule SMILES: S[Sn][AlH]B[AsH2]\n",
      "Took 1 tries\n",
      "Valid molecule SMILES: [AsH2][AlH][Hg]\n",
      "Took 4 tries\n",
      "Valid molecule SMILES: BrBr\n",
      "Took 2 tries\n"
     ]
    },
    {
     "name": "stderr",
     "output_type": "stream",
     "text": [
      "[12:28:03] Explicit valence for atom # 1 F, 4, is greater than permitted\n",
      "[12:28:03] Explicit valence for atom # 1 B, 4, is greater than permitted\n",
      "[12:28:03] Explicit valence for atom # 1 H, 6, is greater than permitted\n",
      "[12:28:03] WARNING: not removing hydrogen atom without neighbors\n",
      "[12:28:03] Explicit valence for atom # 1 N, 4, is greater than permitted\n",
      "[12:28:03] Explicit valence for atom # 1 H, 6, is greater than permitted\n",
      "[12:28:03] Explicit valence for atom # 1 Br, 2, is greater than permitted\n",
      "[12:28:03] Explicit valence for atom # 1 Cl, 4, is greater than permitted\n",
      "[12:28:03] Explicit valence for atom # 1 F, 2, is greater than permitted\n",
      "[12:28:03] Explicit valence for atom # 1 Cl, 2, is greater than permitted\n",
      "[12:28:03] Explicit valence for atom # 1 Cl, 3, is greater than permitted\n",
      "[12:28:03] Explicit valence for atom # 1 O, 5, is greater than permitted\n",
      "[12:28:03] Explicit valence for atom # 1 I, 7, is greater than permitted\n",
      "[12:28:03] Explicit valence for atom # 1 H, 2, is greater than permitted\n",
      "[12:28:03] WARNING: not removing hydrogen atom without neighbors\n",
      "[12:28:03] Explicit valence for atom # 1 Cl, 4, is greater than permitted\n",
      "[12:28:03] Explicit valence for atom # 0 F, 3, is greater than permitted\n",
      "[12:28:03] Explicit valence for atom # 1 O, 5, is greater than permitted\n",
      "[12:28:03] Explicit valence for atom # 3 Br, 2, is greater than permitted\n",
      "[12:28:04] Explicit valence for atom # 0 H, 4, is greater than permitted\n",
      "[12:28:04] Explicit valence for atom # 1 O, 4, is greater than permitted\n"
     ]
    },
    {
     "name": "stdout",
     "output_type": "stream",
     "text": [
      "Valid molecule SMILES: CP(Cl)[IH][SiH3]\n",
      "Took 18 tries\n",
      "Valid molecule SMILES: SC1(S)P[Hg]1\n",
      "Took 4 tries\n",
      "Valid molecule SMILES: O[PH](F)([AsH2])[Hg]\n",
      "Took 1 tries\n",
      "Valid molecule SMILES: CC1([Hg])B[IH]1\n",
      "Took 2 tries\n",
      "Valid molecule SMILES: C[IH][BiH2]\n",
      "Took 2 tries\n",
      "Valid molecule SMILES: [SnH2]\n",
      "Took 2 tries"
     ]
    },
    {
     "name": "stderr",
     "output_type": "stream",
     "text": [
      "[12:28:04] Explicit valence for atom # 1 H, 2, is greater than permitted\n",
      "[12:28:04] Explicit valence for atom # 1 H, 5, is greater than permitted\n",
      "[12:28:04] Explicit valence for atom # 1 B, 4, is greater than permitted\n",
      "[12:28:04] Explicit valence for atom # 1 B, 5, is greater than permitted\n",
      "[12:28:04] Explicit valence for atom # 0 H, 5, is greater than permitted\n",
      "[12:28:04] Explicit valence for atom # 2 F, 3, is greater than permitted\n",
      "[12:28:04] Explicit valence for atom # 5 B, 5, is greater than permitted\n"
     ]
    },
    {
     "name": "stdout",
     "output_type": "stream",
     "text": [
      "\n",
      "Valid molecule SMILES: O1S[BiH]1\n",
      "Took 4 tries\n",
      "Valid molecule SMILES: C[AsH2]\n",
      "Took 1 tries\n"
     ]
    },
    {
     "name": "stderr",
     "output_type": "stream",
     "text": [
      "[12:28:04] Explicit valence for atom # 1 H, 5, is greater than permitted\n",
      "[12:28:04] Explicit valence for atom # 2 F, 2, is greater than permitted\n",
      "[12:28:04] Explicit valence for atom # 3 H, 2, is greater than permitted\n",
      "[12:28:04] Explicit valence for atom # 0 Cl, 2, is greater than permitted\n",
      "[12:28:04] Explicit valence for atom # 0 Br, 2, is greater than permitted\n",
      "[12:28:04] Explicit valence for atom # 1 H, 5, is greater than permitted\n",
      "[12:28:04] Explicit valence for atom # 1 Sn, 7, is greater than permitted\n",
      "[12:28:04] Explicit valence for atom # 0 H, 2, is greater than permitted\n",
      "[12:28:04] Explicit valence for atom # 0 F, 4, is greater than permitted\n",
      "[12:28:04] Explicit valence for atom # 2 Cl, 2, is greater than permitted\n"
     ]
    },
    {
     "name": "stdout",
     "output_type": "stream",
     "text": [
      "Valid molecule SMILES: B[Si](C)(O)[SiH3]\n",
      "Took 12 tries\n",
      "Valid molecule SMILES: B1[PH]23O[BiH]12[IH]3\n",
      "Took 7 tries\n",
      "Valid molecule SMILES: BP(C)I\n",
      "Took 1 tries"
     ]
    },
    {
     "name": "stderr",
     "output_type": "stream",
     "text": [
      "[12:28:04] Explicit valence for atom # 0 H, 2, is greater than permitted\n",
      "[12:28:04] Explicit valence for atom # 3 F, 2, is greater than permitted\n",
      "[12:28:04] Explicit valence for atom # 1 F, 5, is greater than permitted\n",
      "[12:28:04] Explicit valence for atom # 0 H, 2, is greater than permitted\n",
      "[12:28:04] Explicit valence for atom # 1 N, 5, is greater than permitted\n",
      "[12:28:04] WARNING: not removing hydrogen atom without neighbors\n",
      "[12:28:04] Explicit valence for atom # 1 Cl, 4, is greater than permitted\n"
     ]
    },
    {
     "name": "stdout",
     "output_type": "stream",
     "text": [
      "\n",
      "Valid molecule SMILES: C[SnH]\n",
      "Took 1 tries\n",
      "Valid molecule SMILES: OC(Br)[SnH]\n",
      "Took 6 tries\n"
     ]
    },
    {
     "name": "stderr",
     "output_type": "stream",
     "text": [
      "[12:28:04] Explicit valence for atom # 2 B, 4, is greater than permitted\n",
      "[12:28:04] Explicit valence for atom # 1 N, 5, is greater than permitted\n",
      "[12:28:04] Explicit valence for atom # 3 B, 4, is greater than permitted\n",
      "[12:28:04] Explicit valence for atom # 1 B, 5, is greater than permitted\n",
      "[12:28:04] Explicit valence for atom # 0 Cl, 3, is greater than permitted\n",
      "[12:28:04] Explicit valence for atom # 1 C, 5, is greater than permitted\n",
      "[12:28:04] Explicit valence for atom # 1 Br, 5, is greater than permitted\n",
      "[12:28:04] Explicit valence for atom # 4 O, 3, is greater than permitted\n",
      "[12:28:04] Explicit valence for atom # 0 Cl, 3, is greater than permitted\n",
      "[12:28:04] Explicit valence for atom # 3 C, 6, is greater than permitted\n",
      "[12:28:04] Explicit valence for atom # 1 F, 5, is greater than permitted\n",
      "[12:28:04] Explicit valence for atom # 4 F, 3, is greater than permitted\n",
      "[12:28:04] Explicit valence for atom # 1 Sn, 5, is greater than permitted\n",
      "[12:28:04] Explicit valence for atom # 0 H, 2, is greater than permitted\n",
      "[12:28:04] Explicit valence for atom # 1 Br, 3, is greater than permitted\n",
      "[12:28:04] Explicit valence for atom # 3 Br, 4, is greater than permitted\n",
      "[12:28:04] Explicit valence for atom # 1 Br, 4, is greater than permitted\n",
      "[12:28:05] Explicit valence for atom # 2 H, 2, is greater than permitted\n",
      "[12:28:05] Explicit valence for atom # 1 N, 4, is greater than permitted\n",
      "[12:28:05] Explicit valence for atom # 2 F, 5, is greater than permitted\n",
      "[12:28:05] Explicit valence for atom # 0 F, 2, is greater than permitted\n",
      "[12:28:05] Explicit valence for atom # 0 Br, 3, is greater than permitted\n",
      "[12:28:05] Explicit valence for atom # 1 H, 4, is greater than permitted\n"
     ]
    },
    {
     "name": "stdout",
     "output_type": "stream",
     "text": [
      "Valid molecule SMILES: CS([SiH3])(S)[SnH]\n",
      "Took 14 tries\n",
      "Valid molecule SMILES: B[SnH]1CO1\n",
      "Took 5 tries\n"
     ]
    },
    {
     "name": "stderr",
     "output_type": "stream",
     "text": [
      "[12:28:05] Explicit valence for atom # 1 Sn, 5, is greater than permitted\n",
      "[12:28:05] Explicit valence for atom # 0 B, 5, is greater than permitted\n",
      "[12:28:05] WARNING: not removing hydrogen atom without neighbors\n",
      "[12:28:05] Explicit valence for atom # 1 Cl, 4, is greater than permitted\n",
      "[12:28:05] Explicit valence for atom # 5 F, 2, is greater than permitted\n",
      "[12:28:05] Explicit valence for atom # 1 Br, 4, is greater than permitted\n",
      "[12:28:05] Explicit valence for atom # 1 O, 3, is greater than permitted\n",
      "[12:28:05] Explicit valence for atom # 1 Br, 2, is greater than permitted\n",
      "[12:28:05] Explicit valence for atom # 1 N, 6, is greater than permitted\n",
      "[12:28:05] WARNING: not removing hydrogen atom without neighbors\n",
      "[12:28:05] Explicit valence for atom # 1 H, 5, is greater than permitted\n",
      "[12:28:05] Explicit valence for atom # 1 Cl, 3, is greater than permitted\n",
      "[12:28:05] Explicit valence for atom # 0 Cl, 2, is greater than permitted\n"
     ]
    },
    {
     "name": "stdout",
     "output_type": "stream",
     "text": [
      "Valid molecule SMILES: C[Sn]1(I)N2[AsH][Hg]21\n",
      "Took 7 tries\n",
      "Valid molecule SMILES: F[SiH]1(Cl)([SnH])S[Hg]1\n",
      "Took 12 tries\n"
     ]
    },
    {
     "name": "stderr",
     "output_type": "stream",
     "text": [
      "[12:28:05] Explicit valence for atom # 2 Sn, 7, is greater than permitted\n",
      "[12:28:05] Explicit valence for atom # 1 H, 5, is greater than permitted\n",
      "[12:28:05] Explicit valence for atom # 1 B, 4, is greater than permitted\n",
      "[12:28:05] Explicit valence for atom # 3 Br, 2, is greater than permitted\n",
      "[12:28:05] Explicit valence for atom # 1 H, 5, is greater than permitted\n",
      "[12:28:05] WARNING: not removing hydrogen atom without neighbors\n",
      "[12:28:05] Explicit valence for atom # 1 H, 2, is greater than permitted\n",
      "[12:28:05] Explicit valence for atom # 2 Cl, 3, is greater than permitted\n",
      "[12:28:05] Explicit valence for atom # 1 O, 5, is greater than permitted\n",
      "[12:28:05] Explicit valence for atom # 1 O, 7, is greater than permitted\n",
      "[12:28:05] Explicit valence for atom # 1 H, 3, is greater than permitted\n",
      "[12:28:05] Explicit valence for atom # 1 Br, 5, is greater than permitted\n",
      "[12:28:05] WARNING: not removing hydrogen atom without neighbors\n"
     ]
    },
    {
     "name": "stdout",
     "output_type": "stream",
     "text": [
      "Valid molecule SMILES: O[Al]1[AsH][Sn]1\n",
      "Took 2 tries\n",
      "Valid molecule SMILES: F[Hg]C[BiH2]\n",
      "Took 1 tries\n",
      "Valid molecule SMILES: NI1(S)([AsH2])BC1\n",
      "Took 7 tries\n"
     ]
    },
    {
     "name": "stderr",
     "output_type": "stream",
     "text": [
      "[12:28:05] Explicit valence for atom # 2 O, 3, is greater than permitted\n",
      "[12:28:05] Explicit valence for atom # 1 O, 5, is greater than permitted\n",
      "[12:28:05] Explicit valence for atom # 1 C, 5, is greater than permitted\n",
      "[12:28:05] Explicit valence for atom # 1 S, 7, is greater than permitted\n"
     ]
    },
    {
     "name": "stdout",
     "output_type": "stream",
     "text": [
      "Valid molecule SMILES: BrCI\n",
      "Took 4 tries\n",
      "Valid molecule SMILES: BrC12[SiH2]C1[Sn]2\n",
      "Took 1 tries\n",
      "Valid molecule SMILES: [H]C(N)([AlH2])[SnH]\n",
      "Took 1 tries\n",
      "Valid molecule SMILES: B[PH](C)([SiH3])S\n",
      "Took 5 tries\n",
      "Valid molecule SMILES: C[BiH2]\n",
      "Took 3 tries\n"
     ]
    },
    {
     "name": "stderr",
     "output_type": "stream",
     "text": [
      "[12:28:05] Explicit valence for atom # 2 H, 5, is greater than permitted\n",
      "[12:28:05] Explicit valence for atom # 1 Cl, 3, is greater than permitted\n",
      "[12:28:05] Explicit valence for atom # 4 H, 2, is greater than permitted\n",
      "[12:28:05] Explicit valence for atom # 1 Cl, 2, is greater than permitted\n",
      "[12:28:05] Explicit valence for atom # 3 F, 3, is greater than permitted\n",
      "[12:28:06] Explicit valence for atom # 1 N, 5, is greater than permitted\n",
      "[12:28:06] Explicit valence for atom # 0 Br, 6, is greater than permitted\n",
      "[12:28:06] Explicit valence for atom # 1 N, 5, is greater than permitted\n"
     ]
    },
    {
     "name": "stdout",
     "output_type": "stream",
     "text": [
      "Valid molecule SMILES: [H]C(N)[AlH2]\n",
      "Took 1 tries\n",
      "Valid molecule SMILES: C[SiH3]\n",
      "Took 3 tries\n",
      "Valid molecule SMILES: [HH]\n",
      "Took 4 tries\n",
      "Valid molecule SMILES: [SnH2]\n",
      "Took 3 tries\n"
     ]
    },
    {
     "name": "stderr",
     "output_type": "stream",
     "text": [
      "[12:28:06] Explicit valence for atom # 1 B, 7, is greater than permitted\n",
      "[12:28:06] Explicit valence for atom # 1 B, 4, is greater than permitted\n",
      "[12:28:06] WARNING: not removing hydrogen atom without neighbors\n",
      "[12:28:06] Explicit valence for atom # 1 H, 2, is greater than permitted\n",
      "[12:28:06] Explicit valence for atom # 2 O, 4, is greater than permitted\n",
      "[12:28:06] Explicit valence for atom # 0 F, 3, is greater than permitted\n",
      "[12:28:06] Explicit valence for atom # 1 H, 3, is greater than permitted\n",
      "[12:28:06] Explicit valence for atom # 1 O, 5, is greater than permitted\n",
      "[12:28:06] Explicit valence for atom # 1 Cl, 6, is greater than permitted\n"
     ]
    },
    {
     "name": "stdout",
     "output_type": "stream",
     "text": [
      "Valid molecule SMILES: O[Bi](O)S\n",
      "Took 4 tries\n"
     ]
    },
    {
     "name": "stderr",
     "output_type": "stream",
     "text": [
      "[12:28:06] Explicit valence for atom # 3 Br, 4, is greater than permitted\n",
      "[12:28:06] Explicit valence for atom # 1 Br, 2, is greater than permitted\n",
      "[12:28:06] Explicit valence for atom # 1 Br, 2, is greater than permitted\n",
      "[12:28:06] Explicit valence for atom # 1 F, 3, is greater than permitted\n",
      "[12:28:06] Explicit valence for atom # 0 H, 2, is greater than permitted\n",
      "[12:28:06] Explicit valence for atom # 0 H, 3, is greater than permitted\n",
      "[12:28:06] Explicit valence for atom # 1 F, 2, is greater than permitted\n",
      "[12:28:06] WARNING: not removing hydrogen atom without neighbors\n",
      "[12:28:06] Explicit valence for atom # 4 Cl, 2, is greater than permitted\n",
      "[12:28:06] Explicit valence for atom # 1 B, 5, is greater than permitted\n",
      "[12:28:06] Explicit valence for atom # 0 F, 2, is greater than permitted\n",
      "[12:28:06] WARNING: not removing hydrogen atom without neighbors\n",
      "[12:28:06] Explicit valence for atom # 0 F, 2, is greater than permitted\n",
      "[12:28:06] Explicit valence for atom # 2 Br, 3, is greater than permitted\n",
      "[12:28:06] Explicit valence for atom # 1 H, 5, is greater than permitted\n",
      "[12:28:06] Explicit valence for atom # 1 N, 4, is greater than permitted\n",
      "[12:28:06] Explicit valence for atom # 1 F, 7, is greater than permitted\n",
      "[12:28:06] Explicit valence for atom # 3 Br, 2, is greater than permitted\n",
      "[12:28:06] Explicit valence for atom # 1 F, 2, is greater than permitted\n",
      "[12:28:06] Explicit valence for atom # 1 O, 6, is greater than permitted\n",
      "[12:28:06] Explicit valence for atom # 3 H, 2, is greater than permitted\n"
     ]
    },
    {
     "name": "stdout",
     "output_type": "stream",
     "text": [
      "Valid molecule SMILES: ClSI\n",
      "Took 14 tries\n",
      "Valid molecule SMILES: I[Hg]\n",
      "Took 3 tries\n",
      "Valid molecule SMILES: C[Hg](C)O\n",
      "Took 6 tries\n"
     ]
    },
    {
     "name": "stderr",
     "output_type": "stream",
     "text": [
      "[12:28:06] Explicit valence for atom # 5 Br, 2, is greater than permitted\n",
      "[12:28:06] Explicit valence for atom # 0 I, 7, is greater than permitted\n",
      "[12:28:06] Explicit valence for atom # 1 Br, 3, is greater than permitted\n",
      "[12:28:06] Explicit valence for atom # 2 Br, 4, is greater than permitted\n",
      "[12:28:06] Explicit valence for atom # 1 Br, 4, is greater than permitted\n",
      "[12:28:06] Explicit valence for atom # 0 H, 3, is greater than permitted\n",
      "[12:28:06] Explicit valence for atom # 1 H, 5, is greater than permitted\n",
      "[12:28:06] Explicit valence for atom # 4 O, 3, is greater than permitted\n",
      "[12:28:06] Explicit valence for atom # 1 O, 6, is greater than permitted\n",
      "[12:28:06] Explicit valence for atom # 1 B, 4, is greater than permitted\n",
      "[12:28:06] Explicit valence for atom # 4 Cl, 2, is greater than permitted\n"
     ]
    },
    {
     "name": "stdout",
     "output_type": "stream",
     "text": [
      "Valid molecule SMILES: CP(Br)[BiH2]\n",
      "Took 11 tries\n",
      "Valid molecule SMILES: CS123([AlH2])C[Sn]1(N2)[Hg]3\n",
      "Took 2 tries\n",
      "Valid molecule SMILES: CP(C)S\n",
      "Took 1 tries\n"
     ]
    },
    {
     "name": "stderr",
     "output_type": "stream",
     "text": [
      "[12:28:07] Explicit valence for atom # 5 O, 3, is greater than permitted\n",
      "[12:28:07] Explicit valence for atom # 3 Br, 4, is greater than permitted\n",
      "[12:28:07] Explicit valence for atom # 1 H, 4, is greater than permitted\n",
      "[12:28:07] WARNING: not removing hydrogen atom without neighbors\n",
      "[12:28:07] Explicit valence for atom # 3 N, 5, is greater than permitted\n",
      "[12:28:07] Explicit valence for atom # 1 F, 2, is greater than permitted\n",
      "[12:28:07] WARNING: not removing hydrogen atom without neighbors\n",
      "[12:28:07] Explicit valence for atom # 4 B, 4, is greater than permitted\n",
      "[12:28:07] Explicit valence for atom # 5 O, 5, is greater than permitted\n",
      "[12:28:07] Explicit valence for atom # 1 H, 3, is greater than permitted\n"
     ]
    },
    {
     "name": "stdout",
     "output_type": "stream",
     "text": [
      "Valid molecule SMILES: [H]SC\n",
      "Took 7 tries\n",
      "Valid molecule SMILES: F[AsH][Hg]\n",
      "Took 1 tries\n",
      "Valid molecule SMILES: [H][As](C)(F)([SnH])[BiH2]\n",
      "Took 3 tries\n",
      "Valid molecule SMILES: C[SiH]([AlH2])Br\n",
      "Took 1 tries\n",
      "Valid molecule SMILES: C[Al](S)S\n",
      "Took 3 tries\n",
      "Valid molecule SMILES: SP1C[IH]1\n",
      "Took 4 tries\n",
      "Valid molecule SMILES: [AlH]1C23[AsH][Hg]12[Hg]3\n",
      "Took 1 tries\n",
      "Valid molecule SMILES: B[AsH]([SiH3])(Cl)Cl\n",
      "Took 1 tries\n"
     ]
    },
    {
     "name": "stderr",
     "output_type": "stream",
     "text": [
      "[12:28:07] Explicit valence for atom # 2 H, 6, is greater than permitted\n",
      "[12:28:07] Explicit valence for atom # 2 Cl, 2, is greater than permitted\n",
      "[12:28:07] Explicit valence for atom # 1 O, 5, is greater than permitted\n",
      "[12:28:07] Explicit valence for atom # 3 N, 5, is greater than permitted\n",
      "[12:28:07] Explicit valence for atom # 3 H, 3, is greater than permitted\n",
      "[12:28:07] Explicit valence for atom # 1 Cl, 5, is greater than permitted\n",
      "[12:28:07] WARNING: not removing hydrogen atom without neighbors\n",
      "[12:28:07] Explicit valence for atom # 1 F, 2, is greater than permitted\n",
      "[12:28:07] Explicit valence for atom # 1 B, 6, is greater than permitted\n"
     ]
    },
    {
     "name": "stdout",
     "output_type": "stream",
     "text": [
      "Valid molecule SMILES: [AlH3]\n",
      "Took 2 tries\n",
      "Valid molecule SMILES: [SnH2]\n",
      "Took 4 tries\n",
      "Valid molecule SMILES: [H][SiH](F)I\n",
      "Took 4 tries\n",
      "Valid molecule SMILES: C[Hg]\n",
      "Took 4 tries\n",
      "Valid molecule SMILES: C[SiH3]\n",
      "Took 1 tries\n",
      "Valid molecule SMILES: C[AlH](C)(O)(S)Cl\n",
      "Took 2 tries\n"
     ]
    },
    {
     "name": "stderr",
     "output_type": "stream",
     "text": [
      "[12:28:07] Explicit valence for atom # 1 Sn, 7, is greater than permitted\n",
      "[12:28:07] Explicit valence for atom # 3 F, 4, is greater than permitted\n",
      "[12:28:07] Explicit valence for atom # 1 H, 2, is greater than permitted\n",
      "[12:28:07] Explicit valence for atom # 3 H, 2, is greater than permitted\n",
      "[12:28:07] Explicit valence for atom # 1 O, 4, is greater than permitted\n",
      "[12:28:07] Explicit valence for atom # 0 Cl, 2, is greater than permitted\n",
      "[12:28:07] Explicit valence for atom # 2 Br, 2, is greater than permitted\n",
      "[12:28:07] Explicit valence for atom # 1 O, 8, is greater than permitted\n"
     ]
    }
   ],
   "source": [
    "set_of_new_mols = set()\n",
    "set_of_new_smiles = set()\n",
    "\n",
    "while len(set_of_new_mols) != 100:\n",
    "    mol, smiles = create_valid_molecule(.9)\n",
    "    set_of_new_mols.add(mol)\n",
    "    set_of_new_smiles.add(smiles)"
   ]
  },
  {
   "cell_type": "code",
   "execution_count": 678,
   "metadata": {},
   "outputs": [
    {
     "data": {
      "text/plain": [
       "{'B1S23C[BiH]12P3',\n",
       " 'B1[PH]23O[BiH]12[IH]3',\n",
       " 'BCBr',\n",
       " 'BP(C)I',\n",
       " 'B[AsH]([SiH3])(Cl)Cl',\n",
       " 'B[PH](C)([SiH3])S',\n",
       " 'B[Si](C)(O)[SiH3]',\n",
       " 'B[SnH]1CO1',\n",
       " 'BrBr',\n",
       " 'BrC([Hg])[BiH2]',\n",
       " 'BrC12[SiH2]C1[Sn]2',\n",
       " 'BrCI',\n",
       " 'Br[BiH2]',\n",
       " 'C1P2[Hg][Hg]12',\n",
       " 'C1PP1',\n",
       " 'CB[SnH]',\n",
       " 'CC1([Hg])B[IH]1',\n",
       " 'CP(Br)[BiH2]',\n",
       " 'CP(C)S',\n",
       " 'CP(Cl)[IH][SiH3]',\n",
       " 'CS([SiH3])(S)[SnH]',\n",
       " 'CS123([AlH2])C[Sn]1(N2)[Hg]3',\n",
       " 'C[AlH](C)(O)(S)Cl',\n",
       " 'C[AlH](C)([SiH3])(Cl)[Hg]',\n",
       " 'C[AlH]S',\n",
       " 'C[AlH][AsH2]',\n",
       " 'C[Al](S)S',\n",
       " 'C[AsH2]',\n",
       " 'C[BiH2]',\n",
       " 'C[Hg]',\n",
       " 'C[Hg](C)O',\n",
       " 'C[Hg](N)O',\n",
       " 'C[Hg]N',\n",
       " 'C[IH][BiH2]',\n",
       " 'C[SH]([AlH2])(P)(Br)I',\n",
       " 'C[SH]1B[Sn]1',\n",
       " 'C[SiH3]',\n",
       " 'C[SiH]([AlH2])Br',\n",
       " 'C[Si](Br)([Hg])[Hg]',\n",
       " 'C[SnH]',\n",
       " 'C[Sn]1(I)N2[AsH][Hg]21',\n",
       " 'C[Sn][Sn]P',\n",
       " 'ClSI',\n",
       " 'FS12C[BiH]1(Br)O2',\n",
       " 'F[AsH][Hg]',\n",
       " 'F[Hg]C[BiH2]',\n",
       " 'F[SiH]1(Cl)([SnH])S[Hg]1',\n",
       " 'IOC(I)[BiH2]',\n",
       " 'I[Hg]',\n",
       " 'NC[AlH2]',\n",
       " 'NI1(S)([AsH2])BC1',\n",
       " 'N[Hg]1(Br)OC1P',\n",
       " 'N[Hg]12C[As]1[SiH2]2',\n",
       " 'O1S[BiH]1',\n",
       " 'OC(Br)[SnH]',\n",
       " 'OS([AlH2])([AlH2])P',\n",
       " 'O[Al]1[AsH][Sn]1',\n",
       " 'O[Bi](O)S',\n",
       " 'O[PH](F)([AsH2])[Hg]',\n",
       " 'O[Sn]Br',\n",
       " 'O[Sn][SiH2][SiH3]',\n",
       " 'P[As](Cl)(Br)(I)[Hg]',\n",
       " 'SC([SnH])[BiH2]',\n",
       " 'SC1(S)P[Hg]1',\n",
       " 'SP1C[IH]1',\n",
       " 'S[As]1CO1',\n",
       " 'S[Sn][AlH]B[AsH2]',\n",
       " '[AlH2][Bi]([SiH3])S',\n",
       " '[AlH2][SiH2]CBr',\n",
       " '[AlH2][Si]12(S)(Cl)[SiH2][As]1P2',\n",
       " '[AlH3]',\n",
       " '[AlH]1C23[AsH][Hg]12[Hg]3',\n",
       " '[AsH2]Br',\n",
       " '[AsH2]C[BiH2]',\n",
       " '[AsH2][AlH][Hg]',\n",
       " '[AsH3]',\n",
       " '[BiH3]',\n",
       " '[HH]',\n",
       " '[H]C',\n",
       " '[H]C(N)([AlH2])[SnH]',\n",
       " '[H]C(N)[AlH2]',\n",
       " '[H]CN',\n",
       " '[H]I(C)[AlH2]',\n",
       " '[H]SC',\n",
       " '[H][As](C)(F)([SnH])[BiH2]',\n",
       " '[H][Hg](F)([SnH])[BiH2]',\n",
       " '[H][Hg]C',\n",
       " '[H][PH]12P[IH]1(P)S2',\n",
       " '[H][SiH](F)I',\n",
       " '[SiH3][SnH]1B[Hg]1S',\n",
       " '[SiH4]',\n",
       " '[SnH2]'}"
      ]
     },
     "execution_count": 678,
     "metadata": {},
     "output_type": "execute_result"
    }
   ],
   "source": [
    "set_of_new_smiles"
   ]
  },
  {
   "cell_type": "markdown",
   "metadata": {},
   "source": [
    "# Next Steps: Add new molecules (X amount) to training data, retrain model, test and report scores. Then, improve our code!"
   ]
  },
  {
   "cell_type": "code",
   "execution_count": 646,
   "metadata": {},
   "outputs": [],
   "source": [
    "new_data = pd.DataFrame({\"SMILE\": list(set_of_new_smiles), \"ID\": \"NA\", \"Function\": 1})"
   ]
  },
  {
   "cell_type": "code",
   "execution_count": 647,
   "metadata": {},
   "outputs": [
    {
     "name": "stdout",
     "output_type": "stream",
     "text": [
      "                       SMILE               ID  Function\n",
      "2225  ClC(Cl)(Cl)C1=CC=CC=C1  NCGC00258842-01         0\n",
      "688   OC1=CC(Cl)=CC(Cl)=C1Cl  NCGC00258178-01         0\n",
      "2660         CCCCCCOC(=O)C=C  NCGC00255151-01         0\n",
      "2135    C[C@H](CCO)CCC=C(C)C  NCGC00254618-01         0\n",
      "3018     O=C1CCCCC1CN2CCCCC2  NCGC00160501-01         0\n"
     ]
    }
   ],
   "source": [
    "print(train_df.tail())\n",
    "#train_df.shape\n",
    "train_df = pd.concat([train_df, new_data], ignore_index=True)\n"
   ]
  },
  {
   "cell_type": "code",
   "execution_count": 648,
   "metadata": {},
   "outputs": [
    {
     "name": "stdout",
     "output_type": "stream",
     "text": [
      "            SMILE  ID  Function\n",
      "459         C1CC1  NA         1\n",
      "460      Cl[BiH2]  NA         1\n",
      "461  [SiH3]P(S)Cl  NA         1\n",
      "462  OI(F)[AlH]Br  NA         1\n",
      "463          SOBr  NA         1\n",
      "(464, 3)\n"
     ]
    }
   ],
   "source": [
    "print(train_df.tail())\n",
    "print(train_df.shape)\n",
    "#print(train_df.head())"
   ]
  },
  {
   "cell_type": "code",
   "execution_count": 649,
   "metadata": {},
   "outputs": [
    {
     "name": "stderr",
     "output_type": "stream",
     "text": [
      " 24%|██▍       | 113/464 [00:15<00:30, 11.36it/s][09:08:54] UFFTYPER: Warning: hybridization set to SP3 for atom 20\n",
      "[09:08:54] UFFTYPER: Warning: hybridization set to SP3 for atom 20\n",
      " 91%|█████████ | 422/464 [00:31<00:01, 40.39it/s][09:09:10] UFFTYPER: Warning: hybridization set to SP3 for atom 0\n",
      "[09:09:10] UFFTYPER: Warning: hybridization set to SP3 for atom 0\n",
      "[09:09:10] UFFTYPER: Warning: hybridization set to SP for atom 3\n",
      "[09:09:10] UFFTYPER: Unrecognized charge state for atom: 3\n",
      "[09:09:10] UFFTYPER: Warning: hybridization set to SP for atom 3\n",
      "[09:09:10] UFFTYPER: Unrecognized charge state for atom: 3\n",
      "[09:09:10] UFFTYPER: Warning: hybridization set to SP for atom 1\n",
      "[09:09:10] UFFTYPER: Unrecognized charge state for atom: 1\n",
      "[09:09:10] UFFTYPER: Warning: hybridization set to SP3 for atom 4\n",
      "[09:09:10] UFFTYPER: Unrecognized charge state for atom: 4\n",
      "[09:09:10] UFFTYPER: Warning: hybridization set to SP for atom 5\n",
      "[09:09:10] UFFTYPER: Unrecognized charge state for atom: 5\n",
      "[09:09:10] UFFTYPER: Warning: hybridization set to SP for atom 1\n",
      "[09:09:10] UFFTYPER: Unrecognized charge state for atom: 1\n",
      "[09:09:10] UFFTYPER: Warning: hybridization set to SP3 for atom 4\n",
      "[09:09:10] UFFTYPER: Unrecognized charge state for atom: 4\n",
      "[09:09:10] UFFTYPER: Warning: hybridization set to SP for atom 5\n",
      "[09:09:10] UFFTYPER: Unrecognized charge state for atom: 5\n",
      "[09:09:10] UFFTYPER: Warning: hybridization set to SP for atom 3\n",
      "[09:09:10] UFFTYPER: Unrecognized charge state for atom: 3\n",
      "[09:09:10] UFFTYPER: Warning: hybridization set to SP for atom 3\n",
      "[09:09:10] UFFTYPER: Unrecognized charge state for atom: 3\n",
      "[09:09:10] UFFTYPER: Unrecognized atom type: S_5+4 (1)\n",
      "[09:09:10] UFFTYPER: Unrecognized atom type: S_5+4 (1)\n",
      "[09:09:10] UFFTYPER: Warning: hybridization set to SP for atom 0\n",
      "[09:09:10] UFFTYPER: Unrecognized charge state for atom: 0\n",
      "[09:09:10] UFFTYPER: Warning: hybridization set to SP for atom 2\n",
      "[09:09:10] UFFTYPER: Unrecognized charge state for atom: 2\n",
      "[09:09:10] UFFTYPER: Warning: hybridization set to SP for atom 0\n",
      "[09:09:10] UFFTYPER: Unrecognized charge state for atom: 0\n",
      "[09:09:10] UFFTYPER: Warning: hybridization set to SP for atom 2\n",
      "[09:09:10] UFFTYPER: Unrecognized charge state for atom: 2\n",
      "[09:09:10] UFFTYPER: Warning: hybridization set to SP3 for atom 2\n",
      "[09:09:10] UFFTYPER: Warning: hybridization set to SP3 for atom 2\n",
      "[09:09:10] UFFTYPER: Warning: hybridization set to SP3 for atom 1\n",
      "[09:09:10] UFFTYPER: Unrecognized charge state for atom: 1\n",
      "[09:09:10] UFFTYPER: Warning: hybridization set to SP3 for atom 1\n",
      "[09:09:10] UFFTYPER: Unrecognized charge state for atom: 1\n",
      "[09:09:10] UFFTYPER: Warning: hybridization set to SP for atom 0\n",
      "[09:09:10] UFFTYPER: Unrecognized charge state for atom: 0\n",
      "[09:09:10] UFFTYPER: Warning: hybridization set to SP for atom 0\n",
      "[09:09:10] UFFTYPER: Unrecognized charge state for atom: 0\n",
      "[09:09:10] UFFTYPER: Warning: hybridization set to SP3 for atom 1\n",
      "[09:09:10] UFFTYPER: Warning: hybridization set to SP3 for atom 1\n",
      "[09:09:10] UFFTYPER: Warning: hybridization set to SP for atom 0\n",
      "[09:09:10] UFFTYPER: Unrecognized charge state for atom: 0\n",
      "[09:09:10] UFFTYPER: Warning: hybridization set to SP for atom 0\n",
      "[09:09:10] UFFTYPER: Unrecognized charge state for atom: 0\n",
      "[09:09:10] UFFTYPER: Warning: hybridization set to SP3 for atom 1\n",
      "[09:09:10] UFFTYPER: Warning: hybridization set to SP for atom 3\n",
      "[09:09:10] UFFTYPER: Unrecognized charge state for atom: 3\n",
      "[09:09:10] UFFTYPER: Warning: hybridization set to SP for atom 5\n",
      "[09:09:10] UFFTYPER: Unrecognized charge state for atom: 5\n",
      "[09:09:10] UFFTYPER: Warning: hybridization set to SP3 for atom 1\n",
      "[09:09:10] UFFTYPER: Warning: hybridization set to SP for atom 3\n",
      "[09:09:10] UFFTYPER: Unrecognized charge state for atom: 3\n",
      "[09:09:10] UFFTYPER: Warning: hybridization set to SP for atom 5\n",
      "[09:09:10] UFFTYPER: Unrecognized charge state for atom: 5\n",
      "[09:09:10] UFFTYPER: Warning: hybridization set to SP for atom 2\n",
      "[09:09:10] UFFTYPER: Unrecognized charge state for atom: 2\n",
      "[09:09:10] UFFTYPER: Warning: hybridization set to SP for atom 2\n",
      "[09:09:10] UFFTYPER: Unrecognized charge state for atom: 2\n",
      "[09:09:10] UFFTYPER: Unrecognized charge state for atom: 1\n",
      "[09:09:10] UFFTYPER: Unrecognized atom type: As5+3 (1)\n",
      "[09:09:10] UFFTYPER: Unrecognized charge state for atom: 1\n",
      "[09:09:10] UFFTYPER: Unrecognized atom type: As5+3 (1)\n",
      "[09:09:10] \n",
      "\n",
      "****\n",
      "Pre-condition Violation\n",
      "bad params pointer\n",
      "Violation occurred on line 75 in file /Users/runner/work/rdkit-pypi/rdkit-pypi/build/temp.macosx-10.9-x86_64-cpython-37/rdkit/Code/ForceField/UFF/AngleBend.cpp\n",
      "Failed Expression: at2Params\n",
      "****\n",
      "\n",
      "[09:09:10] UFFTYPER: Warning: hybridization set to SP3 for atom 3\n",
      "[09:09:10] UFFTYPER: Warning: hybridization set to SP3 for atom 3\n",
      "[09:09:10] UFFTYPER: Warning: hybridization set to SP3 for atom 1\n",
      "[09:09:10] UFFTYPER: Warning: hybridization set to SP3 for atom 1\n",
      "[09:09:10] UFFTYPER: Warning: hybridization set to SP3 for atom 2\n",
      "[09:09:10] UFFTYPER: Warning: hybridization set to SP3 for atom 2\n",
      "[09:09:10] UFFTYPER: Warning: hybridization set to SP for atom 0\n",
      "[09:09:10] UFFTYPER: Unrecognized charge state for atom: 0\n",
      "[09:09:10] UFFTYPER: Warning: hybridization set to SP3 for atom 1\n",
      "[09:09:10] UFFTYPER: Warning: hybridization set to SP for atom 2\n",
      "[09:09:10] UFFTYPER: Unrecognized charge state for atom: 2\n",
      "[09:09:10] UFFTYPER: Warning: hybridization set to SP for atom 0\n",
      "[09:09:10] UFFTYPER: Unrecognized charge state for atom: 0\n",
      "[09:09:10] UFFTYPER: Warning: hybridization set to SP3 for atom 1\n",
      "[09:09:10] UFFTYPER: Warning: hybridization set to SP for atom 2\n",
      "[09:09:10] UFFTYPER: Unrecognized charge state for atom: 2\n",
      " 97%|█████████▋| 448/464 [00:31<00:00, 86.45it/s][09:09:10] WARNING: not removing hydrogen atom without neighbors\n",
      "[09:09:10] UFFTYPER: Warning: hybridization set to SP for atom 1\n",
      "[09:09:10] UFFTYPER: Unrecognized charge state for atom: 1\n",
      "[09:09:10] UFFTYPER: Warning: hybridization set to SP for atom 1\n",
      "[09:09:10] UFFTYPER: Unrecognized charge state for atom: 1\n",
      "[09:09:10] UFFTYPER: Warning: hybridization set to SP3 for atom 2\n",
      "[09:09:10] UFFTYPER: Warning: hybridization set to SP3 for atom 2\n",
      "[09:09:10] UFFTYPER: Warning: hybridization set to SP3 for atom 0\n",
      "[09:09:10] UFFTYPER: Warning: hybridization set to SP for atom 3\n",
      "[09:09:10] UFFTYPER: Unrecognized charge state for atom: 3\n",
      "[09:09:10] UFFTYPER: Warning: hybridization set to SP3 for atom 0\n",
      "[09:09:10] UFFTYPER: Warning: hybridization set to SP for atom 3\n",
      "[09:09:10] UFFTYPER: Unrecognized charge state for atom: 3\n",
      "[09:09:10] UFFTYPER: Warning: hybridization set to SP3 for atom 3\n",
      "[09:09:10] UFFTYPER: Warning: hybridization set to SP3 for atom 3\n",
      "100%|██████████| 464/464 [00:31<00:00, 14.59it/s]"
     ]
    },
    {
     "name": "stdout",
     "output_type": "stream",
     "text": [
      "Conformer generation error: Pre-condition Violation\n",
      "\tbad params pointer\n",
      "\tViolation occurred on line 75 in file Code/ForceField/UFF/AngleBend.cpp\n",
      "\tFailed Expression: at2Params\n",
      "\tRDKIT: 2023.03.2\n",
      "\tBOOST: 1_78\n",
      "\n",
      "Data was None\n"
     ]
    },
    {
     "name": "stderr",
     "output_type": "stream",
     "text": [
      "\n"
     ]
    }
   ],
   "source": [
    "train_dataset = MoleculeDataset(train_df)\n"
   ]
  },
  {
   "cell_type": "code",
   "execution_count": 650,
   "metadata": {},
   "outputs": [
    {
     "name": "stdout",
     "output_type": "stream",
     "text": [
      "Number of training samples: 463\n"
     ]
    }
   ],
   "source": [
    "from torch_geometric.loader import DataLoader #fixes bug used by other library loader for graphRNN portion\n",
    "\n",
    "# Create DataLoaders\n",
    "batch_size = 8 #was 32\n",
    "print(f\"Number of training samples: {len(train_dataset)}\")\n",
    "train_loader = DataLoader(train_dataset, batch_size=batch_size, shuffle=True)\n",
    "\n",
    "criterion = nn.BCEWithLogitsLoss()\n",
    "optimizer = torch.optim.Adam(model.parameters(), lr=0.001)\n",
    "model = HEGNNClassifier(heg_nn, hidden_dim).to(device)\n"
   ]
  },
  {
   "cell_type": "code",
   "execution_count": 651,
   "metadata": {},
   "outputs": [
    {
     "name": "stdout",
     "output_type": "stream",
     "text": [
      "Epoch 1, Train Loss: 0.7051, Validation Loss: 0.6996, Validation Accuracy: 0.5000\n",
      "Epoch 2, Train Loss: 0.6797, Validation Loss: 0.7006, Validation Accuracy: 0.5000\n",
      "Epoch 3, Train Loss: 0.6836, Validation Loss: 0.7093, Validation Accuracy: 0.5333\n",
      "Epoch 4, Train Loss: 0.6725, Validation Loss: 0.7050, Validation Accuracy: 0.5111\n",
      "Epoch 5, Train Loss: 0.6731, Validation Loss: 0.7147, Validation Accuracy: 0.5111\n",
      "Epoch 6, Train Loss: 0.6787, Validation Loss: 0.7148, Validation Accuracy: 0.4889\n",
      "Epoch 7, Train Loss: 0.6838, Validation Loss: 0.7087, Validation Accuracy: 0.4778\n",
      "Epoch 8, Train Loss: 0.6740, Validation Loss: 0.7124, Validation Accuracy: 0.5000\n",
      "Epoch 9, Train Loss: 0.6795, Validation Loss: 0.7068, Validation Accuracy: 0.4889\n",
      "Epoch 10, Train Loss: 0.6707, Validation Loss: 0.7072, Validation Accuracy: 0.4889\n",
      "Epoch 11, Train Loss: 3330544.3512, Validation Loss: 0.6996, Validation Accuracy: 0.5000\n",
      "Epoch 12, Train Loss: 0.6742, Validation Loss: 0.7006, Validation Accuracy: 0.5000\n",
      "Epoch 13, Train Loss: 0.6704, Validation Loss: 0.7023, Validation Accuracy: 0.4889\n",
      "Epoch 14, Train Loss: 0.6691, Validation Loss: 0.7032, Validation Accuracy: 0.4889\n",
      "Epoch 15, Train Loss: 0.6681, Validation Loss: 0.7053, Validation Accuracy: 0.4889\n"
     ]
    }
   ],
   "source": [
    "# Training loop execution\n",
    "num_epochs = 15 #was 20\n",
    "for epoch in range(1, num_epochs + 1):\n",
    "    train_loss = train(model, train_loader)\n",
    "    val_loss, val_preds, val_labels = evaluate(model, val_loader)\n",
    "\n",
    "    val_accuracy = get_accuracy(val_preds, val_labels)\n",
    "    \n",
    "    print(f'Epoch {epoch}, Train Loss: {train_loss:.4f}, Validation Loss: {val_loss:.4f}, Validation Accuracy: {val_accuracy:.4f}')\n"
   ]
  },
  {
   "cell_type": "code",
   "execution_count": 654,
   "metadata": {},
   "outputs": [
    {
     "name": "stdout",
     "output_type": "stream",
     "text": [
      "Testing accuracy: 0.5000\n"
     ]
    },
    {
     "data": {
      "image/png": "[encoded data removed]",
      "text/plain": [
       "<Figure size 432x288 with 1 Axes>"
      ]
     },
     "metadata": {
      "needs_background": "light"
     },
     "output_type": "display_data"
    }
   ],
   "source": [
    "# Evaluate the full model on the test set and plot ROC curve\n",
    "model.eval()\n",
    "all_preds = []\n",
    "all_labels = []\n",
    "with torch.no_grad():\n",
    "    for data in test_loader:\n",
    "        data = data.to(device)\n",
    "        out, _ = model(data)\n",
    "        preds = torch.sigmoid(out).cpu().numpy()\n",
    "        labels = data.y.cpu().numpy()\n",
    "        all_preds.extend(preds)\n",
    "        all_labels.extend(labels)\n",
    "\n",
    "accuracy = get_accuracy(all_preds, all_labels)\n",
    "print(f\"Testing accuracy: {accuracy:.4f}\")\n",
    "\n",
    "# Compute ROC curve and AUC\n",
    "fpr, tpr, thresholds = roc_curve(all_labels, all_preds)\n",
    "\n",
    "roc_auc = auc(fpr, tpr)\n",
    "\n",
    "# Plot ROC curve\n",
    "plt.figure()\n",
    "plt.plot(fpr, tpr, label=f'Full Model ROC curve (AUC = {roc_auc:.2f})')\n",
    "plt.plot([0, 1], [0, 1], 'k--')\n",
    "plt.xlim([0.0, 1.0])\n",
    "plt.ylim([0.0, 1.05])\n",
    "plt.xlabel('False Positive Rate')\n",
    "plt.ylabel('True Positive Rate')\n",
    "plt.title('ROC - Full Model')\n",
    "plt.legend(loc='lower right')\n",
    "plt.show()\n"
   ]
  },
  {
   "cell_type": "code",
   "execution_count": 658,
   "metadata": {},
   "outputs": [
    {
     "data": {
      "text/plain": [
       "[array([0.5574706], dtype=float32),\n",
       " array([0.57926375], dtype=float32),\n",
       " array([0.5416223], dtype=float32),\n",
       " array([0.55246323], dtype=float32),\n",
       " array([0.5567324], dtype=float32),\n",
       " array([0.53586024], dtype=float32),\n",
       " array([0.5206595], dtype=float32),\n",
       " array([0.55091286], dtype=float32),\n",
       " array([0.5507197], dtype=float32),\n",
       " array([0.55432373], dtype=float32),\n",
       " array([0.54384065], dtype=float32),\n",
       " array([0.57375777], dtype=float32),\n",
       " array([0.5503816], dtype=float32),\n",
       " array([0.56951153], dtype=float32),\n",
       " array([0.55094856], dtype=float32),\n",
       " array([0.556902], dtype=float32),\n",
       " array([0.5420126], dtype=float32),\n",
       " array([0.55125797], dtype=float32),\n",
       " array([0.5471965], dtype=float32),\n",
       " array([0.56720835], dtype=float32),\n",
       " array([0.55353427], dtype=float32),\n",
       " array([0.55754274], dtype=float32),\n",
       " array([0.559762], dtype=float32),\n",
       " array([0.55181044], dtype=float32),\n",
       " array([0.54677486], dtype=float32),\n",
       " array([0.5553755], dtype=float32),\n",
       " array([0.55552906], dtype=float32),\n",
       " array([0.55533534], dtype=float32),\n",
       " array([0.5612158], dtype=float32),\n",
       " array([0.5570673], dtype=float32),\n",
       " array([0.5335537], dtype=float32),\n",
       " array([0.55669016], dtype=float32),\n",
       " array([0.532569], dtype=float32),\n",
       " array([0.5732828], dtype=float32),\n",
       " array([0.54104966], dtype=float32),\n",
       " array([0.5502742], dtype=float32),\n",
       " array([0.5644737], dtype=float32),\n",
       " array([0.55812955], dtype=float32),\n",
       " array([0.5503396], dtype=float32),\n",
       " array([0.5662511], dtype=float32),\n",
       " array([0.5593206], dtype=float32),\n",
       " array([0.5445401], dtype=float32),\n",
       " array([0.5698713], dtype=float32),\n",
       " array([0.57460594], dtype=float32),\n",
       " array([0.55312586], dtype=float32),\n",
       " array([0.5516386], dtype=float32),\n",
       " array([0.56018704], dtype=float32),\n",
       " array([0.5628646], dtype=float32),\n",
       " array([0.5482835], dtype=float32),\n",
       " array([0.6916176], dtype=float32)]"
      ]
     },
     "execution_count": 658,
     "metadata": {},
     "output_type": "execute_result"
    }
   ],
   "source": [
    "all_preds[0:50]"
   ]
  }
 ],
 "metadata": {
  "kernelspec": {
   "display_name": "Python 3 (ipykernel)",
   "language": "python",
   "name": "python3"
  },
  "language_info": {
   "codemirror_mode": {
    "name": "ipython",
    "version": 3
   },
   "file_extension": ".py",
   "mimetype": "text/x-python",
   "name": "python",
   "nbconvert_exporter": "python",
   "pygments_lexer": "ipython3",
   "version": "3.11.5"
  }
 },
 "nbformat": 4,
 "nbformat_minor": 2
}
