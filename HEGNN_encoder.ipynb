{
 "cells": [
  {
   "cell_type": "code",
   "execution_count": 1,
   "metadata": {},
   "outputs": [],
   "source": [
    "# Import necessary libraries\n",
    "import pandas as pd\n",
    "import numpy as np\n",
    "import torch\n",
    "import torch.nn as nn\n",
    "from torch.utils.data import Dataset\n",
    "from rdkit import Chem\n",
    "from rdkit.Chem import AllChem\n",
    "from torch_geometric.data import Data\n",
    "from torch_geometric.loader import DataLoader\n",
    "from torch.utils.data import TensorDataset\n",
    "from torch.nn.utils.rnn import pad_sequence\n",
    "import torch.nn.functional as F\n",
    "from torch_geometric.nn import global_mean_pool\n",
    "from sklearn.decomposition import PCA\n",
    "from sklearn.metrics import accuracy_score\n",
    "import matplotlib.pyplot as plt\n",
    "from sklearn.metrics import roc_curve, auc\n",
    "from models.HEGNN import HEGNN  \n",
    "\n",
    "#If using earlier than python3.9 version\n",
    "from typing import Tuple, List\n"
   ]
  },
  {
   "cell_type": "code",
   "execution_count": 2,
   "metadata": {},
   "outputs": [],
   "source": [
    "# Load the data\n",
    "train_df = pd.read_excel('Training_data_cleaned.xlsx')\n",
    "val_df = pd.read_excel('Validation_data_cleaned.xlsx')\n",
    "test_df = pd.read_excel('Test_data_cleaned.xlsx')\n",
    "\n",
    "# While testing, only use the first 500 samples\n",
    "# train_df = train_df.iloc[:500]\n",
    "# val_df = val_df.iloc[:500]\n",
    "# test_df = test_df.iloc[:500]\n"
   ]
  },
  {
   "cell_type": "code",
   "execution_count": 45,
   "metadata": {},
   "outputs": [],
   "source": [
    "def balance_datasets(dataframe: pd.DataFrame) -> pd.DataFrame:\n",
    "\n",
    "    \"\"\"\n",
    "    This filters the dataset to have a X:1 ratio of 0 value mols to 1 value mols\n",
    "    Args:\n",
    "        dataframe (pd.DataFrame): the dataset dataframe\n",
    "    Return:\n",
    "        pd.DataFrame: the filtered dataframe\n",
    "    \n",
    "    \"\"\"\n",
    "    function_one_df = dataframe[dataframe['Function'] == 1]\n",
    "    function_zero_df = dataframe[dataframe['Function'] == 0]\n",
    "\n",
    "    num_function_one = function_one_df.shape[0]\n",
    "\n",
    "    # Calculate the number of rows to take from 'Function' == 0 (X:1 ratio)\n",
    "    num_function_zero = min(1 * num_function_one, function_zero_df.shape[0]) #2* \n",
    "\n",
    "    balanced_function_zero_df = function_zero_df.sample(n=num_function_zero, random_state=42)\n",
    "    balanced_train_df = pd.concat([function_one_df, balanced_function_zero_df])\n",
    "\n",
    "    return balanced_train_df"
   ]
  },
  {
   "cell_type": "code",
   "execution_count": 46,
   "metadata": {},
   "outputs": [],
   "source": [
    "train_df = balance_datasets(train_df)\n",
    "val_df = balance_datasets(val_df)\n",
    "test_df = balance_datasets(test_df)"
   ]
  },
  {
   "cell_type": "code",
   "execution_count": 47,
   "metadata": {},
   "outputs": [],
   "source": [
    "torch.manual_seed(42)\n",
    "np.random.seed(42)"
   ]
  },
  {
   "cell_type": "code",
   "execution_count": 48,
   "metadata": {},
   "outputs": [],
   "source": [
    "from tqdm import tqdm\n",
    "class MoleculeDataset(Dataset):\n",
    "    \"\"\"\n",
    "    Custom Dataset for molecule data.\n",
    "\n",
    "    Args:\n",
    "        dataframe (pd.DataFrame): DataFrame containing molecule data.\n",
    "    \"\"\"\n",
    "    def __init__(self, dataframe: pd.DataFrame):\n",
    "        self.data_list = []\n",
    "        #self.smiles = None\n",
    "        for idx, row in tqdm(dataframe.iterrows(), total=len(dataframe)):\n",
    "            smiles = row['Main_Component']\n",
    "            label = row['Function']\n",
    "            try:\n",
    "                mol = Chem.MolFromSmiles(smiles)\n",
    "            except:\n",
    "                mol = None\n",
    "                print(f'Failed to process SMILES: {smiles}')\n",
    "            if mol is None:\n",
    "                continue\n",
    "            data = mol_to_graph_data(mol, smiles)\n",
    "            if data is None:\n",
    "                print(\"Data was None\")\n",
    "                continue\n",
    "            data.y = torch.tensor([label], dtype=torch.float)\n",
    "            self.data_list.append(data)\n",
    "\n",
    "    def __len__(self) -> int:\n",
    "        return len(self.data_list)\n",
    "\n",
    "    def __getitem__(self, idx: int):\n",
    "        return self.data_list[idx]\n",
    "\n",
    "def atom_features(atom):\n",
    "    \"\"\"\n",
    "    Returns a list of atom features.\n",
    "\n",
    "    Args:\n",
    "        atom (Chem.Atom): RDKit atom object.\n",
    "\n",
    "    Returns:\n",
    "        List[float]: List of features.\n",
    "    \"\"\"\n",
    "    features = []\n",
    "    features.append(atom.GetAtomicNum())\n",
    "    features.append(atom.GetDegree())\n",
    "    features.append(atom.GetFormalCharge())\n",
    "    features.append(atom.GetNumRadicalElectrons())\n",
    "    features.append(int(atom.GetHybridization()))\n",
    "    features.append(int(atom.GetIsAromatic()))\n",
    "    return features\n",
    "\n",
    "\n",
    "def mol_to_graph_data(mol: Chem.Mol, smiles_name) -> Data:\n",
    "    \"\"\"\n",
    "    Converts an RDKit Mol object to a PyTorch Geometric Data object.\n",
    "\n",
    "    Args:\n",
    "        mol (Chem.Mol): RDKit molecule object.\n",
    "\n",
    "    Returns:\n",
    "        data (Data): PyTorch Geometric Data object.\n",
    "    \"\"\"\n",
    "    # Add hydrogens and generate 3D coordinates\n",
    "    mol = Chem.AddHs(mol)\n",
    "    success = AllChem.EmbedMolecule(mol, AllChem.ETKDG())\n",
    "    if success != 0:\n",
    "        return None  # Failed to generate conformer\n",
    "    AllChem.UFFOptimizeMolecule(mol)\n",
    "\n",
    "    # Nodes\n",
    "    num_atoms = mol.GetNumAtoms()\n",
    "    node_feats = []\n",
    "    node_positions = []\n",
    "    for atom in mol.GetAtoms():\n",
    "        node_feats.append(atom_features(atom))\n",
    "        pos = mol.GetConformer().GetAtomPosition(atom.GetIdx())\n",
    "        node_positions.append([pos.x, pos.y, pos.z])\n",
    "\n",
    "    node_feats = torch.tensor(node_feats, dtype=torch.float)\n",
    "    node_positions = torch.tensor(node_positions, dtype=torch.float)\n",
    "\n",
    "    # Edges\n",
    "    edge_index = []\n",
    "    edge_attrs = []\n",
    "    for bond in mol.GetBonds():\n",
    "        i = bond.GetBeginAtomIdx()\n",
    "        j = bond.GetEndAtomIdx()\n",
    "        edge_index.extend([[i, j], [j, i]])  # Undirected\n",
    "        bond_type = bond.GetBondTypeAsDouble()\n",
    "        edge_attrs.extend([[bond_type], [bond_type]])\n",
    "\n",
    "    edge_index = torch.tensor(edge_index, dtype=torch.long).t().contiguous()\n",
    "    edge_attrs = torch.tensor(edge_attrs, dtype=torch.float)\n",
    "\n",
    "    # Node velocities as small random values\n",
    "    node_velocities = torch.randn_like(node_positions) * 0.01\n",
    "\n",
    "    data = Data(\n",
    "        x=node_feats,\n",
    "        pos=node_positions,\n",
    "        vel=node_velocities,\n",
    "        edge_index=edge_index,\n",
    "        edge_attr=edge_attrs,\n",
    "        smiles = smiles_name\n",
    "    )\n",
    "\n",
    "    return data\n"
   ]
  },
  {
   "cell_type": "code",
   "execution_count": 49,
   "metadata": {},
   "outputs": [
    {
     "name": "stderr",
     "output_type": "stream",
     "text": [
      "  7%|▋         | 29/416 [00:03<00:49,  7.78it/s]"
     ]
    },
    {
     "name": "stdout",
     "output_type": "stream",
     "text": [
      "Data was None\n"
     ]
    },
    {
     "name": "stderr",
     "output_type": "stream",
     "text": [
      " 60%|█████▉    | 248/416 [00:26<00:13, 12.41it/s][17:28:33] UFFTYPER: Unrecognized atom type: Au6+3 (7)\n",
      "[17:28:33] UFFTYPER: Unrecognized atom type: Au6+3 (7)\n",
      " 88%|████████▊ | 364/416 [00:31<00:01, 33.15it/s][17:28:38] UFFTYPER: Warning: hybridization set to SP3 for atom 1\n",
      "[17:28:38] UFFTYPER: Warning: hybridization set to SP3 for atom 1\n",
      "100%|██████████| 416/416 [00:33<00:00, 12.49it/s]\n",
      " 46%|████▌     | 41/90 [00:11<00:43,  1.13it/s]"
     ]
    },
    {
     "name": "stdout",
     "output_type": "stream",
     "text": [
      "Data was None\n"
     ]
    },
    {
     "name": "stderr",
     "output_type": "stream",
     "text": [
      "100%|██████████| 90/90 [00:13<00:00,  6.91it/s]\n",
      " 17%|█▋        | 15/90 [00:01<00:07, 10.63it/s][17:28:55] UFFTYPER: Warning: hybridization set to SP3 for atom 20\n",
      "[17:28:55] UFFTYPER: Warning: hybridization set to SP3 for atom 20\n",
      " 54%|█████▍    | 49/90 [00:04<00:01, 20.97it/s][17:28:57] UFFTYPER: Unrecognized charge state for atom: 14\n",
      "[17:28:58] UFFTYPER: Unrecognized charge state for atom: 14\n",
      " 86%|████████▌ | 77/90 [00:06<00:00, 13.01it/s]"
     ]
    },
    {
     "name": "stdout",
     "output_type": "stream",
     "text": [
      "Data was None\n"
     ]
    },
    {
     "name": "stderr",
     "output_type": "stream",
     "text": [
      "100%|██████████| 90/90 [00:06<00:00, 13.10it/s]"
     ]
    },
    {
     "name": "stdout",
     "output_type": "stream",
     "text": [
      "Number of training samples: 415\n",
      "Number of validation samples: 89\n",
      "Number of test samples: 89\n"
     ]
    },
    {
     "name": "stderr",
     "output_type": "stream",
     "text": [
      "\n"
     ]
    }
   ],
   "source": [
    "# Create datasets\n",
    "train_dataset = MoleculeDataset(train_df)\n",
    "val_dataset = MoleculeDataset(val_df)\n",
    "test_dataset = MoleculeDataset(test_df)\n",
    "\n",
    "# Create DataLoaders\n",
    "batch_size = 32\n",
    "print(f\"Number of training samples: {len(train_dataset)}\")\n",
    "train_loader = DataLoader(train_dataset, batch_size=batch_size, shuffle=True)\n",
    "print(f\"Number of validation samples: {len(val_dataset)}\")\n",
    "val_loader = DataLoader(val_dataset, batch_size=batch_size)\n",
    "print(f\"Number of test samples: {len(test_dataset)}\")\n",
    "test_loader = DataLoader(test_dataset, batch_size=batch_size)\n"
   ]
  },
  {
   "cell_type": "code",
   "execution_count": 50,
   "metadata": {},
   "outputs": [],
   "source": [
    "# Initialize the HEGNN model and classifier\n",
    "device = torch.device('cuda' if torch.cuda.is_available() else 'cpu')\n",
    "\n",
    "# Define model parameters\n",
    "num_layers = 3\n",
    "mol = Chem.MolFromSmiles('CCO')\n",
    "node_input_dim = len(atom_features(mol.GetAtomWithIdx(0)))\n",
    "edge_attr_dim = 1   # Bond type\n",
    "hidden_dim = 64\n",
    "max_ell = 2  # Example value\n",
    "\n",
    "# Initialize the HEGNN\n",
    "heg_nn = HEGNN(\n",
    "    num_layer=num_layers,\n",
    "    node_input_dim=node_input_dim,\n",
    "    edge_attr_dim=edge_attr_dim,\n",
    "    hidden_dim=hidden_dim,\n",
    "    max_ell=max_ell,\n",
    "    activation=nn.SiLU(),\n",
    "    device=device\n",
    ").to(device)\n",
    "\n",
    "class HEGNNClassifier(nn.Module):\n",
    "    \"\"\"\n",
    "    Model that combines HEGNN and a linear classifier.\n",
    "\n",
    "    Args:\n",
    "        heg_nn (HEGNN): The HEGNN model.\n",
    "        hidden_dim (int): Dimension of the HEGNN output.\n",
    "    \"\"\"\n",
    "    def __init__(self, heg_nn: HEGNN, hidden_dim: int):\n",
    "        super(HEGNNClassifier, self).__init__()\n",
    "        self.heg_nn = heg_nn\n",
    "        self.classifier = nn.Sequential(\n",
    "            nn.Linear(3, 64),\n",
    "            nn.ReLU(),\n",
    "            nn.Linear(64, 1)\n",
    "        )\n",
    "\n",
    "    def forward(self, data):\n",
    "        node_feat = data.x\n",
    "        node_pos = data.pos\n",
    "        node_vel = data.vel\n",
    "        edge_index = data.edge_index\n",
    "        edge_attr = data.edge_attr\n",
    "        batch = data.batch\n",
    "\n",
    "        node_embeddings = self.heg_nn(node_feat, node_pos, node_vel, edge_index, edge_attr)\n",
    "        graph_embeddings = global_mean_pool(node_embeddings, batch)\n",
    "        out = self.classifier(graph_embeddings)\n",
    "        return out, graph_embeddings\n",
    "\n",
    "# Initialize the classifier model\n",
    "model = HEGNNClassifier(heg_nn, hidden_dim).to(device)\n"
   ]
  },
  {
   "cell_type": "code",
   "execution_count": 51,
   "metadata": {},
   "outputs": [],
   "source": [
    "# Define loss function and optimizer\n",
    "criterion = nn.BCEWithLogitsLoss()\n",
    "optimizer = torch.optim.Adam(model.parameters(), lr=0.001)\n"
   ]
  },
  {
   "cell_type": "code",
   "execution_count": 52,
   "metadata": {},
   "outputs": [],
   "source": [
    "def train(model: nn.Module, loader: DataLoader) -> float:\n",
    "    \"\"\"\n",
    "    Training loop for one epoch.\n",
    "\n",
    "    Args:\n",
    "        model (nn.Module): The model to train.\n",
    "        loader (DataLoader): DataLoader for training data.\n",
    "\n",
    "    Returns:\n",
    "        float: Average loss over the epoch.\n",
    "    \"\"\"\n",
    "    model.train()\n",
    "    total_loss = 0\n",
    "    for data in loader:\n",
    "        data = data.to(device)\n",
    "        optimizer.zero_grad()\n",
    "        out, _ = model(data)\n",
    "        label = data.y.view(-1, 1)\n",
    "        loss = criterion(out, label)\n",
    "        loss.backward()\n",
    "        optimizer.step()\n",
    "        total_loss += loss.item() * data.num_graphs\n",
    "    return total_loss / len(loader.dataset)\n"
   ]
  },
  {
   "cell_type": "code",
   "execution_count": 53,
   "metadata": {},
   "outputs": [],
   "source": [
    "def evaluate(model: nn.Module, loader: DataLoader) -> Tuple[float, np.ndarray, np.ndarray]:\n",
    "    \"\"\"\n",
    "    Evaluation loop.\n",
    "\n",
    "    Args:\n",
    "        model (nn.Module): The model to evaluate.\n",
    "        loader (DataLoader): DataLoader for validation or test data.\n",
    "\n",
    "    Returns:\n",
    "        Tuple[float, np.ndarray, np.ndarray]: Average loss, predictions, and labels.\n",
    "    \"\"\"\n",
    "    model.eval()\n",
    "    total_loss = 0\n",
    "    all_preds = []\n",
    "    all_labels = []\n",
    "    with torch.no_grad():\n",
    "        for data in loader:\n",
    "            data = data.to(device)\n",
    "            out, _ = model(data)\n",
    "            label = data.y.view(-1, 1)\n",
    "            loss = criterion(out, label)\n",
    "            total_loss += loss.item() * data.num_graphs\n",
    "            preds = torch.sigmoid(out).cpu().numpy()\n",
    "            all_preds.extend(preds)\n",
    "            all_labels.extend(label.cpu().numpy())\n",
    "    return total_loss / len(loader.dataset), np.array(all_preds), np.array(all_labels)\n"
   ]
  },
  {
   "cell_type": "code",
   "execution_count": 54,
   "metadata": {},
   "outputs": [],
   "source": [
    "def get_accuracy(predictions: np.ndarray, labels: np.ndarray) -> float:\n",
    "    \"\"\"\n",
    "    Converts sigmoid prediction to binary values and computes accuracy\n",
    "\n",
    "    Args: \n",
    "        predictions (np.ndarray): Sigmoid prediction values\n",
    "        labels (np.ndarray): True binary labels\n",
    "\n",
    "    Returns:\n",
    "        float: The accuracy score\n",
    "    \"\"\"\n",
    "\n",
    "    binary_preds = []\n",
    "    for prediction in predictions:\n",
    "        if prediction >= .5:\n",
    "            binary_preds.append(1)\n",
    "        else:\n",
    "            binary_preds.append(0)\n",
    "    binary_preds = np.array(binary_preds)\n",
    "    accuracy = accuracy_score(binary_preds, labels)\n",
    "\n",
    "    return accuracy"
   ]
  },
  {
   "cell_type": "code",
   "execution_count": 55,
   "metadata": {},
   "outputs": [
    {
     "name": "stdout",
     "output_type": "stream",
     "text": [
      "Epoch 1, Train Loss: 0.6947, Validation Loss: 0.6946, Validation Accuracy: 0.4944\n",
      "Epoch 2, Train Loss: 1.3664, Validation Loss: 0.6942, Validation Accuracy: 0.4944\n",
      "Epoch 3, Train Loss: 0.6932, Validation Loss: 0.6934, Validation Accuracy: 0.5056\n",
      "Epoch 4, Train Loss: 0.6909, Validation Loss: 0.6906, Validation Accuracy: 0.5169\n",
      "Epoch 5, Train Loss: 0.6810, Validation Loss: 0.6790, Validation Accuracy: 0.5169\n",
      "Epoch 6, Train Loss: 0.6645, Validation Loss: 0.6785, Validation Accuracy: 0.5506\n",
      "Epoch 7, Train Loss: 0.6631, Validation Loss: 0.6950, Validation Accuracy: 0.4719\n",
      "Epoch 8, Train Loss: 0.6549, Validation Loss: 0.6781, Validation Accuracy: 0.5281\n",
      "Epoch 9, Train Loss: 0.6492, Validation Loss: 0.6935, Validation Accuracy: 0.5056\n",
      "Epoch 10, Train Loss: 0.7123, Validation Loss: 0.6709, Validation Accuracy: 0.5618\n",
      "Epoch 11, Train Loss: 0.6511, Validation Loss: 0.6729, Validation Accuracy: 0.5281\n",
      "Epoch 12, Train Loss: 0.6517, Validation Loss: 0.6686, Validation Accuracy: 0.5169\n",
      "Epoch 13, Train Loss: 0.6448, Validation Loss: 0.6716, Validation Accuracy: 0.5056\n",
      "Epoch 14, Train Loss: 0.6391, Validation Loss: 0.6693, Validation Accuracy: 0.5393\n",
      "Epoch 15, Train Loss: 0.6402, Validation Loss: 0.6709, Validation Accuracy: 0.5281\n",
      "Epoch 16, Train Loss: 0.6457, Validation Loss: 0.6674, Validation Accuracy: 0.5618\n",
      "Epoch 17, Train Loss: 0.6317, Validation Loss: 0.6777, Validation Accuracy: 0.5056\n",
      "Epoch 18, Train Loss: 0.6305, Validation Loss: 0.6709, Validation Accuracy: 0.5618\n",
      "Epoch 19, Train Loss: 0.6289, Validation Loss: 0.6745, Validation Accuracy: 0.5169\n",
      "Epoch 20, Train Loss: 0.6254, Validation Loss: 0.6690, Validation Accuracy: 0.5281\n"
     ]
    }
   ],
   "source": [
    "# Training loop execution\n",
    "num_epochs = 20\n",
    "for epoch in range(1, num_epochs + 1):\n",
    "    train_loss = train(model, train_loader)\n",
    "    val_loss, val_preds, val_labels = evaluate(model, val_loader)\n",
    "\n",
    "    val_accuracy = get_accuracy(val_preds, val_labels)\n",
    "    \n",
    "    print(f'Epoch {epoch}, Train Loss: {train_loss:.4f}, Validation Loss: {val_loss:.4f}, Validation Accuracy: {val_accuracy:.4f}')\n"
   ]
  },
  {
   "cell_type": "code",
   "execution_count": 56,
   "metadata": {},
   "outputs": [
    {
     "name": "stdout",
     "output_type": "stream",
     "text": [
      "[0.5233246]\n",
      "[0.5690674]\n",
      "[0.53409064]\n",
      "[0.5710305]\n",
      "[0.5542064]\n",
      "[0.5771064]\n",
      "[0.595388]\n",
      "[0.5553929]\n",
      "[0.5202097]\n",
      "[0.54491436]\n",
      "[0.5715421]\n",
      "[0.55271935]\n",
      "[0.5563475]\n",
      "[0.5633691]\n",
      "[0.51795024]\n",
      "[0.50614405]\n",
      "[0.5930235]\n",
      "[0.5072864]\n",
      "[0.58184814]\n",
      "[0.54951555]\n",
      "[0.57229966]\n",
      "[0.51721215]\n",
      "[0.55861807]\n",
      "[0.5382102]\n",
      "[0.52355504]\n",
      "[0.58221626]\n",
      "[0.57520676]\n",
      "[0.54748785]\n",
      "[0.50430375]\n",
      "[0.53259933]\n",
      "[0.57456005]\n",
      "[0.5859068]\n",
      "[0.58819264]\n",
      "[0.5747733]\n",
      "[0.55945903]\n",
      "[0.59901744]\n",
      "[0.50665873]\n",
      "[0.54758525]\n",
      "[0.57027894]\n",
      "[0.5738203]\n",
      "[0.55624706]\n",
      "[0.55146617]\n",
      "[0.55441904]\n",
      "[0.51834303]\n",
      "[0.5769046]\n",
      "[0.5194583]\n",
      "[0.56648886]\n",
      "[0.5385357]\n",
      "[0.5590194]\n",
      "[0.61045295]\n",
      "[0.56668305]\n",
      "[0.54570293]\n",
      "[[0.5233246 ]\n",
      " [0.3807106 ]\n",
      " [0.5690674 ]\n",
      " [0.35032254]\n",
      " [0.47563544]\n",
      " [0.53409064]\n",
      " [0.5710305 ]\n",
      " [0.21918628]\n",
      " [0.48819306]\n",
      " [0.43743175]]\n"
     ]
    }
   ],
   "source": [
    "for val in val_preds:\n",
    "    if val > .50:\n",
    "        print(val)\n",
    "print(val_preds[0:10])"
   ]
  },
  {
   "cell_type": "code",
   "execution_count": 57,
   "metadata": {},
   "outputs": [],
   "source": [
    "def get_embeddings_and_labels(model: nn.Module, loader: DataLoader) -> Tuple[np.ndarray, np.ndarray]:\n",
    "    \"\"\"\n",
    "    Extracts graph embeddings and labels from the model.\n",
    "\n",
    "    Args:\n",
    "        model (nn.Module): The trained model.\n",
    "        loader (DataLoader): DataLoader for the dataset.\n",
    "\n",
    "    Returns:\n",
    "        Tuple[np.ndarray, np.ndarray]: Embeddings and labels.\n",
    "    \"\"\"\n",
    "    model.eval()\n",
    "    embeddings = []\n",
    "    labels = []\n",
    "    with torch.no_grad():\n",
    "        for data in loader:\n",
    "            data = data.to(device)\n",
    "            out, graph_embeddings = model(data)\n",
    "            embeddings.append(graph_embeddings.cpu())\n",
    "            labels.append(data.y.cpu())\n",
    "    embeddings = torch.cat(embeddings, dim=0)\n",
    "    labels = torch.cat(labels, dim=0)\n",
    "    return embeddings.numpy(), labels.numpy()\n"
   ]
  },
  {
   "cell_type": "code",
   "execution_count": 58,
   "metadata": {},
   "outputs": [],
   "source": [
    "# Get embeddings and labels\n",
    "train_embeddings, train_labels = get_embeddings_and_labels(model, train_loader) \n",
    "val_embeddings, val_labels = get_embeddings_and_labels(model, val_loader)\n",
    "test_embeddings, test_labels = get_embeddings_and_labels(model, test_loader)\n"
   ]
  },
  {
   "cell_type": "code",
   "execution_count": 59,
   "metadata": {},
   "outputs": [
    {
     "data": {
      "image/png": "[encoded data removed]",
      "text/plain": [
       "<Figure size 864x432 with 3 Axes>"
      ]
     },
     "metadata": {
      "needs_background": "light"
     },
     "output_type": "display_data"
    }
   ],
   "source": [
    "\n",
    "pca = PCA(n_components=2)\n",
    "train_pca = pca.fit_transform(train_embeddings)\n",
    "val_pca = pca.transform(val_embeddings)\n",
    "test_pca = pca.transform(test_embeddings)\n",
    "\n",
    "# Remove major outliers for better visualization from PCA and labels\n",
    "x_mean = np.mean(train_pca[:, 0])\n",
    "x_std = np.std(train_pca[:, 0])\n",
    "y_mean = np.mean(train_pca[:, 1])\n",
    "y_std = np.std(train_pca[:, 1])\n",
    "\n",
    "# Prune outliers down to 1 standard deviation from the mean\n",
    "pruned_train_pca = train_pca[(train_pca[:, 0] < x_mean + x_std) & (train_pca[:, 0] > x_mean - x_std) &\n",
    "                             (train_pca[:, 1] < y_mean + y_std) & (train_pca[:, 1] > y_mean - y_std)]\n",
    "pruned_train_labels = train_labels[(train_pca[:, 0] < x_mean + x_std) & (train_pca[:, 0] > x_mean - x_std) &\n",
    "                                   (train_pca[:, 1] < y_mean + y_std) & (train_pca[:, 1] > y_mean - y_std)]\n",
    "\n",
    "pruned_val_pca = val_pca[(val_pca[:, 0] < x_mean + x_std) & (val_pca[:, 0] > x_mean - x_std) &\n",
    "                            (val_pca[:, 1] < y_mean + y_std) & (val_pca[:, 1] > y_mean - y_std)]\n",
    "pruned_val_labels = val_labels[(val_pca[:, 0] < x_mean + x_std) & (val_pca[:, 0] > x_mean - x_std) &\n",
    "                                (val_pca[:, 1] < y_mean + y_std) & (val_pca[:, 1] > y_mean - y_std)]\n",
    "\n",
    "pruned_test_pca = test_pca[(test_pca[:, 0] < x_mean + x_std) & (test_pca[:, 0] > x_mean - x_std) &\n",
    "                            (test_pca[:, 1] < y_mean + y_std) & (test_pca[:, 1] > y_mean - y_std)]\n",
    "pruned_test_labels = test_labels[(test_pca[:, 0] < x_mean + x_std) & (test_pca[:, 0] > x_mean - x_std) &\n",
    "                                (test_pca[:, 1] < y_mean + y_std) & (test_pca[:, 1] > y_mean - y_std)]\n",
    "\n",
    "\n",
    "# Plot PCA embeddings\n",
    "plt.figure(figsize=(12, 6))\n",
    "plt.subplot(1, 3, 1)\n",
    "plt.scatter(pruned_train_pca[:, 0], pruned_train_pca[:, 1], c=pruned_train_labels, cmap='coolwarm', s=10)\n",
    "plt.title('Train Data')\n",
    "plt.subplot(1, 3, 2)\n",
    "plt.scatter(pruned_val_pca[:, 0], pruned_val_pca[:, 1], c=pruned_val_labels, cmap='coolwarm', s=10)\n",
    "plt.title('Validation Data')\n",
    "plt.subplot(1, 3, 3)\n",
    "plt.scatter(pruned_test_pca[:, 0], pruned_test_pca[:, 1], c=pruned_test_labels, cmap='coolwarm', s=10)\n",
    "plt.title('Test Data')\n",
    "plt.tight_layout()\n",
    "plt.show()\n",
    "\n"
   ]
  },
  {
   "cell_type": "code",
   "execution_count": 60,
   "metadata": {},
   "outputs": [
    {
     "data": {
      "image/png": "[encoded data removed]",
      "text/plain": [
       "<Figure size 576x432 with 2 Axes>"
      ]
     },
     "metadata": {
      "needs_background": "light"
     },
     "output_type": "display_data"
    },
    {
     "data": {
      "image/png": "[encoded data removed]",
      "text/plain": [
       "<Figure size 576x432 with 2 Axes>"
      ]
     },
     "metadata": {
      "needs_background": "light"
     },
     "output_type": "display_data"
    }
   ],
   "source": [
    "# Perform PCA and plot embeddings\n",
    "from sklearn.decomposition import PCA\n",
    "\n",
    "# Combine embeddings and labels\n",
    "all_embeddings = np.concatenate([train_embeddings, val_embeddings, test_embeddings], axis=0)\n",
    "all_labels = np.concatenate([train_labels, val_labels, test_labels], axis=0)\n",
    "\n",
    "# Perform PCA\n",
    "pca = PCA(n_components=3)\n",
    "pca_result = pca.fit_transform(all_embeddings)\n",
    "\n",
    "# Prune outliers down to 1 standard deviation from the mean\n",
    "x_mean = np.mean(pca_result[:, 0])\n",
    "x_std = np.std(pca_result[:, 0])\n",
    "y_mean = np.mean(pca_result[:, 1])\n",
    "y_std = np.std(pca_result[:, 1])\n",
    "z_mean = np.mean(pca_result[:, 2])\n",
    "z_std = np.std(pca_result[:, 2])\n",
    "\n",
    "# Prune outliers down to 1 standard deviation from the mean\n",
    "pruned_pca_result = pca_result[(pca_result[:, 0] < x_mean + x_std) & (pca_result[:, 0] > x_mean - x_std) &\n",
    "                               (pca_result[:, 1] < y_mean + y_std) & (pca_result[:, 1] > y_mean - y_std) &\n",
    "                                 (pca_result[:, 2] < z_mean + z_std) & (pca_result[:, 2] > z_mean - z_std)]\n",
    "pruned_labels = all_labels[(pca_result[:, 0] < x_mean + x_std) & (pca_result[:, 0] > x_mean - x_std) &\n",
    "                            (pca_result[:, 1] < y_mean + y_std) & (pca_result[:, 1] > y_mean - y_std) &\n",
    "                            (pca_result[:, 2] < z_mean + z_std) & (pca_result[:, 2] > z_mean - z_std)]\n",
    "\n",
    "# Plot PCA\n",
    "plt.figure(figsize=(8, 6))\n",
    "scatter = plt.scatter(pruned_pca_result[:, 0], pruned_pca_result[:, 1], c=pruned_labels.squeeze(), cmap='coolwarm', alpha=0.7)\n",
    "plt.xlabel('PC1')\n",
    "plt.ylabel('PC2')\n",
    "plt.title('PCA of Graph Embeddings Colored by Function')\n",
    "plt.colorbar(scatter, label='Function')\n",
    "plt.show()\n",
    "\n",
    "# Also plot PCA2 and PCA3\n",
    "pca = PCA(n_components=3)\n",
    "pca_result = pca.fit_transform(all_embeddings)\n",
    "\n",
    "# Plot PCA\n",
    "plt.figure(figsize=(8, 6))\n",
    "scatter = plt.scatter(pruned_pca_result[:, 1], pruned_pca_result[:, 2], c=pruned_labels.squeeze(), cmap='coolwarm', alpha=0.7)\n",
    "plt.xlabel('PC2')\n",
    "plt.ylabel('PC3')\n",
    "plt.title('PCA of Graph Embeddings Colored by Function')\n",
    "plt.colorbar(scatter, label='Function')\n",
    "plt.show()\n"
   ]
  },
  {
   "cell_type": "code",
   "execution_count": 61,
   "metadata": {},
   "outputs": [
    {
     "data": {
      "image/png": "[encoded data removed]",
      "text/plain": [
       "<Figure size 432x288 with 1 Axes>"
      ]
     },
     "metadata": {
      "needs_background": "light"
     },
     "output_type": "display_data"
    }
   ],
   "source": [
    "# Train a linear classifier on the embeddings\n",
    "from sklearn.linear_model import LogisticRegression\n",
    "from sklearn.metrics import roc_auc_score, roc_curve\n",
    "\n",
    "# Prepare training and test data\n",
    "X_train = train_embeddings\n",
    "y_train = train_labels.squeeze()\n",
    "X_test = test_embeddings\n",
    "y_test = test_labels.squeeze()\n",
    "\n",
    "# Train logistic regression\n",
    "clf = LogisticRegression(max_iter=1000)\n",
    "clf.fit(X_train, y_train)\n",
    "\n",
    "# Predict probabilities\n",
    "y_scores = clf.predict_proba(X_test)[:, 1]\n",
    "\n",
    "# Compute ROC curve and AUC\n",
    "fpr, tpr, thresholds = roc_curve(y_test, y_scores)\n",
    "roc_auc = auc(fpr, tpr)\n",
    "\n",
    "# Plot ROC curve\n",
    "plt.figure()\n",
    "plt.plot(fpr, tpr, label=f'ROC curve (AUC = {roc_auc:.2f})')\n",
    "plt.plot([0, 1], [0, 1], 'k--')\n",
    "plt.xlim([0.0, 1.0])\n",
    "plt.ylim([0.0, 1.05])\n",
    "plt.xlabel('False Positive Rate')\n",
    "plt.ylabel('True Positive Rate')\n",
    "plt.title('ROC - Test Set')\n",
    "plt.legend(loc='lower right')\n",
    "plt.show()\n"
   ]
  },
  {
   "cell_type": "code",
   "execution_count": 62,
   "metadata": {},
   "outputs": [
    {
     "name": "stdout",
     "output_type": "stream",
     "text": [
      "Testing accuracy: 0.5843\n"
     ]
    },
    {
     "data": {
      "image/png": "[encoded data removed]",
      "text/plain": [
       "<Figure size 432x288 with 1 Axes>"
      ]
     },
     "metadata": {
      "needs_background": "light"
     },
     "output_type": "display_data"
    }
   ],
   "source": [
    "# Evaluate the full model on the test set and plot ROC curve\n",
    "model.eval()\n",
    "all_preds = []\n",
    "all_labels = []\n",
    "with torch.no_grad():\n",
    "    for data in test_loader:\n",
    "        data = data.to(device)\n",
    "        out, _ = model(data)\n",
    "        preds = torch.sigmoid(out).cpu().numpy()\n",
    "        labels = data.y.cpu().numpy()\n",
    "        all_preds.extend(preds)\n",
    "        all_labels.extend(labels)\n",
    "\n",
    "accuracy = get_accuracy(all_preds, all_labels)\n",
    "print(f\"Testing accuracy: {accuracy:.4f}\")\n",
    "\n",
    "# Compute ROC curve and AUC\n",
    "fpr, tpr, thresholds = roc_curve(all_labels, all_preds)\n",
    "\n",
    "roc_auc = auc(fpr, tpr)\n",
    "\n",
    "# Plot ROC curve\n",
    "plt.figure()\n",
    "plt.plot(fpr, tpr, label=f'Full Model ROC curve (AUC = {roc_auc:.2f})')\n",
    "plt.plot([0, 1], [0, 1], 'k--')\n",
    "plt.xlim([0.0, 1.0])\n",
    "plt.ylim([0.0, 1.05])\n",
    "plt.xlabel('False Positive Rate')\n",
    "plt.ylabel('True Positive Rate')\n",
    "plt.title('ROC - Full Model')\n",
    "plt.legend(loc='lower right')\n",
    "plt.show()\n"
   ]
  },
  {
   "cell_type": "code",
   "execution_count": 64,
   "metadata": {},
   "outputs": [
    {
     "name": "stdout",
     "output_type": "stream",
     "text": [
      "[0.4556626]\n",
      "[0.35193646]\n",
      "[0.5170977]\n",
      "[0.3348436]\n",
      "[0.34135336]\n",
      "[0.5816717]\n",
      "[0.565555]\n",
      "[0.5411566]\n",
      "[0.49064434]\n",
      "[0.4814625]\n",
      "[0.527918]\n",
      "[0.554458]\n",
      "[0.58017445]\n",
      "[0.53828895]\n",
      "[0.38161564]\n",
      "[0.5197941]\n",
      "[0.55255884]\n",
      "[0.5766065]\n",
      "[0.30705807]\n",
      "[0.5458372]\n",
      "[0.57317454]\n",
      "[0.5629264]\n",
      "[0.47420517]\n"
     ]
    }
   ],
   "source": [
    "for val in preds:\n",
    "    if val > .3:\n",
    "        print(val)\n",
    "#print(preds[0:10])"
   ]
  },
  {
   "cell_type": "code",
   "execution_count": 65,
   "metadata": {},
   "outputs": [],
   "source": [
    "def get_smiles_vocab(train_df: pd.DataFrame) -> list:\n",
    "    \"\"\"\n",
    "    Obtain all unique SMILES characters for our vocabulary\n",
    "    Args: \n",
    "        trainData (DataFrame): Original training data\n",
    "\n",
    "    Returns:\n",
    "        list: The vocabulary list\n",
    "    \"\"\"\n",
    "    vocabulary_set = set()\n",
    "    vocabulary = []\n",
    "    for index, row, in train_df.iterrows():\n",
    "        #print(row)\n",
    "        smiles = (row[\"SMILE\"])\n",
    "        for chr in smiles:\n",
    "            #print(chr)\n",
    "            if chr not in vocabulary_set:\n",
    "                vocabulary_set.add(chr)\n",
    "                vocabulary.append(chr)\n",
    "            \n",
    "    return vocabulary\n",
    "\n"
   ]
  },
  {
   "cell_type": "code",
   "execution_count": 66,
   "metadata": {},
   "outputs": [
    {
     "name": "stdout",
     "output_type": "stream",
     "text": [
      "['[', 'H', ']', 'C', '@', '1', '2', '(', '=', 'O', ')', '3', '4', 'N', '#', '5', '6', '7', 'S', 'F', 'l', 'B', 'r', 'A', 's', 'P', '8', '9', '%', '0', 'a', '+', '.', '\\\\', '-', 'I', '/', 'u', 'i', 'g', 'n']\n",
      "Length of vocabulary is 42\n"
     ]
    }
   ],
   "source": [
    "#We may want to filter out some of these vocab elements, like the \".\" bc I thought we got rid of those?\n",
    "smiles_chars = get_smiles_vocab(train_df)\n",
    "print(smiles_chars)\n",
    "char_to_idx = {char: idx for idx, char in enumerate(smiles_chars)}\n",
    "idx_to_char = {idx: char for char, idx in char_to_idx.items()}\n",
    "\n",
    "char_to_idx[' '] = len(char_to_idx)  # Assign a new index for padding\n",
    "idx_to_char[len(idx_to_char)] = ' '\n",
    "\n",
    "#We try to ignore the padding later, so potentially -1?\n",
    "vocab_size = len(char_to_idx)#len(smiles_chars) +1 padding chr\n",
    "print(f\"Length of vocabulary is {vocab_size}\")"
   ]
  },
  {
   "cell_type": "code",
   "execution_count": 67,
   "metadata": {},
   "outputs": [],
   "source": [
    "def encode_smiles(smiles: str) -> list:\n",
    "    \"\"\"\n",
    "    Encodes SMILES strings to a list of indices.\n",
    "    Args: \n",
    "        smiles (str): A SMILES string\n",
    "\n",
    "    Returns:\n",
    "        list: the SMILES string encoded\n",
    "    \n",
    "    \"\"\"\n",
    "    return [char_to_idx[char] for char in smiles]\n",
    "\n",
    "def decode_indices(indices: list) -> str:\n",
    "    \"\"\"\n",
    "    Decodes a list of indices back to a SMILES string.\n",
    "    Args: \n",
    "        indicies (list): list of encoded SMILES string\n",
    "\n",
    "    Returns:\n",
    "        list: the decoded SMILES string\n",
    "    \n",
    "    \"\"\"\n",
    "    return ''.join([idx_to_char[idx] for idx in indices])"
   ]
  },
  {
   "cell_type": "code",
   "execution_count": 68,
   "metadata": {},
   "outputs": [],
   "source": [
    "def get_vae_training_data(train_embeddings: np.ndarray, train_labels: np.ndarray) -> np.ndarray:\n",
    "    \"\"\"\n",
    "    Obtain the embeddings of training samples that activate AR\n",
    "    Args:\n",
    "        train_embeddings (np.ndarray): the training embeddings\n",
    "        train_labels (np.ndarray): binary activation labels for the embedded samples\n",
    "\n",
    "    Return:\n",
    "    np.ndarray: the activating embeddings\n",
    "    \n",
    "    \"\"\"\n",
    "    activating_embeddings = []\n",
    "    for i, label in enumerate(train_labels):\n",
    "        if label == 1:\n",
    "            embedding = train_embeddings[i]\n",
    "            activating_embeddings.append(embedding)\n",
    "    \n",
    "    activating_embeddings = np.array(activating_embeddings)\n",
    "    return activating_embeddings \n",
    "\n"
   ]
  },
  {
   "cell_type": "code",
   "execution_count": 69,
   "metadata": {},
   "outputs": [],
   "source": [
    "def pad_smiles_indices(smiles_indices: List[List], padding_value=char_to_idx[' ']) -> torch.tensor:\n",
    "    \"\"\"\n",
    "    Pads sequences with the padding character index, since the SMILES strings are different lengths\n",
    "    \n",
    "    Args:\n",
    "        smiles_indices (list[list]): the list of mapped indices for SMILES strings\n",
    "    Return: \n",
    "        torch.tensor\n",
    "\n",
    "    \"\"\"\n",
    "    padded_smiles = pad_sequence([torch.tensor(smi, dtype=torch.long) for smi in smiles_indices],\n",
    "                                 batch_first=True,\n",
    "                                 padding_value=padding_value)\n",
    "    return padded_smiles"
   ]
  },
  {
   "cell_type": "code",
   "execution_count": 70,
   "metadata": {},
   "outputs": [],
   "source": [
    "def get_smiles_with_y_equals_one(data_loader: DataLoader) -> np.ndarray:\n",
    "    \"\"\"\n",
    "    Pads sequences with the padding character index, since the SMILES strings are different lengths\n",
    "    \n",
    "    Args:\n",
    "        data_loader (DataLoader): the unshuffled dataloader\n",
    "    Return: \n",
    "        np.ndarray: the list of SMILES that activate AR (in order)\n",
    "\n",
    "    \"\"\"\n",
    "    smiles_list = []\n",
    "    for data in data_loader:\n",
    "        for i in range(len(data.smiles)):\n",
    "            if data.y[i].item() == 1:  # Check if y value is 1\n",
    "                smiles_list.append(data.smiles[i])\n",
    "    smiles_list = np.array(smiles_list)\n",
    "    return smiles_list"
   ]
  },
  {
   "cell_type": "code",
   "execution_count": 71,
   "metadata": {},
   "outputs": [],
   "source": [
    "# The goal of this section is to get the SMILES strings from the embeddings for molecules that activate the AR, so we can pass in both of those to decoder to learn. \n",
    "\n",
    "#Keep shuffle=False\n",
    "train_loader_vae = DataLoader(train_dataset, batch_size=batch_size, shuffle=False)\n",
    "\n",
    "smiles_with_y_one = get_smiles_with_y_equals_one(train_loader_vae)\n",
    "train_embeddings_unshuffled, train_labels_unshuffled = get_embeddings_and_labels(model, train_loader_vae) \n",
    "train_embeddings_with_y_one = get_vae_training_data(train_embeddings_unshuffled, train_labels_unshuffled)\n",
    "\n",
    "vae_train_smiles_indices = [encode_smiles(smile) for smile in smiles_with_y_one]\n",
    "padded_vae_train_smiles_indices = pad_smiles_indices(vae_train_smiles_indices)"
   ]
  },
  {
   "cell_type": "code",
   "execution_count": 72,
   "metadata": {},
   "outputs": [
    {
     "name": "stdout",
     "output_type": "stream",
     "text": [
      "286\n"
     ]
    }
   ],
   "source": [
    "top = 0\n",
    "for sm in vae_train_smiles_indices:\n",
    "    length = len(sm)\n",
    "    if length > top:\n",
    "        top = length\n",
    "\n",
    "print(top)"
   ]
  },
  {
   "cell_type": "code",
   "execution_count": 73,
   "metadata": {},
   "outputs": [
    {
     "data": {
      "text/plain": [
       "tensor([ 0,  1,  2,  0,  3,  4,  4,  2,  5,  6,  3,  3,  0,  3,  4,  1,  2,  7,\n",
       "         3,  7,  8,  9, 10,  3,  9,  3,  7,  3, 10,  8,  9, 10,  0,  3,  4,  4,\n",
       "         2,  5,  7,  3, 10,  3,  3,  0,  3,  4,  4,  2, 11,  7,  0,  1,  2, 10,\n",
       "         0,  3,  4,  4,  2,  6,  7,  0,  1,  2, 10,  3,  3,  3, 12,  8,  3,  3,\n",
       "         7,  8,  9, 10,  3,  3,  0,  3,  4,  2, 11, 12,  3, 41, 41, 41, 41, 41,\n",
       "        41, 41, 41, 41, 41, 41, 41, 41, 41, 41, 41, 41, 41, 41, 41, 41, 41, 41,\n",
       "        41, 41, 41, 41, 41, 41, 41, 41, 41, 41, 41, 41, 41, 41, 41, 41, 41, 41,\n",
       "        41, 41, 41, 41, 41, 41, 41, 41, 41, 41, 41, 41, 41, 41, 41, 41, 41, 41,\n",
       "        41, 41, 41, 41, 41, 41, 41, 41, 41, 41, 41, 41, 41, 41, 41, 41, 41, 41,\n",
       "        41, 41, 41, 41, 41, 41, 41, 41, 41, 41, 41, 41, 41, 41, 41, 41, 41, 41,\n",
       "        41, 41, 41, 41, 41, 41, 41, 41, 41, 41, 41, 41, 41, 41, 41, 41, 41, 41,\n",
       "        41, 41, 41, 41, 41, 41, 41, 41, 41, 41, 41, 41, 41, 41, 41, 41, 41, 41,\n",
       "        41, 41, 41, 41, 41, 41, 41, 41, 41, 41, 41, 41, 41, 41, 41, 41, 41, 41,\n",
       "        41, 41, 41, 41, 41, 41, 41, 41, 41, 41, 41, 41, 41, 41, 41, 41, 41, 41,\n",
       "        41, 41, 41, 41, 41, 41, 41, 41, 41, 41, 41, 41, 41, 41, 41, 41, 41, 41,\n",
       "        41, 41, 41, 41, 41, 41, 41, 41, 41, 41, 41, 41, 41, 41, 41, 41])"
      ]
     },
     "execution_count": 73,
     "metadata": {},
     "output_type": "execute_result"
    }
   ],
   "source": [
    "padded_vae_train_smiles_indices[0]"
   ]
  },
  {
   "cell_type": "code",
   "execution_count": 74,
   "metadata": {},
   "outputs": [
    {
     "name": "stderr",
     "output_type": "stream",
     "text": [
      "/opt/anaconda3/lib/python3.7/site-packages/ipykernel_launcher.py:2: UserWarning: To copy construct from a tensor, it is recommended to use sourceTensor.clone().detach() or sourceTensor.clone().detach().requires_grad_(True), rather than torch.tensor(sourceTensor).\n",
      "  \n"
     ]
    }
   ],
   "source": [
    "train_dataset_vae_with_y_one = TensorDataset(torch.tensor(train_embeddings_with_y_one, dtype=torch.float32),\n",
    "                              torch.tensor(padded_vae_train_smiles_indices, dtype=torch.long))\n",
    "\n",
    "#NOTE: set shuffle=True once code works eventually\n",
    "train_loader_vae_with_y_one = DataLoader(train_dataset_vae_with_y_one, batch_size=32, shuffle=False)\n"
   ]
  },
  {
   "cell_type": "code",
   "execution_count": 75,
   "metadata": {},
   "outputs": [
    {
     "data": {
      "text/plain": [
       "(tensor([-0.6826,  0.7643,  0.1836]),\n",
       " tensor([ 0,  1,  2,  0,  3,  4,  4,  2,  5,  6,  3,  3,  0,  3,  4,  1,  2,  7,\n",
       "          3,  7,  8,  9, 10,  3,  9,  3,  7,  3, 10,  8,  9, 10,  0,  3,  4,  4,\n",
       "          2,  5,  7,  3, 10,  3,  3,  0,  3,  4,  4,  2, 11,  7,  0,  1,  2, 10,\n",
       "          0,  3,  4,  4,  2,  6,  7,  0,  1,  2, 10,  3,  3,  3, 12,  8,  3,  3,\n",
       "          7,  8,  9, 10,  3,  3,  0,  3,  4,  2, 11, 12,  3, 41, 41, 41, 41, 41,\n",
       "         41, 41, 41, 41, 41, 41, 41, 41, 41, 41, 41, 41, 41, 41, 41, 41, 41, 41,\n",
       "         41, 41, 41, 41, 41, 41, 41, 41, 41, 41, 41, 41, 41, 41, 41, 41, 41, 41,\n",
       "         41, 41, 41, 41, 41, 41, 41, 41, 41, 41, 41, 41, 41, 41, 41, 41, 41, 41,\n",
       "         41, 41, 41, 41, 41, 41, 41, 41, 41, 41, 41, 41, 41, 41, 41, 41, 41, 41,\n",
       "         41, 41, 41, 41, 41, 41, 41, 41, 41, 41, 41, 41, 41, 41, 41, 41, 41, 41,\n",
       "         41, 41, 41, 41, 41, 41, 41, 41, 41, 41, 41, 41, 41, 41, 41, 41, 41, 41,\n",
       "         41, 41, 41, 41, 41, 41, 41, 41, 41, 41, 41, 41, 41, 41, 41, 41, 41, 41,\n",
       "         41, 41, 41, 41, 41, 41, 41, 41, 41, 41, 41, 41, 41, 41, 41, 41, 41, 41,\n",
       "         41, 41, 41, 41, 41, 41, 41, 41, 41, 41, 41, 41, 41, 41, 41, 41, 41, 41,\n",
       "         41, 41, 41, 41, 41, 41, 41, 41, 41, 41, 41, 41, 41, 41, 41, 41, 41, 41,\n",
       "         41, 41, 41, 41, 41, 41, 41, 41, 41, 41, 41, 41, 41, 41, 41, 41]))"
      ]
     },
     "execution_count": 75,
     "metadata": {},
     "output_type": "execute_result"
    }
   ],
   "source": [
    "train_dataset_vae_with_y_one[0]"
   ]
  },
  {
   "cell_type": "markdown",
   "metadata": {},
   "source": [
    "EVERYWHERE BELOW HERE IS PROBLEMATIC"
   ]
  },
  {
   "cell_type": "code",
   "execution_count": 76,
   "metadata": {},
   "outputs": [],
   "source": [
    "#NOTE: THIS WHOLE CLASS SHOULD PROB GET DELETED AND REWORKED\n",
    "\n",
    "class LSTMDecoder(nn.Module):\n",
    "    \"\"\"\n",
    "    Model that decodes from a latent space\n",
    "\n",
    "    Args:\n",
    "        latent_dim (int): the dimensionality of the input embeddings\n",
    "        hidden_dim (int): transforming inputs to different dimension\n",
    "        vocab_size (int): number of unique characters in our SMILES vocab\n",
    "        num_layers (int): depth of decoder\n",
    "    \"\"\"\n",
    "    def __init__(self, latent_dim, hidden_dim, vocab_size, num_layers=2):\n",
    "        super(LSTMDecoder, self).__init__()\n",
    "        self.latent_to_hidden = nn.Linear(latent_dim, hidden_dim)\n",
    "        self.lstm = nn.LSTM(input_size=vocab_size, hidden_size=hidden_dim, num_layers=num_layers, batch_first=True)\n",
    "        self.output_layer = nn.Linear(hidden_dim, vocab_size)\n",
    "\n",
    "    #NOTE: THIS IS NOT CORRECT\n",
    "    #Reduce max_length? the max length for a SMILES is in 80s i think\n",
    "    def forward(self, z, max_length=100): #100\n",
    "        batch_size = z.size(0)\n",
    "        hidden = self.latent_to_hidden(z).unsqueeze(0).repeat(self.lstm.num_layers, 1, 1)\n",
    "        cell = torch.zeros_like(hidden)\n",
    "\n",
    "        input_token = torch.zeros(batch_size, 1, vocab_size)  # Start token, adjust as needed\n",
    "        outputs = []\n",
    "\n",
    "        for _ in range(max_length):\n",
    "            output, (hidden, cell) = self.lstm(input_token, (hidden, cell))\n",
    "            output_token = self.output_layer(output[:, -1, :])\n",
    "\n",
    "            #eos_token = output_token.argmax(dim=-1)\n",
    "            #print(eos_token)\n",
    "\n",
    "            #print(output_token.shape)\n",
    "            #print(\"----\")\n",
    "            outputs.append(output_token)\n",
    "            #print(output_token.shape)\n",
    "            input_token = F.one_hot(output_token.argmax(dim=-1), num_classes=vocab_size).float().unsqueeze(1)\n",
    "            #print(input_token.)\n",
    "\n",
    "        return torch.cat(outputs, dim=1)"
   ]
  },
  {
   "cell_type": "code",
   "execution_count": 77,
   "metadata": {},
   "outputs": [],
   "source": [
    "class VAE(nn.Module):\n",
    "    \"\"\"\n",
    "    Variational Autoencoder that only decodes an input sample\n",
    "\n",
    "    Args:\n",
    "        deocder (nn.Module): A decoder for the VAE\n",
    "    \"\"\"\n",
    "    def __init__(self, decoder):\n",
    "        super(VAE, self).__init__()\n",
    "        self.decoder = decoder\n",
    "\n",
    "    def sample(self, num_samples=1, latent_dim=3):\n",
    "        #Sample from a standard normal distribution\n",
    "        z = torch.randn(num_samples, latent_dim)\n",
    "        return self.decoder(z)"
   ]
  },
  {
   "cell_type": "code",
   "execution_count": 78,
   "metadata": {},
   "outputs": [],
   "source": [
    "# Set hyperparameters for deocder\n",
    "latent_dim = 3  #Dimension of the 3D embeddings from the GNN\n",
    "hidden_dim = 256\n",
    "decoder = LSTMDecoder(latent_dim, hidden_dim, vocab_size)\n",
    "vae = VAE(decoder)\n",
    "\n",
    "criterion = nn.CrossEntropyLoss(ignore_index=char_to_idx[' '])\n",
    "optimizer = torch.optim.Adam(vae.parameters(), lr=0.001)"
   ]
  },
  {
   "cell_type": "code",
   "execution_count": 79,
   "metadata": {},
   "outputs": [
    {
     "name": "stdout",
     "output_type": "stream",
     "text": [
      "Epoch 1, Loss: 3.3952739238739014\n",
      "Epoch 2, Loss: 2.5074949264526367\n",
      "Epoch 3, Loss: 2.4614670276641846\n"
     ]
    }
   ],
   "source": [
    "\"\"\"\n",
    "We are feeding in only activating samples to the VAE\n",
    "\"\"\"\n",
    "vae.train()\n",
    "for epoch in range(3):\n",
    "    for batch_embeddings, batch_smiles in train_loader_vae_with_y_one: \n",
    "        #print(batch_smiles)\n",
    "        #break\n",
    "        optimizer.zero_grad()\n",
    "        outputs = vae.decoder(batch_embeddings, max_length=batch_smiles.size(1))\n",
    "        loss = criterion(outputs.view(-1, vocab_size), batch_smiles.view(-1))\n",
    "        loss.backward()\n",
    "        optimizer.step()\n",
    "    print(f'Epoch {epoch + 1}, Loss: {loss.item()}')"
   ]
  },
  {
   "cell_type": "code",
   "execution_count": 80,
   "metadata": {},
   "outputs": [],
   "source": [
    "vae.eval()\n",
    "with torch.no_grad():\n",
    "    sampled_smiles = vae.sample(num_samples=1)\n"
   ]
  },
  {
   "cell_type": "code",
   "execution_count": 81,
   "metadata": {},
   "outputs": [
    {
     "name": "stdout",
     "output_type": "stream",
     "text": [
      "[1.2608343362808228, 0.576485276222229, 0.8299835920333862, 1.3195723295211792, 0.7150381803512573, 0.4160250723361969, 0.138374924659729, 0.5341612696647644, 0.5666971206665039, 0.650377631187439, 0.4237302541732788, 0.186056986451149, 0.04061640053987503, 0.2461470365524292, -0.7101384997367859, -0.4928934872150421, -0.733812689781189, -0.7877512574195862, -0.6024753451347351, -0.464701771736145, -0.7337769269943237, -0.7834660410881042, -0.7145325541496277, -0.834402322769165, -0.7674481272697449, -0.4918905198574066, -0.741453230381012, -0.733057975769043, -0.9399707317352295, -0.8986966013908386, -0.6005967259407043, -0.8091598153114319, -0.8285478949546814, -0.6606663465499878, -0.837013304233551, -0.7564075589179993, -0.8649991750717163, -0.6671661734580994, -0.7498034238815308, -0.7419062852859497, -0.7670848965644836, -0.901940643787384, 1.5938451290130615, 0.8107004165649414, 1.3971935510635376, 2.1091041564941406, 1.3309061527252197, 0.7057615518569946, 0.51966392993927, 1.1721352338790894, 1.16031813621521, 1.0034540891647339, 1.1685709953308105, 0.4961833655834198, 0.15887074172496796, 0.23459595441818237, -1.1295242309570312, -0.9243631362915039, -1.3977454900741577, -1.5030375719070435, -1.0222409963607788, -0.7571650743484497, -1.1964128017425537, -1.4555903673171997, -1.3174304962158203, -1.496131420135498, -1.611008882522583, -1.1135896444320679, -1.4868803024291992, -1.2420729398727417, -1.4766939878463745, -1.5779441595077515, -1.3433400392532349, -1.4504525661468506, -1.7077546119689941, -1.3174779415130615, -1.3724236488342285, -1.365214467048645, -1.532700538635254, -1.2219271659851074, -1.589306116104126, -1.3867087364196777, -1.3999141454696655, -1.5842114686965942, 1.9953805208206177, 1.011433482170105, 1.9254194498062134, 2.7921295166015625, 1.8719838857650757, 0.9513674974441528, 0.8571042418479919, 1.7274452447891235, 1.6837315559387207, 1.3614469766616821, 1.8341631889343262, 0.7744461297988892, 0.2665584981441498, 0.3081895411014557, -1.5909016132354736, -1.2705941200256348]\n"
     ]
    }
   ],
   "source": [
    "sampled = sampled_smiles.tolist()[0][0:100]\n",
    "print(sampled)"
   ]
  },
  {
   "cell_type": "code",
   "execution_count": 82,
   "metadata": {},
   "outputs": [
    {
     "name": "stdout",
     "output_type": "stream",
     "text": [
      "100\n"
     ]
    }
   ],
   "source": [
    "print(len(sampled))"
   ]
  },
  {
   "cell_type": "code",
   "execution_count": 83,
   "metadata": {},
   "outputs": [
    {
     "name": "stdout",
     "output_type": "stream",
     "text": [
      "-1.7077546119689941\n",
      "2.7921295166015625\n"
     ]
    }
   ],
   "source": [
    "print(min(sampled))\n",
    "print(max(sampled))\n"
   ]
  },
  {
   "cell_type": "code",
   "execution_count": 84,
   "metadata": {},
   "outputs": [],
   "source": [
    "def scale_list(numbers, max_length):\n",
    "    min_val = min(numbers)\n",
    "    max_val = max(numbers)\n",
    "    \n",
    "    scaled_numbers = [(x - min_val) / (max_val - min_val) * max_length for x in numbers]\n",
    "    scaled_numbers = [int(x) for x in scaled_numbers]\n",
    "    \n",
    "    return scaled_numbers"
   ]
  },
  {
   "cell_type": "code",
   "execution_count": 85,
   "metadata": {},
   "outputs": [],
   "source": [
    "tmp = scale_list(sampled, 42)"
   ]
  },
  {
   "cell_type": "code",
   "execution_count": 86,
   "metadata": {},
   "outputs": [
    {
     "name": "stdout",
     "output_type": "stream",
     "text": [
      "87\n",
      "42\n"
     ]
    }
   ],
   "source": [
    "for i, val in enumerate(tmp):\n",
    "    if val > 40:\n",
    "        print(i)\n",
    "        print(val)\n",
    "        #print(val)"
   ]
  },
  {
   "cell_type": "code",
   "execution_count": 87,
   "metadata": {},
   "outputs": [
    {
     "ename": "KeyError",
     "evalue": "42",
     "output_type": "error",
     "traceback": [
      "\u001b[0;31m---------------------------------------------------------------------------\u001b[0m",
      "\u001b[0;31mKeyError\u001b[0m                                  Traceback (most recent call last)",
      "\u001b[0;32m<ipython-input-87-049af64641bb>\u001b[0m in \u001b[0;36m<module>\u001b[0;34m\u001b[0m\n\u001b[0;32m----> 1\u001b[0;31m \u001b[0mexample\u001b[0m \u001b[0;34m=\u001b[0m \u001b[0mdecode_indices\u001b[0m\u001b[0;34m(\u001b[0m\u001b[0mtmp\u001b[0m\u001b[0;34m)\u001b[0m\u001b[0;34m\u001b[0m\u001b[0;34m\u001b[0m\u001b[0m\n\u001b[0m\u001b[1;32m      2\u001b[0m \u001b[0mprint\u001b[0m\u001b[0;34m(\u001b[0m\u001b[0mexample\u001b[0m\u001b[0;34m)\u001b[0m\u001b[0;34m\u001b[0m\u001b[0;34m\u001b[0m\u001b[0m\n\u001b[1;32m      3\u001b[0m \u001b[0mmolecule\u001b[0m \u001b[0;34m=\u001b[0m \u001b[0mChem\u001b[0m\u001b[0;34m.\u001b[0m\u001b[0mMolFromSmiles\u001b[0m\u001b[0;34m(\u001b[0m\u001b[0mexample\u001b[0m\u001b[0;34m)\u001b[0m\u001b[0;34m\u001b[0m\u001b[0;34m\u001b[0m\u001b[0m\n\u001b[1;32m      4\u001b[0m \u001b[0;32mif\u001b[0m \u001b[0mmolecule\u001b[0m\u001b[0;34m:\u001b[0m\u001b[0;34m\u001b[0m\u001b[0;34m\u001b[0m\u001b[0m\n\u001b[1;32m      5\u001b[0m     \u001b[0mprint\u001b[0m\u001b[0;34m(\u001b[0m\u001b[0;34m\"Molecule successfully created\"\u001b[0m\u001b[0;34m)\u001b[0m\u001b[0;34m\u001b[0m\u001b[0;34m\u001b[0m\u001b[0m\n",
      "\u001b[0;32m<ipython-input-67-1c9585ae4cf6>\u001b[0m in \u001b[0;36mdecode_indices\u001b[0;34m(indices)\u001b[0m\n\u001b[1;32m     21\u001b[0m \u001b[0;34m\u001b[0m\u001b[0m\n\u001b[1;32m     22\u001b[0m     \"\"\"\n\u001b[0;32m---> 23\u001b[0;31m     \u001b[0;32mreturn\u001b[0m \u001b[0;34m''\u001b[0m\u001b[0;34m.\u001b[0m\u001b[0mjoin\u001b[0m\u001b[0;34m(\u001b[0m\u001b[0;34m[\u001b[0m\u001b[0midx_to_char\u001b[0m\u001b[0;34m[\u001b[0m\u001b[0midx\u001b[0m\u001b[0;34m]\u001b[0m \u001b[0;32mfor\u001b[0m \u001b[0midx\u001b[0m \u001b[0;32min\u001b[0m \u001b[0mindices\u001b[0m\u001b[0;34m]\u001b[0m\u001b[0;34m)\u001b[0m\u001b[0;34m\u001b[0m\u001b[0;34m\u001b[0m\u001b[0m\n\u001b[0m",
      "\u001b[0;32m<ipython-input-67-1c9585ae4cf6>\u001b[0m in \u001b[0;36m<listcomp>\u001b[0;34m(.0)\u001b[0m\n\u001b[1;32m     21\u001b[0m \u001b[0;34m\u001b[0m\u001b[0m\n\u001b[1;32m     22\u001b[0m     \"\"\"\n\u001b[0;32m---> 23\u001b[0;31m     \u001b[0;32mreturn\u001b[0m \u001b[0;34m''\u001b[0m\u001b[0;34m.\u001b[0m\u001b[0mjoin\u001b[0m\u001b[0;34m(\u001b[0m\u001b[0;34m[\u001b[0m\u001b[0midx_to_char\u001b[0m\u001b[0;34m[\u001b[0m\u001b[0midx\u001b[0m\u001b[0;34m]\u001b[0m \u001b[0;32mfor\u001b[0m \u001b[0midx\u001b[0m \u001b[0;32min\u001b[0m \u001b[0mindices\u001b[0m\u001b[0;34m]\u001b[0m\u001b[0;34m)\u001b[0m\u001b[0;34m\u001b[0m\u001b[0;34m\u001b[0m\u001b[0m\n\u001b[0m",
      "\u001b[0;31mKeyError\u001b[0m: 42"
     ]
    }
   ],
   "source": [
    "example = decode_indices(tmp)\n",
    "print(example)\n",
    "molecule = Chem.MolFromSmiles(example)\n",
    "if molecule:\n",
    "    print(\"Molecule successfully created\")\n",
    "else:\n",
    "    print(\"Invalid SMILES string\")"
   ]
  },
  {
   "cell_type": "code",
   "execution_count": null,
   "metadata": {},
   "outputs": [],
   "source": []
  },
  {
   "cell_type": "code",
   "execution_count": null,
   "metadata": {},
   "outputs": [],
   "source": []
  }
 ],
 "metadata": {
  "kernelspec": {
   "display_name": "base",
   "language": "python",
   "name": "python3"
  },
  "language_info": {
   "codemirror_mode": {
    "name": "ipython",
    "version": 3
   },
   "file_extension": ".py",
   "mimetype": "text/x-python",
   "name": "python",
   "nbconvert_exporter": "python",
   "pygments_lexer": "ipython3",
   "version": "3.7.6"
  }
 },
 "nbformat": 4,
 "nbformat_minor": 2
}
